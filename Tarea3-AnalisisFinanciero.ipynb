{
 "cells": [
  {
   "cell_type": "markdown",
   "id": "40b26670-dd7f-4341-b3d8-7bab4301b23b",
   "metadata": {},
   "source": [
    "## Tarea 3: Analisis Financiero\n",
    "**Escenario**: Eres un Data Scientest trabajando para una empresa que da consultoría. Uno de tus compañeros del departamento de Auditorías te ha pedido que le ayudes a evaluar los estados financieros de la organización X.\n",
    "\n",
    "Te han proporcionado 2 vectores de datos del año fiscal:\n",
    "    1.- Ingresos mensuales\n",
    "    2.- Gastos mensuales\n",
    "Tu trabajo es obtener las siguientes métricas:\n",
    "\n",
    "  <html>  \n",
    "      <ul>\n",
    "        <li>Utilidad para cada mes</li>\n",
    "        <li>Utilidad Después de Impuestos(UDI) para cada mes (la tasa es del 30%</li>\n",
    "        <li>Margen de Utilidad para cada mes = UDI dividida entre los ingresos</li>\n",
    "          <li>Buenos meses:donde la UDI para el mes fue mayor que el promedio del año</li>\n",
    "          <li>Malos  meses:donde la UDI para el mes fue menor que el promedio del año</li>\n",
    "          <li>Mejor  mes:donde la UDI fue la máxima para el año </li>\n",
    "          <li>Peor   mes:donde la UDI fue la mínima para el año</li>\n",
    "    </ul></html>\n",
    "\n",
    "  "
   ]
  },
  {
   "cell_type": "markdown",
   "id": "c57f4cdf-543c-4ae0-af4a-a16da23c3382",
   "metadata": {},
   "source": [
    "El codigo tiene que cumplir:\n",
    "Todos los resultados deben ser presentados como vectores.\n",
    "Los resultados deben ser calculados usando una precisión de 0.01€, pero deben de ser presetandos en unidades de 1.000€(1k) sin puntos decimales.\n",
    "Los resultados para el margen de utilidad promedio deben de ser presentados en porcentaje (%) sin puntos decimales.\n",
    "*NOTA* tu compañero te ha comentado que está bien que el impuesto para cualquier mes puede ser negativo(en terminos contables, el impuesto negativo se traduciría a un activo por impuesto diferido)"
   ]
  },
  {
   "cell_type": "code",
   "execution_count": null,
   "id": "eb27911c-8ec4-4881-97d1-170b0ea06a0a",
   "metadata": {},
   "outputs": [],
   "source": [
    "#Datos para la tarea\n",
    "ingresos = [14574.49, 7606.46, 8611.41, 9175.41, 8058.65, 8105.44, 11496.28, 9766.09, 10305.32, 14379.96, 10713.97, 15433.50]\n",
    "gastos = [12051.82, 5695.07, 12319.20, 12089.72, 8658.57, 840.20, 3285.73, 5821.12, 6976.93, 16618.61, 10054.37, 3803.96]"
   ]
  },
  {
   "cell_type": "markdown",
   "id": "fae3e458-f3ee-4f6a-9d6a-c382e6343c48",
   "metadata": {},
   "source": [
    "---"
   ]
  },
  {
   "cell_type": "code",
   "execution_count": 12,
   "id": "c53a2b97-89b7-49fe-983b-67b825ec8087",
   "metadata": {},
   "outputs": [
    {
     "name": "stdout",
     "output_type": "stream",
     "text": [
      "[10, 40, 90]\n"
     ]
    }
   ],
   "source": [
    "# PISTA #1\n",
    "#operaciones con listas : multiplicar listas\n",
    "a =[2,4,6]\n",
    "b= [5,10,15]\n",
    "ab =[]  #creamos la lista vacia que va a recoger el resultado de la operaciones\n",
    "for i in range(0,len(a)):\n",
    "    ab.append(a[i]*b[i])\n",
    "print(ab)"
   ]
  },
  {
   "cell_type": "code",
   "execution_count": 16,
   "id": "d8598fc0-ed3c-4e6b-a2e7-7d3b1b082bd1",
   "metadata": {},
   "outputs": [
    {
     "name": "stdout",
     "output_type": "stream",
     "text": [
      "[4, 8, 12]\n"
     ]
    }
   ],
   "source": [
    "#list comprensión de listas, nos comprime sobre todo el código que escribimos\n",
    "# la comprensión de listas provee de una manera concisa para crear listas\n",
    "# Aplicaciones comunes: crear nuevas listas donde cada elto es el resultado de una operación sobre otra lista\n",
    "# es muy similar a las listas for.\n",
    "a_duplicada = [i * 2 for i in a]\n",
    "print(a_duplicada)"
   ]
  },
  {
   "cell_type": "code",
   "execution_count": null,
   "id": "fc7836b9-7e19-4658-a396-edfa9a8d1703",
   "metadata": {},
   "outputs": [],
   "source": [
    "#PISTA  para completar el reto se usa:\n",
    "# round(), mean(), max(), min()"
   ]
  },
  {
   "cell_type": "code",
   "execution_count": 4,
   "id": "dd1c85b1-9483-49d4-921d-5ee17a704160",
   "metadata": {},
   "outputs": [],
   "source": [
    "#PISTA 2: ARCHIVO PARA RELLENAR LOS ESPACIOS EN BLANCO  (Antes de este paso intentar por uno mismo)"
   ]
  },
  {
   "cell_type": "markdown",
   "id": "1fcde88c-cd9e-4f15-858e-bbe5c0eb0b0a",
   "metadata": {},
   "source": [
    "---"
   ]
  },
  {
   "cell_type": "markdown",
   "id": "f99c5e5d-1e37-4fd5-abd7-608bec11b13f",
   "metadata": {},
   "source": [
    "## RESPUESTA "
   ]
  },
  {
   "cell_type": "code",
   "execution_count": 7,
   "id": "ad154934-33b3-411d-8980-34a8c6cd9296",
   "metadata": {},
   "outputs": [],
   "source": [
    "#SOLUCION A LA TAREA 3\n",
    "#Datos\n",
    "ingresos = [14574.49, 7606.46, 8611.41, 9175.41, 8058.65, 8105.44, 11496.28, 9766.09, 10305.32, 14379.96, 10713.97, 15433.50]\n",
    "gastos = [12051.82, 5695.07, 12319.20, 12089.72, 8658.57, 840.20, 3285.73, 5821.12, 6976.93, 16618.61, 10054.37, 3803.96]\n",
    "meses = ['Enero','Febrero','Marzo','Abril','Mayo','Junio','Julio','Agosto','Septiembre','Octubre','Noviembre','Diciembre']"
   ]
  },
  {
   "cell_type": "code",
   "execution_count": 10,
   "id": "6b551a1f-bcbe-4b5e-b8a2-8cc5c4876ef4",
   "metadata": {},
   "outputs": [],
   "source": [
    "#CALCULAMOS LA utilidad (ingresos - gastos)\n",
    "utilidad = []\n",
    "for i in range(0, len(ingresos)):\n",
    "    utilidad.append(ingresos[i]-gastos[i])\n",
    "\n"
   ]
  },
  {
   "cell_type": "code",
   "execution_count": 14,
   "id": "ae3472d2-2428-4e14-b575-431c22fd01d6",
   "metadata": {},
   "outputs": [
    {
     "data": {
      "text/plain": [
       "[756.8,\n",
       " 573.42,\n",
       " -1112.34,\n",
       " -874.29,\n",
       " -179.98,\n",
       " 2179.57,\n",
       " 2463.17,\n",
       " 1183.49,\n",
       " 998.52,\n",
       " -671.6,\n",
       " 197.88,\n",
       " 3488.86]"
      ]
     },
     "execution_count": 14,
     "metadata": {},
     "output_type": "execute_result"
    }
   ],
   "source": [
    "#calculamos el impuesto (utilidad*0.30)\n",
    "impuesto = [round(i*0.3, 2) for i in utilidad]  #redondea al aplicar el calculo de impuestos.\n",
    "impuesto"
   ]
  },
  {
   "cell_type": "code",
   "execution_count": 16,
   "id": "9d269294-37c9-4e5c-86ba-e7ebe7ee50ae",
   "metadata": {},
   "outputs": [
    {
     "name": "stdout",
     "output_type": "stream",
     "text": [
      "[1765.8700000000001, 1337.9700000000003, -2595.4500000000007, -2040.0199999999995, -419.94000000000005, 5085.67, 5747.380000000001, 2761.4800000000005, 2329.8699999999994, -1567.0500000000015, 461.71999999999855, 8140.68]\n"
     ]
    }
   ],
   "source": [
    "#calculando la utilidad despue´s de impuestos (udi)\n",
    "udi = list()\n",
    "for i in range(0, len(utilidad)):\n",
    "    udi.append(utilidad[i]- impuesto[i])\n",
    "print(udi)"
   ]
  },
  {
   "cell_type": "code",
   "execution_count": 114,
   "id": "7dc4f624-0bff-4e93-b729-b59048f8e056",
   "metadata": {},
   "outputs": [
    {
     "name": "stdout",
     "output_type": "stream",
     "text": [
      "Margen de Utilidad después de impuestos:\n",
      "Enero ___ 12.0 %\n",
      "Febrero ___ 18.0 %\n",
      "Marzo ___ -30.0 %\n",
      "Abril ___ -22.0 %\n",
      "Mayo ___ -5.0 %\n",
      "Junio ___ 63.0 %\n",
      "Julio ___ 50.0 %\n",
      "Agosto ___ 28.0 %\n",
      "Septiembre ___ 23.0 %\n",
      "Octubre ___ -11.0 %\n",
      "Noviembre ___ 4.0 %\n",
      "Diciembre ___ 53.0 %\n"
     ]
    }
   ],
   "source": [
    "#calcular margen después de impuestos\n",
    "#en dos pasos\n",
    "margen_de_utilidad =[]\n",
    "for i in range(0, len(utilidad)):\n",
    "    margen_de_utilidad.append(udi[i]/ingresos[i])\n",
    "#rendondear\n",
    "margen_de_utilidad = [round(i*100,2) for i in margen_de_utilidad]\n",
    "print(\"Margen de Utilidad después de impuestos:\")\n",
    "for i in range(0, len(margen_de_utilidad)):    \n",
    "    print(meses[i],\"___\", margen_de_utilidad[i],\"%\")"
   ]
  },
  {
   "cell_type": "code",
   "execution_count": 30,
   "id": "a4abe639-d400-4fb6-8ca4-035fa8044bc9",
   "metadata": {},
   "outputs": [
    {
     "name": "stdout",
     "output_type": "stream",
     "text": [
      "1750.68\n"
     ]
    }
   ],
   "source": [
    "#PROMEDIO DE LA UTILIDAD DESPUES DE IMPUESTOS\n",
    "promedio_udi = sum(udi)/len(udi)\n",
    "print(round(promedio_udi,2))"
   ]
  },
  {
   "cell_type": "code",
   "execution_count": 124,
   "id": "3e1cee02-f1d4-4f2c-ad92-d14f3d22e255",
   "metadata": {},
   "outputs": [
    {
     "name": "stdout",
     "output_type": "stream",
     "text": [
      "[True, False, False, False, False, True, True, True, True, False, False, True]\n",
      "Meses Buenos:\n",
      "Enero\n",
      "Junio\n",
      "Julio\n",
      "Agosto\n",
      "Septiembre\n",
      "Diciembre\n"
     ]
    }
   ],
   "source": [
    "#Calculando los meses buenos (son los meses que están por encima del promedio_udi)\n",
    "\n",
    "meses_buenos = []\n",
    "for i in range(0,len(utilidad)):\n",
    "    meses_buenos.append(udi[i] > promedio_udi)\n",
    "\n",
    "print(meses_buenos)\n",
    "#Sacamos de la lista meses los meses que son buenos para detalle\n",
    "print(\"Meses Buenos:\")\n",
    "for i in range(len(meses_buenos)):    \n",
    "    if meses_buenos[i]:\n",
    "        print(meses[i])\n"
   ]
  },
  {
   "cell_type": "code",
   "execution_count": 60,
   "id": "1dff98a7-bbc8-4f9f-b890-e3dbf1486411",
   "metadata": {},
   "outputs": [
    {
     "name": "stdout",
     "output_type": "stream",
     "text": [
      "[False, True, True, True, True, False, False, False, False, True, True, False]\n",
      "Meses Malos:\n",
      "Febrero\n",
      "Marzo\n",
      "Abril\n",
      "Mayo\n",
      "Octubre\n",
      "Noviembre\n"
     ]
    }
   ],
   "source": [
    "#Calculando los meses malos\n",
    "meses_malos = []\n",
    "for i in range(0,len(utilidad)):\n",
    "    meses_malos.append(udi[i] < promedio_udi)\n",
    "\n",
    "print(meses_malos)\n",
    "#Sacamos de la lista meses los meses que son buenos para detalle\n",
    "print(\"Meses Malos:\")\n",
    "for i in range(len(meses_malos)):    \n",
    "    if meses_malos[i]:\n",
    "        print(meses[i])\n"
   ]
  },
  {
   "cell_type": "code",
   "execution_count": 126,
   "id": "d40b2c6d-391d-4327-9927-ba8075351801",
   "metadata": {},
   "outputs": [
    {
     "name": "stdout",
     "output_type": "stream",
     "text": [
      "MEJOR MES: DICIEMBRE\n"
     ]
    }
   ],
   "source": [
    "#Indicar cual fué el peor mes y cual es el mejor mes\n",
    "#mejor mes: usando la func max()\n",
    "mejor_mes = []\n",
    "for i in range(0,len(udi)):\n",
    "    mejor_mes.append(udi[i]== max(udi))\n",
    "mejor_mes  #nos devuelve todo False menos un true  \n",
    "\n",
    "for i in range(len(mejor_mes)):    \n",
    "    if mejor_mes[i]:\n",
    "        print(\"MEJOR MES:\", meses[i].upper())"
   ]
  },
  {
   "cell_type": "code",
   "execution_count": 74,
   "id": "0abbfa00-3c91-4c9d-a630-2c31f1df6e81",
   "metadata": {},
   "outputs": [
    {
     "name": "stdout",
     "output_type": "stream",
     "text": [
      "PEOR MES: MARZO\n"
     ]
    }
   ],
   "source": [
    "#mejor mes: usando la func min()\n",
    "peor_mes = []\n",
    "for i in range(0,len(udi)):\n",
    "    peor_mes.append(udi[i]== min(udi))\n",
    "peor_mes  #nos devuelve todo False menos un true  \n",
    "\n",
    "for i in range(len(peor_mes)):    \n",
    "    if peor_mes[i]:\n",
    "        print(\"PEOR MES:\", meses[i].upper())"
   ]
  },
  {
   "cell_type": "code",
   "execution_count": null,
   "id": "aa65c18d-4887-44d7-a4a3-ffde0f38a834",
   "metadata": {},
   "outputs": [],
   "source": [
    "#vamos a pasar los valores a unidades a 1k y quitando decimales."
   ]
  },
  {
   "cell_type": "code",
   "execution_count": 76,
   "id": "51f9eaaf-6ad7-4471-ad42-0f61d95f4928",
   "metadata": {},
   "outputs": [],
   "source": [
    "#tenemos varias listas de valores numéricos: ingresos, gastos, utilidad, udi"
   ]
  },
  {
   "cell_type": "code",
   "execution_count": 82,
   "id": "0280cd8c-ebdb-43bc-ac58-1dd4bbcea4c5",
   "metadata": {},
   "outputs": [],
   "source": [
    "ingresos_1k = [round(i/1000, 0) for i in ingresos]\n",
    "gastos_1k = [round(i/1000, 0) for i in gastos]\n",
    "utilidad_1k = [round(i/1000, 0) for i in utilidad]\n",
    "udi_1k = [round(i/1000, 0) for i in udi]\n",
    "\n",
    "#estos datos siguen siendo numero decimales, los pasamos a enteror con int()\n",
    "#sobreescribimos los listados.\n",
    "ingresos_1k = [int(i) for i in ingresos_1k]\n",
    "gastos_1k = [int(i) for i in gastos_1k]\n",
    "utilidad_1k = [int(i) for i in utilidad_1k]\n",
    "udi_1k = [int(i) for i in udi_1k]"
   ]
  },
  {
   "cell_type": "code",
   "execution_count": null,
   "id": "09a1e509-f770-4232-b38b-5a43b4d1e6b5",
   "metadata": {},
   "outputs": [],
   "source": [
    "#imprimir los resultados: "
   ]
  },
  {
   "cell_type": "code",
   "execution_count": 158,
   "id": "2314e0cd-3fba-4b0d-a8ec-f64e18c464a5",
   "metadata": {},
   "outputs": [],
   "source": [
    "#he modificado la presentación de resultado añadiendo los meses para su mejor interpretación"
   ]
  },
  {
   "cell_type": "code",
   "execution_count": 178,
   "id": "45420f66-e5e9-4885-bf8f-113a5c9f3dd1",
   "metadata": {},
   "outputs": [
    {
     "name": "stdout",
     "output_type": "stream",
     "text": [
      "\n",
      "\n",
      "\u001b[1mIngresos :\u001b[0m\n",
      "[15, 8, 9, 9, 8, 8, 11, 10, 10, 14, 11, 15]\n",
      "Enero 15, Febrero 8, Marzo 9, Abril 9, Mayo 8, Junio 8, Julio 11, Agosto 10, Septiembre 10, Octubre 14, Noviembre 11, Diciembre 15, \n",
      "\n",
      "\u001b[1mGastos en unidades de 1k €:\u001b[0m\n",
      "[12, 6, 12, 12, 9, 1, 3, 6, 7, 17, 10, 4]\n",
      "Enero 12, Febrero 6, Marzo 12, Abril 12, Mayo 9, Junio 1, Julio 3, Agosto 6, Septiembre 7, Octubre 17, Noviembre 10, Diciembre 4, \n",
      "\n",
      "\u001b[1mUtilidad unidades de 1k €:\u001b[0m :\n",
      "[3, 2, -4, -3, -1, 7, 8, 4, 3, -2, 1, 12]\n",
      "Enero 3, Febrero 2, Marzo -4, Abril -3, Mayo -1, Junio 7, Julio 8, Agosto 4, Septiembre 3, Octubre -2, Noviembre 1, Diciembre 12, \n",
      "\n",
      "\u001b[1mUtilidad Después de Impuestos :\u001b[0m\n",
      "Enero 2, Febrero 1, Marzo -3, Abril -2, Mayo 0, Junio 5, Julio 6, Agosto 3, Septiembre 2, Octubre -2, Noviembre 0, Diciembre 8, \n",
      "\n",
      "\u001b[1mMargen de Utilidad:\u001b[0m\n",
      "Enero 12.0%, Febrero 18.0%, Marzo -30.0%, Abril -22.0%, Mayo -5.0%, Junio 63.0%, Julio 50.0%, Agosto 28.0%, Septiembre 23.0%, Octubre -11.0%, Noviembre 4.0%, Diciembre 53.0%, \n",
      "\n",
      "\u001b[1mMeses Buenos:\u001b[0m\n",
      "Enero-Junio-Julio-Agosto-Septiembre-Diciembre-\n",
      "\n",
      "\u001b[1mMeses Malos:\u001b[0m\n",
      "Febrero-Marzo-Abril-Mayo-Octubre-Noviembre-\n",
      "\n",
      "\u001b[1mMEJOR MES:\u001b[0m \u001b[92m DICIEMBRE \u001b[0m\n",
      "\u001b[1mPEOR MES:\u001b[0m \u001b[91m MARZO \u001b[0m\n"
     ]
    }
   ],
   "source": [
    "print (\"\\n\\n\\033[1mIngresos :\\033[0m\") \n",
    "print (ingresos_1k)\n",
    "for i in range(0, len(ingresos_1k)):    \n",
    "    print(meses[i], ingresos_1k[i], end = \", \")\n",
    "\n",
    "print (\"\\n\\n\\033[1mGastos en unidades de 1k €:\\033[0m\") \n",
    "print (gastos_1k)\n",
    "for i in range(0, len(gastos_1k)):    \n",
    "    print(meses[i], gastos_1k[i], end = \", \")\n",
    "\n",
    "print (\"\\n\\n\\033[1mUtilidad unidades de 1k €:\\033[0m :\")\n",
    "print (utilidad_1k)\n",
    "for i in range(0, len(gastos_1k)):    \n",
    "    print(meses[i], utilidad_1k[i], end = \", \")\n",
    "\n",
    "print (\"\\n\\n\\033[1mUtilidad Después de Impuestos :\\033[0m\")\n",
    "for i in range(0, len(udi_1k)):    \n",
    "    print(meses[i], udi_1k[i], end = \", \")\n",
    "\n",
    "print (\"\\n\\n\\033[1mMargen de Utilidad:\\033[0m\")\n",
    "for i in range(0, len(margen_de_utilidad)):    \n",
    "    print(meses[i], margen_de_utilidad[i], end = \"%, \")\n",
    "\n",
    "\n",
    "print(\"\\n\\n\\033[1mMeses Buenos:\\033[0m\")\n",
    "for i in range(len(meses_buenos)):    \n",
    "    if meses_buenos[i]:\n",
    "        print(meses[i], end=\"-\")\n",
    "        \n",
    "print(\"\\n\\n\\033[1mMeses Malos:\\033[0m\")\n",
    "for i in range(len(meses_malos)):    \n",
    "    if meses_malos[i]:\n",
    "        print(meses[i], end =\"-\" )\n",
    "        \n",
    "for i in range(len(mejor_mes)):    \n",
    "    if mejor_mes[i]:\n",
    "        print(\"\\n\\n\\033[1mMEJOR MES:\\033[0m\",\"\\033[92m\", meses[i].upper(),\"\\033[0m\",)\n",
    "\n",
    "for i in range(len(peor_mes)):    \n",
    "    if peor_mes[i]:\n",
    "        print(\"\\033[1mPEOR MES:\\033[0m\", \"\\033[91m\",meses[i].upper(),\"\\033[0m\")"
   ]
  },
  {
   "cell_type": "code",
   "execution_count": null,
   "id": "91177e01-f7de-43b1-95ba-0c4fc3116fb1",
   "metadata": {},
   "outputs": [],
   "source": []
  },
  {
   "cell_type": "code",
   "execution_count": null,
   "id": "a03fa9bd-7f00-4cef-b0b1-b94e93745ad7",
   "metadata": {},
   "outputs": [],
   "source": []
  }
 ],
 "metadata": {
  "kernelspec": {
   "display_name": "Python 3 (ipykernel)",
   "language": "python",
   "name": "python3"
  },
  "language_info": {
   "codemirror_mode": {
    "name": "ipython",
    "version": 3
   },
   "file_extension": ".py",
   "mimetype": "text/x-python",
   "name": "python",
   "nbconvert_exporter": "python",
   "pygments_lexer": "ipython3",
   "version": "3.11.7"
  }
 },
 "nbformat": 4,
 "nbformat_minor": 5
}
