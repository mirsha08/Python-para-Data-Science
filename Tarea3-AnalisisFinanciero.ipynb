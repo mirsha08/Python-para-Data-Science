{
 "cells": [
  {
   "cell_type": "markdown",
   "id": "40b26670-dd7f-4341-b3d8-7bab4301b23b",
   "metadata": {},
   "source": [
    "## Tarea 3: Analisis Financiero\n",
    "**Escenario**: Eres un Data Scientest trabajando para una empresa que da consultoría. Uno de tus compañeros del departamento de Auditorías te ha pedido que le ayudes a evaluar los estados financieros de la organación X.\n",
    "\n",
    "Te han proporcionado 2 vectores de datos del año fiscal:\n",
    "    1.- Ingresos mensuales\n",
    "    2.- Gastos mensuales\n",
    "Tu trabajo es obtener las siguientes métricas:\n",
    "\n",
    "  <html>  \n",
    "      <ul>\n",
    "        <li>Utilidad para cada mes</li>\n",
    "        <li>Utilidad Después de Impuestos(UDI) para cada mes (la tasa es del 30%</li>\n",
    "        <li>Margen de Utilidaad para cada mes = UDI dividida entre los ingresos</li>\n",
    "          <li>Buenos meses:donde la UDI para el mes fue mayor que el promedio del año</li>\n",
    "          <li>Malos  meses:donde la UDI para el mes fue menor que el promedio del año</li>\n",
    "          <li>Mejor  mes:donde la UDI fue la máxima para el año </li>\n",
    "          <li>Peor   mes:donde la UDI fue la mínima para el año</li>\n",
    "    </ul></html>\n",
    "\n",
    "  "
   ]
  },
  {
   "cell_type": "markdown",
   "id": "c57f4cdf-543c-4ae0-af4a-a16da23c3382",
   "metadata": {},
   "source": [
    "El codigo tiene que cumplir:\n",
    "Todos los resultados deben ser presentados como vectores.\n",
    "Los resultados deben ser calculados usando una precisión de 0.01€, pero deben de ser presetandos en unidades de 1.000€(1k) sin puntos decimales.\n",
    "Los resultados para el margen de utilidad promedio deben de ser presentados en porcentaje (%) sin puntos decimales.\n",
    "*NOTA* tu compañero te ha comentado que está bien que el impuesto para cualquier mes puede ser negativo(en terminos contables, el impuesto negativo se traduciría a un activo por impuesto diferido)"
   ]
  },
  {
   "cell_type": "code",
   "execution_count": null,
   "id": "eb27911c-8ec4-4881-97d1-170b0ea06a0a",
   "metadata": {},
   "outputs": [],
   "source": [
    "#Datos para la tarea\n",
    "ingresos = [14574.49, 7606.46, 8611.41, 9175.41, 8058.65, 8105.44, 11496.28, 9766.09, 10305.32, 14379.96, 10713.97, 15433.50]\n",
    "gastos = [12051.82, 5695.07, 12319.20, 12089.72, 8658.57, 840.20, 3285.73, 5821.12, 6976.93, 16618.61, 10054.37, 3803.96]"
   ]
  },
  {
   "cell_type": "markdown",
   "id": "fae3e458-f3ee-4f6a-9d6a-c382e6343c48",
   "metadata": {},
   "source": [
    "---"
   ]
  },
  {
   "cell_type": "code",
   "execution_count": 12,
   "id": "c53a2b97-89b7-49fe-983b-67b825ec8087",
   "metadata": {},
   "outputs": [
    {
     "name": "stdout",
     "output_type": "stream",
     "text": [
      "[10, 40, 90]\n"
     ]
    }
   ],
   "source": [
    "# PISTA #1\n",
    "#operaciones con listas : multiplicar listas\n",
    "a =[2,4,6]\n",
    "b= [5,10,15]\n",
    "ab =[]  #creamos la lista vacia que va a recoger el resultado de la operaciones\n",
    "for i in range(0,len(a)):\n",
    "    ab.append(a[i]*b[i])\n",
    "print(ab)"
   ]
  },
  {
   "cell_type": "code",
   "execution_count": 16,
   "id": "d8598fc0-ed3c-4e6b-a2e7-7d3b1b082bd1",
   "metadata": {},
   "outputs": [
    {
     "name": "stdout",
     "output_type": "stream",
     "text": [
      "[4, 8, 12]\n"
     ]
    }
   ],
   "source": [
    "#list comprensión de listas, nos comprime sobre todo el código que escribimos\n",
    "# la comprensión de listas provee de una manera concisa para crear listas\n",
    "# Aplicaciones comunes: crear nuevas listas donde cada elto es el resultado de una operación sobre otra lista\n",
    "# es muy similar a las listas for.\n",
    "a_duplicada = [i * 2 for i in a]\n",
    "print(a_duplicada)"
   ]
  },
  {
   "cell_type": "code",
   "execution_count": null,
   "id": "fc7836b9-7e19-4658-a396-edfa9a8d1703",
   "metadata": {},
   "outputs": [],
   "source": [
    "#PISTA  para completar el reto se usa:\n",
    "# round(), mean(), max(), min()"
   ]
  },
  {
   "cell_type": "code",
   "execution_count": null,
   "id": "dd1c85b1-9483-49d4-921d-5ee17a704160",
   "metadata": {},
   "outputs": [],
   "source": [
    "#PISTA 2: ARCHIVO PARA RELLENAR LOS ESPACIOS EN BLANCO  (Antes de este paso intentar por uno mismo)"
   ]
  }
 ],
 "metadata": {
  "kernelspec": {
   "display_name": "Python 3 (ipykernel)",
   "language": "python",
   "name": "python3"
  },
  "language_info": {
   "codemirror_mode": {
    "name": "ipython",
    "version": 3
   },
   "file_extension": ".py",
   "mimetype": "text/x-python",
   "name": "python",
   "nbconvert_exporter": "python",
   "pygments_lexer": "ipython3",
   "version": "3.11.7"
  }
 },
 "nbformat": 4,
 "nbformat_minor": 5
}
