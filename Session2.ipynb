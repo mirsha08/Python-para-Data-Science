{
 "cells": [
  {
   "cell_type": "markdown",
   "id": "56e7cb5f-2e37-4664-bff2-735b09da2cba",
   "metadata": {},
   "source": [
    "# PROGRAMA DE INTELIGENCIA ARTIFICIAL | IBM SkillUp 2024\n",
    "\n",
    "<!-- Tabla con tres logos -->\n",
    "<table align=\"center\">\n",
    "    <tr>\n",
    "        <td><img src=\"images/ibm.jpg\" alt=\"IBM\" width=\"350\"></td>\n",
    "        <td><img src=\"images/skillup.jpeg\" alt=\"Skillup\" width=\"350\"></td>\n",
    "        <td><img src=\"images/python.jpeg\" alt=\"Python\" width=\"300\"></td>\n",
    "    </tr>\n",
    "</table>\n",
    "<br><br>\n",
    "\n",
    "\n",
    "\n",
    "\n",
    "\n",
    "# Fundamentos de Python y el Aprendizaje Automático\n",
    "\n",
    "Python es un lenguaje de programación versátil y ampliamente utilizado en el campo del aprendizaje automático por su simplicidad y potente ecosistema de bibliotecas. El aprendizaje automático, por su parte, es una rama de la inteligencia artificial que permite a los sistemas aprender y hacer predicciones a partir de datos. \n",
    "\n",
    "Utilizando algoritmos específicos, estos sistemas pueden identificar patrones y tomar decisiones sin estar explícitamente programados para cada tarea. **Python**, con sus bibliotecas como **NumPy**, **Pandas**, **scikit-learn**, **TensorFlow** y **PyTorch**, proporciona herramientas sólidas para implementar modelos de aprendizaje automático en una variedad de aplicaciones, desde la clasificación y regresión hasta la detección de anomalías y el agrupamiento de datos. \n",
    "\n",
    "El aprendizaje automático se divide principalmente en tres categorías:\n",
    "\n",
    "- **Aprendizaje supervisado:** utiliza datos etiquetados para entrenar modelos en tareas como clasificación y regresión.\n",
    "- **Aprendizaje no supervisado:** encuentra patrones ocultos en datos no etiquetados, como en el agrupamiento (**clustering**).\n",
    "- **Sistemas de recomendación:** sugiere productos, servicios o contenidos personalizados a los usuarios basándose en sus preferencias y comportamientos anteriores.\n",
    "- **Aprendizaje por refuerzo:** el modelo aprende a tomar decisiones mediante recompensas y penalizaciones, útil en áreas como juegos y robótica.\n",
    "<br><br>"
   ]
  },
  {
   "cell_type": "markdown",
   "id": "b96478f8-d436-4b41-975f-6a758fafaac7",
   "metadata": {},
   "source": [
    "## Aprendizaje supervisado (Supervised Learning)\n",
    "El **aprendizaje supervisado** es una técnica de aprendizaje automático en la que un modelo se entrena utilizando un conjunto de datos etiquetados, donde cada dato de entrada tiene una salida conocida asociada. El modelo aprende a predecir estas salidas ajustando sus parámetros internos para minimizar los errores de predicción. Este tipo de aprendizaje es fundamental para resolver problemas de clasificación y regresión.\n",
    "\n",
    "Tipos de aprendizaje supervisado:\n",
    "\n",
    "1.\t**Clasificación:** asigna una categoría o etiqueta a cada dato de entrada.\n",
    "    - Ejemplos:\n",
    "    \t- Clasificar correos electrónicos como “spam” o “no spam”.\n",
    "    \t- Identificar imágenes de gatos vs. perros.\n",
    "    - Aplicaciones: reconocimiento de voz, diagnóstico médico, clasificación de documentos.\n",
    "2. **Regresión:** predice un valor continuo a partir de las entradas de datos.\n",
    "    - Ejemplos:\n",
    "    \t- Estimar el precio de una casa según sus características.\n",
    "    \t- Predecir la temperatura futura basada en datos históricos.\n",
    "\t- Aplicaciones: predicción de precios, pronóstico del tiempo, análisis financiero.\n",
    "<br><br>\n"
   ]
  },
  {
   "cell_type": "markdown",
   "id": "e016f89b-1225-4c81-88a2-299a83d1d8c9",
   "metadata": {},
   "source": [
    "### Regresión lineal\n",
    "\n",
    "La regresión es un subcampo del aprendizaje automático cuyo proposito es predecir valores continuos a partir de ciertas entradas o variabl es descriptivas.\n",
    "Existen dos tipos de regressión, lineal (simple o múltiple) y no lineal.\n",
    "\n",
    "La regresión es usada para resolver problemas de la vida real, por ejemplo, predecir el precio de una casa a parte de su área en metros cuadrados, numerto de cuartos, etc. Tambien para predecir el número de ventas de un producto basado en la publicidad gastada o el número de consultas realizadas por los clientes sobre ese producto.\n",
    "\n",
    "La regresión lineal es aplicable si los datos disponibles se pueden representar mediante una línea, es decir, al mostrarlos en un gráfico tienen un comportamiento lineal. Si contamos con una variable descriptiva estamos ante una regresion lineal simple. \n",
    "\n",
    "La ecuación de la regresión lineal simple es:  \n",
    "***y = W<sub>0</sub> (intersección) + W<sub>1</sub> (pendiente) · X (variable independiente)***\n",
    "- x representa a la variable independiente e \"y\" la variable dependiente.\n",
    "- w0 y w1 son coeficientes o parámetros que debemos encontrar\n",
    "- Idealmente se busca que una línea pase lo más cerca posible de todos los puntos de datos\n",
    "<br>"
   ]
  },
  {
   "cell_type": "markdown",
   "id": "d8db80ba-b727-401a-92f8-ad0e9f383fe2",
   "metadata": {},
   "source": [
    "### Práctica 1: Regresión lineal con NumPy\n",
    "\n",
    "En esta práctica, aplicaremos la regresión lineal para predecir el precio de las casas basado en su área en metros cuadrados. Supondremos que tenemos datos históricos sobre el área de varias casas y sus precios de venta. Usaremos estos datos para entrenar un modelo que nos permita predecir el precio de nuevas casas en función de su área.\n",
    "\n",
    "Basándonos en la fórmula que hemos visto arriba:\n",
    "\n",
    "**y = W<sub>0</sub> + W<sub>1</sub> * X**\n",
    "\n",
    "- **Intersección** (W0): Es el precio base o el costo inicial de la casa antes de considerar el área. En nuestro ejemplo, supongamos que es 50,000€. Este valor podría incluir costos fijos como la ubicación, el terreno o los materiales básicos utilizados en la construcción.\n",
    "- **Pendiente** (W1): Indica cuánto aumenta el precio de la casa por cada metro cuadrado adicional. Por ejemplo, si la pendiente es 3,000€, significa que el precio de la casa aumenta en 3,000€ por cada metro cuadrado adicional.\n",
    "\n",
    "Ejemplo:\n",
    "\n",
    "- Precio inicial de una casa con 0 m² de área: Precio = 50,000 + 3,000 * 0 = 50,000 \n",
    "- Precio para una casa de 50 m²:  Precio = 50,000 + 3,000 * 50 = 200,000 \n",
    "- Precio para una casa de 100 m²: Precio = 50,000 + 3,000 * 100 = 350,000 \n",
    "\n",
    "\n"
   ]
  },
  {
   "cell_type": "markdown",
   "id": "a62ba8a5-faba-43af-8a6e-f49bf21d5265",
   "metadata": {},
   "source": [
    "#### 1. Generación de datos simulados\n",
    "En este paso, generaremos datos que simulan cómo el área de las casas afecta su precio. \n",
    "\n"
   ]
  },
  {
   "cell_type": "code",
   "execution_count": null,
   "id": "6daf21dc-04a6-4d2e-b883-f841e897f89f",
   "metadata": {
    "scrolled": true
   },
   "outputs": [],
   "source": [
    "import numpy as np  # Librería necesaria para trabajar con datos\n",
    "import matplotlib.pyplot as plt  # Librería necesaria para mostrar los datos\n",
    "\n",
    "# Fijar la semilla para obtener los mismos resultados cada vez\n",
    "np.random.seed(42)\n",
    "\n",
    "# Generar datos simulados: áreas de casas en metros cuadrados entre 50 y 150\n",
    "area_casas = 50 + 100 * np.random.rand(20, 1)  # Generar 20 puntos de datos entre 50 y 150 m²\n",
    "\n",
    "# El precio de las casas depende del área más un poco de variabilidad\n",
    "# Fórmula simple: precio = 50000 + 3000 * area + ruido\n",
    "precio_casas = 50000 + 3000 * area_casas + np.random.randn(20, 1) * 10000\n",
    "\n",
    "# Mostrar los datos en un gráfico\n",
    "plt.scatter(area_casas, precio_casas)\n",
    "plt.xlabel(\"Área de la Casa (m²)\")\n",
    "plt.ylabel(\"Precio de la Casa (€)\")\n",
    "plt.title(\"Precio de las Casas en función del Área\")\n",
    "plt.show()"
   ]
  },
  {
   "cell_type": "markdown",
   "id": "005bc87b-e94c-4c66-ac6b-256deccd52a4",
   "metadata": {},
   "source": [
    "#### 2. Implementación de la Regresión Lineal\n",
    "En esta etapa, calcularemos la línea de mejor ajuste que describe la relación entre el área de las casas y su precio. Esto se logra ajustando un modelo de regresión lineal simple a nuestros datos. \n",
    "\n",
    "\n"
   ]
  },
  {
   "cell_type": "code",
   "execution_count": null,
   "id": "cedc6ac0-1df5-4249-9b33-dfb77849b850",
   "metadata": {},
   "outputs": [],
   "source": [
    "# Agregamos una columna de unos al área para la fórmula de la línea (facilita el cálculo al incluir un término constante)\n",
    "area_casas_b = np.c_[np.ones((20, 1)), area_casas]\n",
    "\n",
    "# Calculamos los parámetros de la línea usando la ecuación normal\n",
    "# theta representa un vector que contiene los parámetros de la línea de regresión\n",
    "# es decir, los valores de ( W_0 ) y ( W_1 ).\n",
    "# theta = (X.T * X)^-1 * X.T * y\n",
    "theta_mejor = np.linalg.inv(area_casas_b.T @ area_casas_b) @ area_casas_b.T @ precio_casas\n",
    "\n",
    "# Mostrar los parámetros calculados (intersección y pendiente)\n",
    "print(\"Parámetros de la línea de mejor ajuste (theta):\", theta_mejor)"
   ]
  },
  {
   "cell_type": "markdown",
   "id": "9a378716-811c-41db-9881-78dd85303b66",
   "metadata": {},
   "source": [
    "#### 3. Predicciones\n",
    "Realizamos las predicciones de nuestro modelo."
   ]
  },
  {
   "cell_type": "code",
   "execution_count": null,
   "id": "c2bf8be3-1e6e-46bc-9fa0-ffaa59607c7e",
   "metadata": {},
   "outputs": [],
   "source": [
    "# Crear algunos nuevos datos de áreas de casas para predecir sus precios\n",
    "area_casas_nuevas = np.array([[50], [150]])\n",
    "\n",
    "# Agregar la columna de unos a estos nuevos datos\n",
    "area_casas_nuevas_b = np.c_[np.ones((2, 1)), area_casas_nuevas]\n",
    "\n",
    "# Calcular los precios predichos usando la línea de mejor ajuste\n",
    "precio_predicho = area_casas_nuevas_b @ theta_mejor\n",
    "\n",
    "# Dibujar la línea de regresión sobre el gráfico\n",
    "plt.plot(area_casas_nuevas, precio_predicho, \"r-\", label=\"Línea de regresión\")\n",
    "plt.scatter(area_casas, precio_casas)\n",
    "plt.xlabel(\"Área de la casa (m²)\")\n",
    "plt.ylabel(\"Precio de la casa (€)\")\n",
    "plt.legend()\n",
    "plt.title(\"Línea de regresión: precio vs área de la casa\")\n",
    "plt.show()"
   ]
  },
  {
   "cell_type": "markdown",
   "id": "6e429256-7999-4a73-ad0d-5e6e279051e0",
   "metadata": {},
   "source": [
    "### Clasificación\n",
    "La clasificación es un subcampo del aprendizaje automático enfocado en asignar etiquetas o categorías a entradas basadas en ciertas características descriptivas. Los algoritmos de clasificación son fundamentales para resolver problemas donde la salida es discreta, como decidir si un correo es spam o no, determinar si una imagen contiene un gato o un perro, o predecir si un cliente comprará un producto.\n",
    "\n",
    "Tipos de Clasificación:\n",
    "\n",
    "1. **Clasificación Binaria:**\n",
    "    - El objetivo es clasificar las entradas en una de dos posibles categorías.\n",
    "        - Ejemplos: diagnóstico médico (enfermo o sano), detección de fraude (fraudulento o no).\n",
    "2.\t**Clasificación Multiclase:**\n",
    "\t- Se extiende la clasificación a más de dos categorías.\n",
    "    \t- Ejemplos: clasificación de correos electrónicos (spam, social, promociones), reconocimiento de dígitos manuscritos (0-9).\n",
    "\n",
    "### Regresión Logística\n",
    "\n",
    "La regresión logística es particularmente útil para la clasificación binaria, donde se desea predecir la probabilidad de que una observación pertenezca a una de dos categorías. La salida de la regresión logística es una probabilidad entre 0 y 1, que luego se convierte en una clasificación utilizando un umbral (por ejemplo, 0.5).\n",
    "\n",
    "Ejemplos de Uso:\n",
    "- Clasificar correos electronicos como \"spam\" o \"no spam\" basándose en caracteristicas como el contenido dle mensaje, el remitente y la frecuencia de ciertas palabras.\n",
    "- Determinar si un paciente tiene una enfermeda basándose en síntomas y resultados de pruebas médicas.\n",
    "- Predecir si un cliente es buen o mal candidato para un préstamo basándose en su historial crediticio y otras caracteristicas.\n"
   ]
  },
  {
   "cell_type": "markdown",
   "id": "58b4070e-2d2b-4618-bfb9-b35d1671017e",
   "metadata": {},
   "source": [
    "### Práctica 2: Clasificación con scikit-learn: Regresión Logística\n",
    "Simulamos datos donde el nivel de glucosa en sangre se usa para predecir si un paciente tiene diabetes o no."
   ]
  },
  {
   "cell_type": "markdown",
   "id": "d13f405e-0d41-47e3-8d86-b3ba2a55a6bb",
   "metadata": {},
   "source": [
    "#### 1. Crear y visualizar los datos\n",
    "En este ejemplo, generaremos datos simples que relacionen el nivel de glucosa en sangre con el diagnóstico de diabetes (tener o no tener diabetes).\n"
   ]
  },
  {
   "cell_type": "code",
   "execution_count": null,
   "id": "d0342c9c-8702-4d0c-8ee9-4bdec8090c42",
   "metadata": {},
   "outputs": [],
   "source": [
    "# Importar las siguientes librerias\n",
    "import numpy as np\n",
    "import matplotlib.pyplot as plt\n",
    "import pandas as pd\n",
    "\n",
    "# Crear datos simples: nivel de glucosa en sangre y diagnóstico de diabetes (0 = No tiene diabetes, 1 = Tiene diabetes)\n",
    "# Supongamos que estos son los datos históricos que tenemos\n",
    "niveles_glucosa = np.array([80, 90, 100, 110, 120, 130, 140, 150, 160, 170])  # Niveles de glucosa en mg/dL\n",
    "diagnostico_diabetes = np.array([0, 0, 0, 0, 0, 1, 1, 1, 1, 1])  # 0 = No tiene diabetes, 1 = Tiene diabetes\n",
    "\n",
    "# Crear un DataFrame con estos datos\n",
    "df = pd.DataFrame({\n",
    "    'Nivel de Glucosa': niveles_glucosa,\n",
    "    'Diagnóstico de Diabetes': diagnostico_diabetes\n",
    "})\n",
    "\n",
    "# Mostrar los datos en un gráfico de dispersión\n",
    "plt.scatter(niveles_glucosa, diagnostico_diabetes, color='blue', label='Datos Reales')\n",
    "plt.xlabel(\"Nivel de Glucosa (mg/dL)\")\n",
    "plt.ylabel(\"Diagnóstico de diabetes (0 = No tiene diabetes, 1 = Tiene diabetes)\")\n",
    "plt.title(\"Diagnóstico de diabetes según nivel de glucosa en sangre\")\n",
    "plt.legend()\n",
    "plt.show()"
   ]
  },
  {
   "cell_type": "markdown",
   "id": "69e17b28-db9a-4118-8118-2cb65c6017cd",
   "metadata": {},
   "source": [
    "#### 2. Entrenar un modelo de Regresión Logística\n",
    "En esta sección, dividiremos los datos en conjuntos de entrenamiento y prueba, entrenaremos un modelo de regresión logística para predecir el diagnóstico de diabetes basado en el nivel de glucosa en sangre, y evaluaremos la precisión del modelo.\n"
   ]
  },
  {
   "cell_type": "code",
   "execution_count": null,
   "id": "8ca98cff-b7e8-48f1-a0e2-202a6fbf558d",
   "metadata": {},
   "outputs": [],
   "source": [
    "# Importar las siguientes librerias \n",
    "from sklearn.model_selection import train_test_split  # Importar la función para dividir los datos\n",
    "from sklearn.linear_model import LogisticRegression  # Importar el modelo de regresión logística\n",
    "from sklearn.metrics import accuracy_score  # Importar la métrica para evaluar la precisión\n",
    "\n",
    "# Dividir los datos en conjuntos de entrenamiento y prueba\n",
    "X = niveles_glucosa.reshape(-1, 1)  # Convertir niveles de glucosa en un formato de 2 dimensiones\n",
    "y = diagnostico_diabetes  # Etiquetas (0 = No tiene diabetes, 1 = Tiene diabetes)\n",
    "\n",
    "# Dividir los datos: 80% para entrenamiento, 20% para prueba\n",
    "X_train, X_test, y_train, y_test = train_test_split(X, y, test_size=0.2, random_state=42)\n",
    "\n",
    "# Crear y entrenar el modelo de regresión logística\n",
    "modelo_logistico = LogisticRegression()\n",
    "modelo_logistico.fit(X_train, y_train)\n",
    "\n",
    "# Hacer predicciones con el modelo entrenado\n",
    "y_pred = modelo_logistico.predict(X_test)\n",
    "\n",
    "# Evaluar la precisión del modelo\n",
    "precision = accuracy_score(y_test, y_pred)\n",
    "print(\"Precisión del modelo de regresión logística:\", precision)"
   ]
  },
  {
   "cell_type": "markdown",
   "id": "e4da7f0c-36d2-4a28-b103-f403b3193635",
   "metadata": {},
   "source": [
    "#### 3. Visualizar el Modelo y las Predicciones\n",
    "\n",
    "En esta etapa, visualizaremos cómo el modelo clasifica los datos y la curva que separa las dos clases (tener diabetes y no tener diabetes) según los niveles de glucosa en sangre.\n"
   ]
  },
  {
   "cell_type": "code",
   "execution_count": null,
   "id": "4af275d7-a466-4828-91bc-8938c74d4e82",
   "metadata": {},
   "outputs": [],
   "source": [
    "# Crear una secuencia de niveles de glucosa para mostrar la línea de decisión\n",
    "niveles_glucosa_nuevos = np.linspace(70, 180, 100).reshape(-1, 1)  # Crear 100 puntos entre 70 y 180 mg/dL\n",
    "\n",
    "# Predecir las probabilidades de tener diabetes para estos nuevos niveles de glucosa\n",
    "probabilidades = modelo_logistico.predict_proba(niveles_glucosa_nuevos)[:, 1]  # Obtener la probabilidad de tener diabetes (clase 1)\n",
    "\n",
    "# Dibujar la línea de decisión (probabilidad de tener diabetes)\n",
    "plt.plot(niveles_glucosa_nuevos, probabilidades, color='red', label='Línea de Decisión')\n",
    "plt.scatter(niveles_glucosa, diagnostico_diabetes, color='blue', label='Datos Reales')\n",
    "plt.xlabel(\"Nivel de Glucosa (mg/dL)\")\n",
    "plt.ylabel(\"Probabilidad de Tener Diabetes\")\n",
    "plt.title(\"Modelo de Regresión Logística: diagnóstico de Diabetes\")\n",
    "plt.legend()\n",
    "plt.show()"
   ]
  },
  {
   "cell_type": "markdown",
   "id": "fc63d7fa-511c-4c69-95c9-dea26b1420f4",
   "metadata": {},
   "source": [
    "## Aprendizaje no supervisado (Unsupervised Learning)\n",
    "El Aprendizaje no supervisado es una técnica de aprendizaje automático en la que un modelo se entrena con datos que no están etiquetados, es decir, sin salidas conocidas. El objetivo es descubrir patrones, estructuras ocultas o relaciones en los datos sin ninguna orientación previa. Esta técnica se utiliza principalmente para explorar datos, identificar grupos naturales, reducir la dimensionalidad y detectar anomalías.\n",
    "\n",
    "Tipos de aprendizaje no supervisado:\n",
    "\n",
    "1.\t**Agrupamiento (Clustering):** Organiza los datos en grupos o clusters basados en su similitud.\n",
    "- Ejemplos:\n",
    "\t- **K-Means:** agrupa puntos en K clusters basándose en la cercanía a los centros de los clusters.\n",
    "    - **Agrupamiento jerárquico:** crea una estructura de árbol de clusters, que puede dividirse de manera recursiva para formar una jerarquía.\n",
    "\t- **DBSCAN:** identifica clusters basados en la densidad de los puntos, permitiendo formas arbitrarias y detectando puntos de ruido.\n",
    "\n",
    "2.\t**Reducción de Dimensionalidad:** Simplifica los datos reduciendo el número de características mientras se conserva la información importante.\n",
    "<br><br>\n",
    "\n"
   ]
  },
  {
   "cell_type": "markdown",
   "id": "e8d06831-d51e-4656-85f6-2e113cd98cc0",
   "metadata": {},
   "source": [
    "### Practica 3: Agrupamiento (Clustering) \n",
    "El clustering es una técnica fundamental de aprendizaje no supervisado que se utiliza para agrupar datos en conjuntos (clusters) que contienen puntos similares. En lugar de depender de etiquetas predefinidas, el clustering busca identificar patrones y estructuras inherentes en los datos, agrupando elementos que son más cercanos o similares entre sí según alguna métrica de distancia o similitud. Esta técnica es invaluable en la exploración de datos y en la simplificación de la complejidad al dividir grandes conjuntos de datos en grupos más manejables. Clustering se aplica en diversas áreas como segmentación de mercado, análisis de comportamiento, detección de anomalías, y compresión de datos.\n",
    "<br>\n"
   ]
  },
  {
   "cell_type": "markdown",
   "id": "aaee4b46-4faf-4e94-9212-f03a457f594f",
   "metadata": {},
   "source": [
    "### K-MEANS\n",
    "K-Means es uno de los algoritmos de agrupamiento (clustering) más populares y simples en el aprendizaje automático. Su objetivo principal es dividir un conjunto de datos en K grupos (clusters), de modo que los puntos dentro de cada grupo sean más similares entre sí que con los puntos de otros grupos. Es ampliamente utilizado por su simplicidad y eficacia en la agrupación de datos en aplicaciones como segmentación de clientes, análisis de patrones y compresión de datos.\n",
    "\n",
    "Vamos a suponer que queremos agrupar varios puntos en el espacio basándonos en su proximidad, como si estuviéramos organizando niños en diferentes grupos en un patio de recreo según dónde están parados.\n"
   ]
  },
  {
   "cell_type": "markdown",
   "id": "0257c96c-07d0-426a-be7d-80d1f4361690",
   "metadata": {},
   "source": [
    "#### 1. Generamos datos simples que representan la posición de los niños en el patio de recreo.\n",
    "Vamos a crear y visualizar la posición de los niños en el patio como puntos en un gráfico.\n",
    "\n"
   ]
  },
  {
   "cell_type": "code",
   "execution_count": null,
   "id": "56328c0f-cb1c-4cb6-809e-877d227f5d75",
   "metadata": {},
   "outputs": [],
   "source": [
    "import numpy as np\n",
    "import matplotlib.pyplot as plt\n",
    "from sklearn.cluster import KMeans\n",
    "\n",
    "# Generar datos simulados (puntos) para el agrupamiento\n",
    "# Supongamos que estos puntos representan niños en un patio de recreo\n",
    "# Cada par de coordenadas entre los corchetes representa la posicion de un niño en el eje X e Y\n",
    "# X son las coordenadas de los puntos en el espacio\n",
    "X = np.array([\n",
    "    [1, 2], [1.5, 1.8], [5, 8], [8, 8], [1, 0.6],\n",
    "    [9, 11], [8, 2], [10, 2], [9, 3], [7, 8],\n",
    "    [7, 9], [8, 9], [0.5, 1], [1, 1.5], [6, 8],\n",
    "    [9, 9], [7, 3], [8, 4], [2, 2.5], [0.3, 0.5]\n",
    "])\n",
    "\n",
    "# Mostrar los datos en un gráfico de dispersión\n",
    "plt.scatter(X[:, 0], X[:, 1], s=100, color='blue', label='Niños en el Patio')\n",
    "plt.xlabel(\"Coordenada X\")\n",
    "plt.ylabel(\"Coordenada Y\")\n",
    "plt.title(\"Posición de los Niños en el Patio\")\n",
    "plt.legend()\n",
    "plt.show()\n"
   ]
  },
  {
   "cell_type": "markdown",
   "id": "82589fa9-02f4-4e7b-8955-1dbe4eef57a8",
   "metadata": {},
   "source": [
    "#### 2. Aplicando algoritmo K-MEANS\n",
    "Agruparemos puntos en 3 grupos y visualizaremos los resultados con colores y centros destacados.\n"
   ]
  },
  {
   "cell_type": "code",
   "execution_count": null,
   "id": "bca3a6cd-d4ae-4b24-8254-26c3de25e647",
   "metadata": {},
   "outputs": [],
   "source": [
    "# Crear un modelo K-Means para 3 grupos (clusters)\n",
    "# Supongamos que queremos dividir a los niños en 3 grupos basados en su proximidad\n",
    "kmeans = KMeans(n_clusters=3, n_init=10, random_state=0)  # Especificamos n_init=10\n",
    "\n",
    "# Ajustar el modelo a los datos (es decir, encontrar los grupos)\n",
    "kmeans.fit(X)\n",
    "\n",
    "# Predecir el grupo al que pertenece cada punto\n",
    "y_kmeans = kmeans.predict(X)\n",
    "\n",
    "# Mostrar los resultados de los grupos en un gráfico\n",
    "plt.scatter(X[:, 0], X[:, 1], c=y_kmeans, s=100, cmap='viridis', label='Niños Agrupados')\n",
    "centros = kmeans.cluster_centers_  # Obtener los centros de los clusters\n",
    "plt.scatter(centros[:, 0], centros[:, 1], c='red', s=300, alpha=0.75, label='Centros de los Grupos')\n",
    "plt.xlabel(\"Coordenada X\")\n",
    "plt.ylabel(\"Coordenada Y\")\n",
    "plt.title(\"Agrupamiento de niños en el patio con K-Means\")\n",
    "plt.legend()\n",
    "plt.show()"
   ]
  },
  {
   "cell_type": "markdown",
   "id": "14ebab2f-e7eb-43f6-80ee-de1be06456d3",
   "metadata": {},
   "source": [
    "### Agrupamiento Jerárquico (Hierarchical Clustering)\n",
    "¿Qué es el Agrupamiento Jerárquico?\n",
    "\n",
    "Es una técnica de agrupamiento que construye una jerarquía de clusters. A diferencia de K-Means, que forma un número fijo de clusters, el agrupamiento jerárquico organiza los datos en una estructura de árbol.\n",
    "El Dendrograma es una representación visual de la jerarquía de clusters. Muestra cómo se agrupan los puntos en diferentes niveles de similitud.\n",
    "\n",
    "Vamos a usar los mismos puntos de los niños y aplicar el agrupamiento jerárquico para ver cómo se agrupan en un dendrograma.\n",
    "\n",
    "- Utilizamos los puntos X que representan la posición de los niños en el patio de recreo.\n",
    "- Usamos linkage(X, method='ward') para calcular los enlaces jerárquicos. El método 'ward' se utiliza para minimizar la varianza dentro de cada grupo, lo que suele dar buenos resultados para datos que están bien distribuidos.\n",
    "- Usamos dendrogram(Z) para dibujar el dendrograma.\n",
    "- El dendrograma es un gráfico que muestra cómo se agrupan los puntos a diferentes niveles de similitud. Cuanto más baja sea la unión en el dendrograma, más similares son "
   ]
  },
  {
   "cell_type": "code",
   "execution_count": null,
   "id": "3cb148aa-aed4-4989-8d0a-b23645d52aaf",
   "metadata": {},
   "outputs": [],
   "source": [
    "import numpy as np\n",
    "import matplotlib.pyplot as plt\n",
    "from scipy.cluster.hierarchy import dendrogram, linkage  # Importar funciones para el agrupamiento jerárquico\n",
    "\n",
    "# Datos de los niños en el patio (mismos puntos que antes)\n",
    "# Cada par de coordenadas entre los corchetes representa la posicion de un niño en el eje X e Y\n",
    "X = np.array([\n",
    "    [1, 2], [1.5, 1.8], [5, 8], [8, 8], [1, 0.6],\n",
    "    [9, 11], [8, 2], [10, 2], [9, 3], [7, 8],\n",
    "    [7, 9], [8, 9], [0.5, 1], [1, 1.5], [6, 8],\n",
    "    [9, 9], [7, 3], [8, 4], [2, 2.5], [0.3, 0.5]\n",
    "])\n",
    "\n",
    "# Aplicar el agrupamiento jerárquico a los datos\n",
    "# El método 'ward' minimiza la varianza dentro de cada grupo\n",
    "Z = linkage(X, method='ward')\n",
    "\n",
    "# Visualizar el dendrograma, que muestra cómo se agrupan los puntos\n",
    "plt.figure(figsize=(10, 7))  # Ajustar el tamaño del gráfico\n",
    "dendrogram(Z)  # Dibujar el dendrograma\n",
    "plt.title(\"Dendrograma para el Agrupamiento Jerárquico\")  # Título del gráfico\n",
    "plt.xlabel(\"Índice de los Puntos\")  # Etiqueta del eje X\n",
    "plt.ylabel(\"Distancia\")  # Etiqueta del eje Y\n",
    "plt.show()  # Mostrar el gráfico"
   ]
  },
  {
   "cell_type": "markdown",
   "id": "1e866ea3-0a8c-418a-ac20-98ab1f856123",
   "metadata": {},
   "source": [
    "### Agrupamiento espacial basado en densidad de aplicaciones con ruido (DBSCAN)\n",
    "DBSCAN (Density-Based Spatial Clustering of Applications with Noise): Es un algoritmo de clustering que agrupa puntos basándose en la densidad local de los datos. Es particularmente útil para detectar clusters de forma arbitraria y para identificar puntos de ruido.\n",
    "\n",
    "Este ejemplo muestra cómo DBSCAN puede agrupar puntos en formas complejas como las lunas crecientes y menguantes, y cómo puede identificar puntos que no pertenecen a ningún grupo (ruido). Utilizamos un conjunto de datos visualmente interesante para ilustrar cómo DBSCAN funciona en la práctica.\n",
    "- Usamos make_moons para crear un conjunto de puntos que forman dos lunas crecientes. Esto crea una estructura de datos interesante donde los puntos forman dos clusters en forma de media luna.\n",
    "- noise=0.1 añade un poco de variabilidad, simulando ruido natural en los datos.\n",
    "- Creamos un modelo DBSCAN con eps=0.2 y min_samples=5.\n",
    "\n"
   ]
  },
  {
   "cell_type": "code",
   "execution_count": null,
   "id": "5345241b-61f4-45d2-b901-12e503560845",
   "metadata": {},
   "outputs": [],
   "source": [
    "import numpy as np\n",
    "import matplotlib.pyplot as plt\n",
    "from sklearn.cluster import DBSCAN\n",
    "from sklearn.datasets import make_moons  # Para generar datos en forma de lunas\n",
    "\n",
    "# Generar datos simulados en forma de lunas\n",
    "# Estos datos representan puntos que forman dos lunas crecientes con algo de ruido\n",
    "X, _ = make_moons(n_samples=300, noise=0.1, random_state=42)\n",
    "\n",
    "# Aplicar el algoritmo DBSCAN a los datos\n",
    "# eps es la distancia máxima para considerar dos puntos como vecinos\n",
    "# min_samples es el número mínimo de puntos necesarios para formar un cluster\n",
    "dbscan = DBSCAN(eps=0.2, min_samples=5)  # Ajustamos eps y min_samples para estos datos\n",
    "y_dbscan = dbscan.fit_predict(X)  # Ajustar el modelo y predecir los clusters para cada punto\n",
    "\n",
    "# Visualizar los clusters y los puntos de ruido\n",
    "plt.scatter(X[:, 0], X[:, 1], c=y_dbscan, s=50, cmap='viridis', label='Puntos Agrupados')\n",
    "plt.title(\"Agrupamiento DBSCAN de Puntos en Forma de Lunas Crecientes\")  # Título del gráfico\n",
    "plt.xlabel(\"Coordenada X\")\n",
    "plt.ylabel(\"Coordenada Y\")\n",
    "plt.legend()\n",
    "plt.show()  # Mostrar el gráfico\n",
    "\n",
    "# Mostrar los resultados de DBSCAN\n",
    "print(\"Etiquetas de los clusters asignadas por DBSCAN (incluyendo ruido, si hay):\")\n",
    "print(y_dbscan)\n"
   ]
  },
  {
   "cell_type": "markdown",
   "id": "d24262f4-db52-47ac-81de-9e0dca6fa94c",
   "metadata": {},
   "source": [
    "<br><br>\n",
    "## Sistemas de recomendación (Recommender Systems)\n",
    "\n",
    "Los sistemas de recomendación son una parte integral del aprendizaje automático, diseñados para sugerir productos, servicios o contenido a los usuarios basándose en sus preferencias y comportamientos previos. Utilizados ampliamente en la industria, estos sistemas personalizan la experiencia del usuario al predecir lo que podría interesarle, desde películas y música hasta productos de compra y artículos de lectura.\n",
    "\n",
    "Existen principalmente dos enfoques en los sistemas de recomendación: filtrado colaborativo y filtrado basado en contenido.\n",
    "\n",
    "1. **Filtrado colaborativo:** este método recomienda elementos basándose en las preferencias y comportamientos de otros usuarios similares.\n",
    "- Ejemplos:\n",
    "    - Netflix sugiere películas que otros usuarios con gustos similares han visto y calificado positivamente.\n",
    "\t- Amazon recomienda productos que otros compradores con intereses similares han comprado.\n",
    "   \n",
    "2. **Filtrado basado en contenido:** este enfoque se centra en recomendar elementos que sean similares a aquellos que el usuario ha mostrado interés en el pasado.\n",
    "  - Ejemplos:\n",
    "      - Spotify sugiere canciones que comparten características similares a las canciones que el usuario ha escuchado anteriormente.\n",
    "      - YouTube recomienda videos que son similares en tema o estilo a los videos que el usuario ha visto o buscado.\n",
    "\n"
   ]
  },
  {
   "cell_type": "markdown",
   "id": "0b264b23-502d-4a21-b76a-01f594d91be5",
   "metadata": {},
   "source": [
    "### Filtrado basado en contenido"
   ]
  },
  {
   "cell_type": "markdown",
   "id": "062d029e-5883-4e97-8bcb-080f00474faa",
   "metadata": {},
   "source": [
    "#### 1. Creamos un conjunto de datos simulado\n",
    "Creamos un conjunto de datos con 5 películas de cada género para establecer el sistema de recomendaciones."
   ]
  },
  {
   "cell_type": "code",
   "execution_count": null,
   "id": "b3aeb0fe-ad15-4f4e-b55d-b2a564c6305a",
   "metadata": {},
   "outputs": [],
   "source": [
    "import pandas as pd\n",
    "\n",
    "# Crear un DataFrame con información de películas y sus géneros\n",
    "peliculas = {\n",
    "    'titulo': ['La jungla de cristal', 'La guerra de las galaxias', 'El padrino', 'El caballero oscuro', 'Indiana Jones'],\n",
    "    'genero': ['Acción', 'Ciencia ficción', 'Drama', 'Acción', 'Acción']\n",
    "}\n",
    "\n",
    "df_peliculas = pd.DataFrame(peliculas)  # Convertir el diccionario en un DataFrame\n",
    "\n",
    "# Mostrar el DataFrame de películas para verificar que se creó correctamente\n",
    "df_peliculas.head()"
   ]
  },
  {
   "cell_type": "markdown",
   "id": "0012cab0-99c6-4805-88f8-cb6edf47e8bd",
   "metadata": {},
   "source": [
    "##### 2. Función de recomendación basada en género\n",
    "Desarrollaremos una función que recomienda películas basadas en el género de una película dada."
   ]
  },
  {
   "cell_type": "code",
   "execution_count": null,
   "id": "b7f619de-1d09-48e6-8467-2a10fb13023e",
   "metadata": {},
   "outputs": [],
   "source": [
    "def recomendar_peliculas(titulo_pelicula, df):\n",
    "    \"\"\"\n",
    "    Esta función recomienda películas basadas en el género de la película dada.\n",
    "    \n",
    "    titulo_pelicula: título de la película de referencia.\n",
    "    df: DataFrame que contiene información de películas y géneros.\n",
    "    \"\"\"\n",
    "    # Obtener el género de la película dada\n",
    "    genero_pelicula = df[df['titulo'] == titulo_pelicula]['genero'].values[0]\n",
    "    \n",
    "    # Encontrar otras películas del mismo género\n",
    "    recomendaciones = df[df['genero'] == genero_pelicula]['titulo'].tolist()\n",
    "    \n",
    "    # Remover la película de referencia de la lista de recomendaciones\n",
    "    recomendaciones.remove(titulo_pelicula)\n",
    "    \n",
    "    return recomendaciones\n",
    "\n",
    "# Probar la función de recomendación\n",
    "print(\"Recomendaciones para 'La jungla de cristal':\", recomendar_peliculas('La jungla de cristal', df_peliculas))"
   ]
  },
  {
   "cell_type": "markdown",
   "id": "2eeff720-7c48-4059-bd74-4f587772756c",
   "metadata": {},
   "source": [
    "### Filtrado colaborativo\n"
   ]
  },
  {
   "cell_type": "markdown",
   "id": "f12aac79-95f2-44c3-a13d-a0511b4ac075",
   "metadata": {},
   "source": [
    "#### 1. Creamos un conjunto de datos simulado de puntuaciones de usuarios\n",
    "\n",
    "Creamos un conjunto de datos donde los usuarios han puntuado varias películas, pero una lista de 15 de películas, con el fin de ver más claro el ejemplo."
   ]
  },
  {
   "cell_type": "code",
   "execution_count": null,
   "id": "4fccee1a-d426-48da-b163-679389d9e112",
   "metadata": {},
   "outputs": [],
   "source": [
    "import pandas as pd\n",
    "from sklearn.neighbors import NearestNeighbors\n",
    "pd.reset_option('display.max_rows')\n",
    "pd.reset_option('display.max_columns')\n",
    "\n",
    "# Crear un diccionario con puntuaciones de usuarios para diferentes películas\n",
    "puntuaciones = {\n",
    "    'Usuario': ['Usuario 1', 'Usuario 2', 'Usuario 3', 'Usuario 4', 'Usuario 5'],\n",
    "    'La jungla de cristal': [5, 4, 5, 5, 2],\n",
    "    'La guerra de las galaxias': [4, 5, 4, 4, 3],\n",
    "    'El padrino': [1, 0, 1, 1, 5],\n",
    "    'El caballero oscuro': [0, 1, 0, 0, 2],\n",
    "    'Indiana Jones': [2, 3, 2, 2, 4],\n",
    "    'Titanic': [5, 4, 5, 5, 2],\n",
    "    'Vengadores: Endgame': [0, 5, 4, 4, 5],\n",
    "    'El señor de los anillos': [3, 4, 3, 3, 5],\n",
    "    'Harry Potter': [5, 3, 5, 5, 5],\n",
    "    'Matrix': [4, 5, 4, 4, 3],\n",
    "    'Origen': [5, 4, 5, 5, 4],\n",
    "    'Gladiador': [3, 5, 3, 3, 3],\n",
    "    'La red social': [5, 4, 5, 5, 4],\n",
    "    'Cadena perpetua': [4, 5, 4, 4, 4],\n",
    "    'Forrest Gump': [5, 4, 5, 5, 5]\n",
    "}\n",
    "\n",
    "# Convertir el diccionario en un DataFrame y establecer el índice en 'Usuario'\n",
    "df_puntuaciones = pd.DataFrame(puntuaciones).set_index('Usuario')\n",
    "\n",
    "# Mostrar el DataFrame de puntuaciones para verificar que se creó correctamente\n",
    "print(\"DataFrame de Puntuaciones:\")\n",
    "df_puntuaciones.head()"
   ]
  },
  {
   "cell_type": "markdown",
   "id": "2c7ddb36-f598-428b-a9ba-aaf5c6c963bd",
   "metadata": {},
   "source": [
    "#### 2. Filtración colaborativa con vecinos más cercanos (Collaborative Filtering with Nearest Neighbors)\n",
    "\n",
    "Utilizaremos el algoritmo de vecinos más cercanos para encontrar usuarios similares y recomendar películas."
   ]
  },
  {
   "cell_type": "code",
   "execution_count": null,
   "id": "806fd784-430c-4ec7-8c78-3faa92e96de4",
   "metadata": {},
   "outputs": [],
   "source": [
    "from sklearn.neighbors import NearestNeighbors  # Importar la clase NearestNeighbors de scikit-learn\n",
    "\n",
    "# Crear el modelo de filtración colaborativa basado en vecinos más cercanos\n",
    "modelo_vecinos = NearestNeighbors(metric='cosine', algorithm='brute')  # Usar la distancia coseno como métrica de similitud\n",
    "modelo_vecinos.fit(df_puntuaciones.values)  # Ajustar el modelo a los datos de puntuaciones de los usuarios\n",
    "\n",
    "# Encontrar los usuarios más cercanos a 'Usuario 1'\n",
    "# Extraer los datos del 'Usuario 1' como array numpy \n",
    "datos_usuario_1 = df_puntuaciones.loc[['Usuario 1']].values  # .values convierte el DataFrame a array numpy\n",
    "\n",
    "# Encontrar los usuarios más cercanos a 'Usuario 1'\n",
    "distancias, indices = modelo_vecinos.kneighbors(datos_usuario_1, n_neighbors=3) # 3 vecinos más cercanos en gustos\n",
    "\n",
    "# Mostrar los usuarios más cercanos a 'Usuario 1'\n",
    "usuarios_cercanos = df_puntuaciones.index[indices.flatten()]\n",
    "\n",
    "# Obtener los nombres de los usuarios a partir de los índices\n",
    "print(\"Usuarios más cercanos a 'Usuario 1':\", list(usuarios_cercanos)) #hacemos un cast a una lista, para evitar imprimir la informacion del objeto"
   ]
  },
  {
   "cell_type": "markdown",
   "id": "ad553f74-a7b5-4367-bc90-b827d2437ab1",
   "metadata": {},
   "source": [
    "#### 3. Recomendación basada en vecinos cercanos (Nearest Neighbors Recommendation)\n",
    "Desarrollaremos una función para recomendar películas a un usuario basándonos en los usuarios más similares.\n"
   ]
  },
  {
   "cell_type": "code",
   "execution_count": null,
   "id": "fe66c8ec-7df4-4205-a804-27502d8bd11c",
   "metadata": {},
   "outputs": [],
   "source": [
    "def recomendar_basado_en_vecinos(usuario, df, modelo, n_vecinos=3):\n",
    "    \"\"\"\n",
    "    Recomienda películas a un usuario basado en los vecinos más cercanos.\n",
    "    \n",
    "    usuario: usuario de referencia.\n",
    "    df: DataFrame de puntuaciones de usuarios.\n",
    "    modelo: modelo de vecinos más cercanos ajustado a los datos de puntuaciones.\n",
    "    n_vecinos: número de vecinos a considerar.\n",
    "    \"\"\"\n",
    " # Extraer los datos del usuario como array numpy (sin nombres de características)\n",
    "    datos_usuario = df.loc[[usuario]].values\n",
    "    \n",
    "    # Encontrar los vecinos más cercanos al usuario especificado\n",
    "    distancias, indices = modelo.kneighbors(datos_usuario, n_neighbors=n_vecinos + 1)  # n_vecinos + 1 para excluir al propio usuario\n",
    "    \n",
    "    # Obtener los nombres de los vecinos más cercanos, excluyendo al propio usuario\n",
    "    usuarios_similares = df.index[indices.flatten()]\n",
    "    usuarios_similares = [u for u in usuarios_similares if u != usuario]\n",
    "    \n",
    "    # Sumar las puntuaciones de los vecinos más cercanos para cada película\n",
    "    puntuaciones_usuarios_similares = df.loc[usuarios_similares].sum(axis=0)\n",
    "    \n",
    "    # Borrar las películas que el usuario ya ha visto (con puntuaciones no cero)\n",
    "    peliculas_vistas = df.loc[usuario][df.loc[usuario] > 0].index.tolist()\n",
    "    recomendaciones = puntuaciones_usuarios_similares.drop(peliculas_vistas).sort_values(ascending=False)\n",
    "    \n",
    "    # Retornar las mejores recomendaciones (hasta 5 si existen)\n",
    "    return recomendaciones.head().index.tolist()\n",
    "\n",
    "# Probar la función de recomendación para 'Usuario 1'\n",
    "print(\"Recomendaciones para 'Usuario 1':\", recomendar_basado_en_vecinos('Usuario 1', df_puntuaciones, modelo_vecinos, n_vecinos = 2))"
   ]
  },
  {
   "cell_type": "code",
   "execution_count": null,
   "id": "2dd26b8a-9882-4cfc-a1e7-b35ab2af5ce1",
   "metadata": {},
   "outputs": [],
   "source": []
  }
 ],
 "metadata": {
  "kernelspec": {
   "display_name": "Python 3 (ipykernel)",
   "language": "python",
   "name": "python3"
  },
  "language_info": {
   "codemirror_mode": {
    "name": "ipython",
    "version": 3
   },
   "file_extension": ".py",
   "mimetype": "text/x-python",
   "name": "python",
   "nbconvert_exporter": "python",
   "pygments_lexer": "ipython3",
   "version": "3.11.7"
  }
 },
 "nbformat": 4,
 "nbformat_minor": 5
}
