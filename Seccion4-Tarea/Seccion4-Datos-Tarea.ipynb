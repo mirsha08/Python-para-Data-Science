{
 "cells": [
  {
   "cell_type": "markdown",
   "metadata": {},
   "source": [
    "## Sección 4 - Datos para la Tarea\n",
    "\n",
    "Querido estudiante,\n",
    "\n",
    "Bienvenido a la tarea para esta sección. En este documento encontrarás el set de datos que te servirá para completar la sección. \n",
    "\n",
    "**Instrucciones para este set de datos:**\n",
    "\n",
    "Solamente te han sido proporcionados los vectores. Tú deberás de crear las matrices por ti mismo. \n",
    "\n",
    "Matrices:\n",
    " - tiros_libres\n",
    " - tiros_libres_intentados\n",
    "\n",
    "Sinceramente, \n",
    "\n",
    "[Super Data Science](http://www.superdatascience.com)\n",
    "\n",
    "Copyright: Estos sets de datos han sido preparados con información disponible al público.\n",
    "           Sin embargo, estos scripts están sujetos a las leyes de Derecho de Autor.\n",
    "           Si desear utilizar estos scripts fuera del curso de Programación en Python\n",
    "           creado por Kirill Eremenko, lo puedes hacer referenciando www.superdatascience.com en tu trabajo. \n",
    "           \n",
    "*Comentarios:*\n",
    "\n",
    "Las temporadas están etiquetadas con el primer año de la temporada\n",
    "Ejemplo: la temporada 2012-2013 es presentada como 2012\n",
    "\n",
    "Notas adicionales:\n",
    " - Kevin Durant: 2006 - Datos de temporada universitaria\n",
    " - Kevin Durant: 2005 – Creada con datos  del 2006\n",
    " - Derrick Rose: 2012 – No jugó\n",
    " - Derrick Rose: 2007 - Datos de temporada universitaria\n",
    " - Derrick Rose: 2006 – Creada con datos de temporada 2007\n",
    " - Derrick Rose: 2005 – Creada con datos de temporada 2007"
   ]
  },
  {
   "cell_type": "code",
   "execution_count": null,
   "metadata": {
    "collapsed": true
   },
   "outputs": [],
   "source": [
    "#Temporadas\n",
    "temporadas = [\"2005\",\"2006\",\"2007\",\"2008\",\"2009\",\"2010\",\"2011\",\"2012\",\"2013\",\"2014\"]\n",
    "\n",
    "#Jugadores\n",
    "jugadoes = [\"KobeBryant\",\"JoeJohnson\",\"LeBronJames\",\"CarmeloAnthony\",\"DwightHoward\",\"ChrisBosh\",\"ChrisPaul\",\"KevinDurant\",\"DerrickRose\",\"DwayneWade\"]\n",
    "\n",
    "#Tiros Libres\n",
    "KobeBryant_tl = [696,667,623,483,439,483,381,525,18,196]\n",
    "JoeJohnson_tl = [261,235,316,299,220,195,158,132,159,141]\n",
    "LeBronJames_tl = [601,489,549,594,593,503,387,403,439,375]\n",
    "CarmeloAnthony_tl = [573,459,464,371,508,507,295,425,459,189]\n",
    "DwightHoward_tl = [356,390,529,504,483,546,281,355,349,143]\n",
    "ChrisBosh_tl = [474,463,472,504,470,384,229,241,223,179]\n",
    "ChrisPaul_tl = [394,292,332,455,161,337,260,286,295,289]\n",
    "KevinDurant_tl = [209,209,391,452,756,594,431,679,703,146]\n",
    "DerrickRose_tl = [146,146,146,197,259,476,194,0,27,152]\n",
    "DwayneWade_tl = [629,432,354,590,534,494,235,308,189,284]\n",
    "\n",
    "#Matriz\n",
    "#\n",
    "# <pon tu código aquí>\n",
    "#\n",
    "\n",
    "#Tiros Libres Intentados\n",
    "KobeBryant_tli = [819,768,742,564,541,583,451,626,21,241]\n",
    "JoeJohnson_tli = [330,314,379,362,269,243,186,161,195,176]\n",
    "LeBronJames_tli = [814,701,771,762,773,663,502,535,585,528]\n",
    "CarmeloAnthony_tli = [709,568,590,468,612,605,367,512,541,237]\n",
    "DwightHoward_tli = [598,666,897,849,816,916,572,721,638,271]\n",
    "ChrisBosh_tli = [581,590,559,617,590,471,279,302,272,232]\n",
    "ChrisPaul_tli = [465,357,390,524,190,384,302,323,345,321]\n",
    "KevinDurant_tli = [256,256,448,524,840,675,501,750,805,171]\n",
    "DerrickRose_tli = [205,205,205,250,338,555,239,0,32,187]\n",
    "DwayneWade_tli = [803,535,467,771,702,652,297,425,258,370]\n",
    "\n",
    "#Matriz\n",
    "#\n",
    "# <pon tu código aquí>\n",
    "#"
   ]
  },
  {
   "cell_type": "code",
   "execution_count": null,
   "metadata": {
    "collapsed": true
   },
   "outputs": [],
   "source": []
  }
 ],
 "metadata": {
  "anaconda-cloud": {},
  "kernelspec": {
   "display_name": "Python 3",
   "language": "python",
   "name": "python3"
  },
  "language_info": {
   "codemirror_mode": {
    "name": "ipython",
    "version": 3
   },
   "file_extension": ".py",
   "mimetype": "text/x-python",
   "name": "python",
   "nbconvert_exporter": "python",
   "pygments_lexer": "ipython3",
   "version": "3.7.3"
  }
 },
 "nbformat": 4,
 "nbformat_minor": 1
}
