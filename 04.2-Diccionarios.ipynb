{
 "cells": [
  {
   "cell_type": "markdown",
   "id": "308cd9be-1ebf-4f4c-a749-87cf36939ca6",
   "metadata": {},
   "source": [
    "# DICCIONARIOS"
   ]
  },
  {
   "cell_type": "markdown",
   "id": "cf21ab99-e73e-497c-8731-80ed6acc9c98",
   "metadata": {},
   "source": [
    "Cuando usamos matrices grandes, como en el caso de los dtos del 04-SetDatos.ipynb de los datos de jugadores NBA:\n",
    "\n",
    "Los diccionarios se crean con {} \n",
    "\n",
    "diccionario1 = {'clave1':'valor1','clave2':'valor2','clave3':'valor3'}\n",
    "\n",
    "Los diccionarios son como listas de elementos no ordenados\n",
    "Para acceder a sus elementos se usan las claves (etiqueta)"
   ]
  },
  {
   "cell_type": "code",
   "execution_count": 12,
   "id": "201d7833-6c87-451f-b585-11b10f0ef24c",
   "metadata": {},
   "outputs": [],
   "source": [
    "#lo primero importamos el numpy para trabajar con los datos\n",
    "import numpy as np"
   ]
  },
  {
   "cell_type": "code",
   "execution_count": 16,
   "id": "0212895d-3e58-4e68-85f0-db385bc9116e",
   "metadata": {},
   "outputs": [],
   "source": [
    "#en el caso de los datos de juegos:\n",
    "#Juegos \n",
    "KobeBryant_j = [80,77,82,82,73,82,58,78,6,35]\n",
    "JoeJohnson_j = [82,57,82,79,76,72,60,72,79,80]\n",
    "LeBronJames_j = [79,78,75,81,76,79,62,76,77,69]\n",
    "CarmeloAnthony_j = [80,65,77,66,69,77,55,67,77,40]\n",
    "DwightHoward_j = [82,82,82,79,82,78,54,76,71,41]\n",
    "ChrisBosh_j = [70,69,67,77,70,77,57,74,79,44]\n",
    "ChrisPaul_j = [78,64,80,78,45,80,60,70,62,82]\n",
    "KevinDurant_j = [35,35,80,74,82,78,66,81,81,27]\n",
    "DerrickRose_j = [40,40,40,81,78,81,39,0,10,51]\n",
    "DwayneWade_j = [75,51,51,79,77,76,49,69,54,62]\n",
    "#Matrix\n",
    "juegos = np.array([KobeBryant_j, JoeJohnson_j, LeBronJames_j, CarmeloAnthony_j, DwightHoward_j, ChrisBosh_j, ChrisPaul_j, KevinDurant_j, DerrickRose_j, DwayneWade_j])\n"
   ]
  },
  {
   "cell_type": "code",
   "execution_count": 18,
   "id": "42a1b03b-eb60-4495-9c6b-a28d653d09fe",
   "metadata": {},
   "outputs": [
    {
     "name": "stdout",
     "output_type": "stream",
     "text": [
      "[[80 77 82 82 73 82 58 78  6 35]\n",
      " [82 57 82 79 76 72 60 72 79 80]\n",
      " [79 78 75 81 76 79 62 76 77 69]\n",
      " [80 65 77 66 69 77 55 67 77 40]\n",
      " [82 82 82 79 82 78 54 76 71 41]\n",
      " [70 69 67 77 70 77 57 74 79 44]\n",
      " [78 64 80 78 45 80 60 70 62 82]\n",
      " [35 35 80 74 82 78 66 81 81 27]\n",
      " [40 40 40 81 78 81 39  0 10 51]\n",
      " [75 51 51 79 77 76 49 69 54 62]]\n"
     ]
    }
   ],
   "source": [
    "print(juegos)"
   ]
  },
  {
   "cell_type": "code",
   "execution_count": 22,
   "id": "74dd05bc-997c-444b-9256-6bc2f488807f",
   "metadata": {},
   "outputs": [
    {
     "name": "stdout",
     "output_type": "stream",
     "text": [
      "40\n"
     ]
    }
   ],
   "source": [
    "#Para buscar el ultimo dato de jugador CarmloAntony \n",
    "#CarmeloAnthony_j = [80,65,77,66,69,77,55,67,77,40]\n",
    "#había que saber que sus datos son la fila 3 de la matriz juegos\n",
    "#y el último dato lo localizamos con la indexación negativa\n",
    "print(juegos[3,-1])"
   ]
  },
  {
   "cell_type": "markdown",
   "id": "6af4fe95-0e60-4ca8-8d27-cabce5307b16",
   "metadata": {},
   "source": [
    " cada fila es un jugador y para buscar un dato de un jugaador tendriamos que saber que posición ocupa en la matriz \n",
    "y luego saber que dato queremos en qué columna se encuentra, para evitar esto usamos **DICCIONARIOS**\n",
    "En R sí que tienen columnas con nombres y se pueden asignar a los jugadores, en este caso, y es más facil.\n"
   ]
  },
  {
   "cell_type": "markdown",
   "id": "f2626fcf-3462-484e-b607-f7381ac22d0a",
   "metadata": {},
   "source": [
    "---"
   ]
  },
  {
   "cell_type": "code",
   "execution_count": 27,
   "id": "8a335d30-c4cf-49ed-947e-8c2a353d31ff",
   "metadata": {},
   "outputs": [],
   "source": [
    "diccionario1 = {'clave1':'valor1','clave2':'valor2','clave3':'valor3'}"
   ]
  },
  {
   "cell_type": "code",
   "execution_count": 32,
   "id": "cbc5d034-f5a2-418f-aa6c-9e76b5c9634b",
   "metadata": {},
   "outputs": [
    {
     "data": {
      "text/plain": [
       "'valor2'"
      ]
     },
     "execution_count": 32,
     "metadata": {},
     "output_type": "execute_result"
    }
   ],
   "source": [
    "diccionario1['clave2']"
   ]
  },
  {
   "cell_type": "code",
   "execution_count": 34,
   "id": "7f9dbee7-dafe-48ea-8b2f-36c9599bd808",
   "metadata": {},
   "outputs": [],
   "source": [
    "dicc2 ={'Chile':'Valor chile','España':'€','Colombia':500}\n",
    "#pueden tener diferentes tipos de datos"
   ]
  },
  {
   "cell_type": "code",
   "execution_count": 40,
   "id": "86e0fbba-0524-48ee-8538-507133b139cd",
   "metadata": {},
   "outputs": [
    {
     "data": {
      "text/plain": [
       "'€'"
      ]
     },
     "execution_count": 40,
     "metadata": {},
     "output_type": "execute_result"
    }
   ],
   "source": [
    "dicc2['España']"
   ]
  },
  {
   "cell_type": "code",
   "execution_count": 42,
   "id": "8a78bff6-33ca-4f12-b683-a6a095fad577",
   "metadata": {},
   "outputs": [],
   "source": [
    "#En el setData tenemos 2 diccionarios, el dic_temp que nos asigna un valor a cada año y dic_jug que asigna una fila a cada jugador\n",
    "#Temporadas\n",
    "temporadas = [\"2005\",\"2006\",\"2007\",\"2008\",\"2009\",\"2010\",\"2011\",\"2012\",\"2013\",\"2014\"]\n",
    "dic_temp = {\"2005\":0,\"2006\":1,\"2007\":2,\"2008\":3,\"2009\":4,\"2010\":5,\"2011\":6,\"2012\":7,\"2013\":8,\"2014\":9}\n",
    "\n",
    "#Jugadores\n",
    "jugadores = [\"KobeBryant\",\"JoeJohnson\",\"LeBronJames\",\"CarmeloAnthony\",\"DwightHoward\",\"ChrisBosh\",\"ChrisPaul\",\"KevinDurant\",\"DerrickRose\",\"DwayneWade\"]\n",
    "dic_jug = {\"KobeBryant\":0,\"JoeJohnson\":1,\"LeBronJames\":2,\"CarmeloAnthony\":3,\"DwightHoward\":4,\"ChrisBosh\":5,\"ChrisPaul\":6,\"KevinDurant\":7,\"DerrickRose\":8,\"DwayneWade\":9}\n"
   ]
  },
  {
   "cell_type": "code",
   "execution_count": 44,
   "id": "d7a6228c-e7c2-4f53-b512-0e7f3a4999f4",
   "metadata": {},
   "outputs": [
    {
     "name": "stdout",
     "output_type": "stream",
     "text": [
      "3\n"
     ]
    }
   ],
   "source": [
    "#posicion  de la temporada 2008?:\n",
    "print(dic_temp['2008']) \n"
   ]
  },
  {
   "cell_type": "code",
   "execution_count": null,
   "id": "973c4d66-aec9-45fb-8c45-9f20ef67bc9b",
   "metadata": {},
   "outputs": [],
   "source": [
    "#así sabemos que en la posicion 3 está la temporada buscada"
   ]
  },
  {
   "cell_type": "code",
   "execution_count": 46,
   "id": "f6f6419b-ee76-4b9f-b923-52618c858708",
   "metadata": {},
   "outputs": [
    {
     "name": "stdout",
     "output_type": "stream",
     "text": [
      "0\n"
     ]
    }
   ],
   "source": [
    "print(dic_jug['KobeBryant'])"
   ]
  },
  {
   "cell_type": "code",
   "execution_count": 48,
   "id": "4ce1a9b0-cd70-4aab-821c-4fee9fa0a647",
   "metadata": {},
   "outputs": [
    {
     "data": {
      "text/plain": [
       "82"
      ]
     },
     "execution_count": 48,
     "metadata": {},
     "output_type": "execute_result"
    }
   ],
   "source": [
    "#Sabiendo ya que el jugador tiene la fila 0 y la temporada es la 3:\n",
    "juegos[0,3]\n"
   ]
  },
  {
   "cell_type": "code",
   "execution_count": 50,
   "id": "476dcd30-52e5-429d-a62b-0553617510e4",
   "metadata": {},
   "outputs": [
    {
     "data": {
      "text/plain": [
       "40"
      ]
     },
     "execution_count": 50,
     "metadata": {},
     "output_type": "execute_result"
    }
   ],
   "source": [
    "juegos[dic_jug['DerrickRose'],dic_temp['2006']]  #combinamos la buscada indexada de jugador y temporada usando diccionarios"
   ]
  },
  {
   "cell_type": "code",
   "execution_count": 68,
   "id": "69fdec9d-b3e7-4b78-a567-cf34be326e5d",
   "metadata": {},
   "outputs": [
    {
     "data": {
      "text/plain": [
       "76"
      ]
     },
     "execution_count": 68,
     "metadata": {},
     "output_type": "execute_result"
    }
   ],
   "source": [
    "juegos[dic_jug['DwightHoward']][dic_temp['2012']]  #tambien se puede poner así juegos[][]\n",
    "#juegos[4][7]  # es igual que juegos[4,7]"
   ]
  },
  {
   "cell_type": "code",
   "execution_count": null,
   "id": "5580576f-f23e-4c32-ae45-50426eef8d5b",
   "metadata": {},
   "outputs": [],
   "source": [
    "#como en python las matrices no tienen nombre de filas o columnas se usan dicc para asignar nombres para su busqueda"
   ]
  },
  {
   "cell_type": "code",
   "execution_count": null,
   "id": "b4b8e170-d5b2-49d1-8a43-444ec17a6396",
   "metadata": {},
   "outputs": [],
   "source": []
  }
 ],
 "metadata": {
  "kernelspec": {
   "display_name": "Python 3 (ipykernel)",
   "language": "python",
   "name": "python3"
  },
  "language_info": {
   "codemirror_mode": {
    "name": "ipython",
    "version": 3
   },
   "file_extension": ".py",
   "mimetype": "text/x-python",
   "name": "python",
   "nbconvert_exporter": "python",
   "pygments_lexer": "ipython3",
   "version": "3.11.7"
  }
 },
 "nbformat": 4,
 "nbformat_minor": 5
}
