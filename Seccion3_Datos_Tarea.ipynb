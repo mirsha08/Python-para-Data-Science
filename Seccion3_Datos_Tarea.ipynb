{
 "cells": [
  {
   "cell_type": "code",
   "execution_count": 30,
   "metadata": {},
   "outputs": [],
   "source": [
    "#Datos\n",
    "ingresos = [14574.49, 7606.46, 8611.41, 9175.41, 8058.65, 8105.44, 11496.28, 9766.09, 10305.32, 14379.96, 10713.97, 15433.50]\n",
    "gastos = [12051.82, 5695.07, 12319.20, 12089.72, 8658.57, 840.20, 3285.73, 5821.12, 6976.93, 16618.61, 10054.37, 3803.96]\n",
    "meses = ['Enero','Febrero','Marzo','Abril','Mayo','Junio','Julio','Agosto','Septiembre','Octubre','Noviembre','Diciembre']"
   ]
  },
  {
   "cell_type": "code",
   "execution_count": 14,
   "metadata": {},
   "outputs": [],
   "source": [
    "#calculo de la utilidad (ingresos - gastos)\n",
    "utilidad = []\n",
    "for i in range(0,len(ingresos)):\n",
    "    utilidad.append(ingresos[i]-gastos[i])\n"
   ]
  },
  {
   "cell_type": "code",
   "execution_count": 20,
   "metadata": {},
   "outputs": [
    {
     "name": "stdout",
     "output_type": "stream",
     "text": [
      "[2522.67, 1911.39, -3707.79, -2914.31, -599.92, 7265.24, 8210.55, 3944.97, 3328.39, -2238.65, 659.6, 11629.54]\n"
     ]
    }
   ],
   "source": [
    "#reondear resultados\n",
    "#redondear todos los elementos de una lista, puedes usar la función map() junto con round()\n",
    "#El uso de map() junto con lambda nos permite aplicar la función `round()` a cada elemento de la lista\n",
    "utilidad_redon = list(map(lambda x:round(x,2), utilidad))\n",
    "print(utilidad_redon)"
   ]
  },
  {
   "cell_type": "code",
   "execution_count": null,
   "metadata": {},
   "outputs": [],
   "source": []
  },
  {
   "cell_type": "code",
   "execution_count": 58,
   "metadata": {},
   "outputs": [
    {
     "name": "stdout",
     "output_type": "stream",
     "text": [
      "[756.8, 573.42, -1112.34, -874.29, -179.98, 2179.57, 2463.17, 1183.49, 998.52, -671.6, 197.88, 3488.86]\n",
      "[756.8, 573.42, -1112.34, -874.29, -179.98, 2179.57, 2463.17, 1183.49, 998.52, -671.6, 197.88, 3488.86]\n"
     ]
    }
   ],
   "source": [
    "#utilidad después de impuestos: tasa 30% \n",
    "#metemos el reondeo en la creación de la lista UDI\n",
    "UDI =list(map(lambda x:round(x,2),[i *0.30 for i in utilidad]))\n",
    "#otro modo mas eficiente\n",
    "impuesto = [round(i*0.3, 2) for i in utilidad]  #redondea al aplicar el calculo de impuestos.\n",
    "print(impuesto)\n",
    "print(UDI)"
   ]
  },
  {
   "cell_type": "code",
   "execution_count": null,
   "metadata": {},
   "outputs": [],
   "source": []
  },
  {
   "cell_type": "code",
   "execution_count": 36,
   "metadata": {},
   "outputs": [
    {
     "name": "stdout",
     "output_type": "stream",
     "text": [
      "Enero ___ 756.8 €\n",
      "Febrero ___ 573.42 €\n",
      "Marzo ___ -1112.34 €\n",
      "Abril ___ -874.29 €\n",
      "Mayo ___ -179.98 €\n",
      "Junio ___ 2179.57 €\n",
      "Julio ___ 2463.17 €\n",
      "Agosto ___ 1183.49 €\n",
      "Septiembre ___ 998.52 €\n",
      "Octubre ___ -671.6 €\n",
      "Noviembre ___ 197.88 €\n",
      "Diciembre ___ 3488.86 €\n"
     ]
    }
   ],
   "source": [
    "#imprimimos el UDI correspondiente a cada mes.\n",
    "for i in range(0, len(UDI)):\n",
    "    print(meses[i],\"___\", UDI[i],\"€\")"
   ]
  },
  {
   "cell_type": "code",
   "execution_count": 56,
   "metadata": {},
   "outputs": [
    {
     "name": "stdout",
     "output_type": "stream",
     "text": [
      "Margen de Utilidad para cada mes:\n",
      "Enero ___ 5 %\n",
      "Febrero ___ 7 %\n",
      "Marzo ___ -12 %\n",
      "Abril ___ -9 %\n",
      "Mayo ___ -2 %\n",
      "Junio ___ 26 %\n",
      "Julio ___ 21 %\n",
      "Agosto ___ 12 %\n",
      "Septiembre ___ 9 %\n",
      "Octubre ___ -4 %\n",
      "Noviembre ___ 1 %\n",
      "Diciembre ___ 22 %\n"
     ]
    }
   ],
   "source": [
    "#Margen de Utilidad para cada mes (UDI/ingresos)\n",
    "margen_utilidad = []\n",
    "for i in range(0,len(UDI)):\n",
    "    margen_utilidad.append(int((UDI[i]/ingresos[i])*100))\n",
    "    \n",
    "margen_utilidad_R =list(map(lambda x:round(x,0),margen_utilidad))\n",
    "\n",
    "print(\"Margen de Utilidad para cada mes:\")\n",
    "for i in range(0, len(UDI)):\n",
    "    \n",
    "    print(meses[i],\"___\", margen_utilidad_R[i],\"%\")"
   ]
  },
  {
   "cell_type": "code",
   "execution_count": null,
   "metadata": {},
   "outputs": [],
   "source": []
  },
  {
   "cell_type": "code",
   "execution_count": null,
   "metadata": {},
   "outputs": [],
   "source": []
  },
  {
   "cell_type": "code",
   "execution_count": null,
   "metadata": {},
   "outputs": [],
   "source": []
  },
  {
   "cell_type": "code",
   "execution_count": null,
   "metadata": {},
   "outputs": [],
   "source": []
  },
  {
   "cell_type": "code",
   "execution_count": null,
   "metadata": {},
   "outputs": [],
   "source": []
  },
  {
   "cell_type": "code",
   "execution_count": null,
   "metadata": {},
   "outputs": [],
   "source": []
  },
  {
   "cell_type": "code",
   "execution_count": null,
   "metadata": {},
   "outputs": [],
   "source": []
  },
  {
   "cell_type": "code",
   "execution_count": null,
   "metadata": {},
   "outputs": [],
   "source": []
  },
  {
   "cell_type": "code",
   "execution_count": null,
   "metadata": {},
   "outputs": [],
   "source": []
  }
 ],
 "metadata": {
  "kernelspec": {
   "display_name": "Python 3 (ipykernel)",
   "language": "python",
   "name": "python3"
  },
  "language_info": {
   "codemirror_mode": {
    "name": "ipython",
    "version": 3
   },
   "file_extension": ".py",
   "mimetype": "text/x-python",
   "name": "python",
   "nbconvert_exporter": "python",
   "pygments_lexer": "ipython3",
   "version": "3.11.7"
  }
 },
 "nbformat": 4,
 "nbformat_minor": 4
}
