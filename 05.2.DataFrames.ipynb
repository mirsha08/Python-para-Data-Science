{
 "cells": [
  {
   "cell_type": "markdown",
   "id": "7e555d76-9345-4e9d-a369-028bbe55e9d5",
   "metadata": {},
   "source": [
    "## SUBCONJUNTOS DE DATAFRAMES EN PANDAS.\n",
    "\n",
    "importamos panda y os para indicar la carpeta a trabajar con los datos. \n",
    "Tambien cambiamos el name de las columns para que sea  más limpio:"
   ]
  },
  {
   "cell_type": "code",
   "execution_count": 8,
   "id": "f71494c9-750f-4862-aaac-8ea42cdda719",
   "metadata": {},
   "outputs": [],
   "source": [
    "import pandas as pd"
   ]
  },
  {
   "cell_type": "code",
   "execution_count": 10,
   "id": "153ac4da-68ef-4d31-b020-9a8e25f89184",
   "metadata": {},
   "outputs": [],
   "source": [
    "import os"
   ]
  },
  {
   "cell_type": "code",
   "execution_count": 12,
   "id": "5bd3f966-c0f4-465d-b7f6-6c4164f79b54",
   "metadata": {},
   "outputs": [
    {
     "name": "stdout",
     "output_type": "stream",
     "text": [
      "C:\\Users\\CPU\\Jupiter-docus\n"
     ]
    }
   ],
   "source": [
    "print(os.getcwd())"
   ]
  },
  {
   "cell_type": "code",
   "execution_count": 14,
   "id": "a12da268-7c2b-4ee7-90ef-87fe950c5eca",
   "metadata": {},
   "outputs": [],
   "source": [
    "os.chdir('C:\\\\Users\\\\CPU\\\\Jupiter-docus\\\\Seccion5-Datos')"
   ]
  },
  {
   "cell_type": "code",
   "execution_count": 22,
   "id": "f9b316ea-33c0-4309-a46e-f0affbcd7ed3",
   "metadata": {},
   "outputs": [
    {
     "data": {
      "text/plain": [
       "Index(['Nombre del Pais', 'Codigo de Pais', 'Tasa de Natalidad',\n",
       "       'Usuarios de Internet', 'Grupo de ingresos'],\n",
       "      dtype='object')"
      ]
     },
     "execution_count": 22,
     "metadata": {},
     "output_type": "execute_result"
    }
   ],
   "source": [
    "datos = pd.read_csv('DatosDemograficos.csv')\n",
    "datos.columns"
   ]
  },
  {
   "cell_type": "code",
   "execution_count": 24,
   "id": "1a2c7825-63f5-424e-9c3a-c4f3a546ba1b",
   "metadata": {},
   "outputs": [
    {
     "data": {
      "text/plain": [
       "Index(['NombrePais', 'CodigoPais', 'TasaNatalidad', 'UsuariosInternet',\n",
       "       'GrupoIngresos'],\n",
       "      dtype='object')"
      ]
     },
     "execution_count": 24,
     "metadata": {},
     "output_type": "execute_result"
    }
   ],
   "source": [
    "datos.columns = ['NombrePais','CodigoPais','TasaNatalidad','UsuariosInternet','GrupoIngresos']\n",
    "datos.columns"
   ]
  },
  {
   "cell_type": "markdown",
   "id": "6eb63281-8763-4e28-ab2c-885eabf281e9",
   "metadata": {},
   "source": [
    "---"
   ]
  },
  {
   "cell_type": "markdown",
   "id": "0bff081b-ef4a-48c4-b78c-cebbc3b6b264",
   "metadata": {},
   "source": [
    "<h3>Vamos a trabajar en 3 partes</h3>\n",
    "\n",
    "<ul>\n",
    "    <li>Filas</li>\n",
    "    <li>Columnas</li>\n",
    "    <li>Combinación</li>\n",
    "</ul>"
   ]
  },
  {
   "cell_type": "code",
   "execution_count": null,
   "id": "77cfc3a4-7fca-46d2-b1e3-a0ecd7becf8e",
   "metadata": {},
   "outputs": [],
   "source": [
    "# Parte 1: Filas"
   ]
  },
  {
   "cell_type": "code",
   "execution_count": 34,
   "id": "db707123-cbf4-4f3b-9e9b-49fc92e6d2b5",
   "metadata": {},
   "outputs": [
    {
     "data": {
      "text/html": [
       "<div>\n",
       "<style scoped>\n",
       "    .dataframe tbody tr th:only-of-type {\n",
       "        vertical-align: middle;\n",
       "    }\n",
       "\n",
       "    .dataframe tbody tr th {\n",
       "        vertical-align: top;\n",
       "    }\n",
       "\n",
       "    .dataframe thead th {\n",
       "        text-align: right;\n",
       "    }\n",
       "</style>\n",
       "<table border=\"1\" class=\"dataframe\">\n",
       "  <thead>\n",
       "    <tr style=\"text-align: right;\">\n",
       "      <th></th>\n",
       "      <th>NombrePais</th>\n",
       "      <th>CodigoPais</th>\n",
       "      <th>TasaNatalidad</th>\n",
       "      <th>UsuariosInternet</th>\n",
       "      <th>GrupoIngresos</th>\n",
       "    </tr>\n",
       "  </thead>\n",
       "  <tbody>\n",
       "    <tr>\n",
       "      <th>21</th>\n",
       "      <td>Belize</td>\n",
       "      <td>BLZ</td>\n",
       "      <td>23.092</td>\n",
       "      <td>33.60</td>\n",
       "      <td>Ingreso medio alto</td>\n",
       "    </tr>\n",
       "    <tr>\n",
       "      <th>22</th>\n",
       "      <td>Bermuda</td>\n",
       "      <td>BMU</td>\n",
       "      <td>10.400</td>\n",
       "      <td>95.30</td>\n",
       "      <td>Ingreso alto</td>\n",
       "    </tr>\n",
       "    <tr>\n",
       "      <th>23</th>\n",
       "      <td>Bolivia</td>\n",
       "      <td>BOL</td>\n",
       "      <td>24.236</td>\n",
       "      <td>36.94</td>\n",
       "      <td>Ingreso medio bajo</td>\n",
       "    </tr>\n",
       "    <tr>\n",
       "      <th>24</th>\n",
       "      <td>Brazil</td>\n",
       "      <td>BRA</td>\n",
       "      <td>14.931</td>\n",
       "      <td>51.04</td>\n",
       "      <td>Ingreso medio alto</td>\n",
       "    </tr>\n",
       "    <tr>\n",
       "      <th>25</th>\n",
       "      <td>Barbados</td>\n",
       "      <td>BRB</td>\n",
       "      <td>12.188</td>\n",
       "      <td>73.00</td>\n",
       "      <td>Ingreso alto</td>\n",
       "    </tr>\n",
       "  </tbody>\n",
       "</table>\n",
       "</div>"
      ],
      "text/plain": [
       "   NombrePais CodigoPais  TasaNatalidad  UsuariosInternet       GrupoIngresos\n",
       "21     Belize        BLZ         23.092             33.60  Ingreso medio alto\n",
       "22    Bermuda        BMU         10.400             95.30        Ingreso alto\n",
       "23    Bolivia        BOL         24.236             36.94  Ingreso medio bajo\n",
       "24     Brazil        BRA         14.931             51.04  Ingreso medio alto\n",
       "25   Barbados        BRB         12.188             73.00        Ingreso alto"
      ]
     },
     "execution_count": 34,
     "metadata": {},
     "output_type": "execute_result"
    }
   ],
   "source": [
    "datos[21:26]   #slicing de las filas que queremos extraer, la última queda excluida\n",
    "\n",
    "#al hacer el slicing siempre es por filas por defecto, ya que entiende que en las filas están los datos"
   ]
  },
  {
   "cell_type": "code",
   "execution_count": 36,
   "id": "b1c7e0b9-dfa0-472c-a119-56abeacbfc81",
   "metadata": {},
   "outputs": [
    {
     "data": {
      "text/html": [
       "<div>\n",
       "<style scoped>\n",
       "    .dataframe tbody tr th:only-of-type {\n",
       "        vertical-align: middle;\n",
       "    }\n",
       "\n",
       "    .dataframe tbody tr th {\n",
       "        vertical-align: top;\n",
       "    }\n",
       "\n",
       "    .dataframe thead th {\n",
       "        text-align: right;\n",
       "    }\n",
       "</style>\n",
       "<table border=\"1\" class=\"dataframe\">\n",
       "  <thead>\n",
       "    <tr style=\"text-align: right;\">\n",
       "      <th></th>\n",
       "      <th>NombrePais</th>\n",
       "      <th>CodigoPais</th>\n",
       "      <th>TasaNatalidad</th>\n",
       "      <th>UsuariosInternet</th>\n",
       "      <th>GrupoIngresos</th>\n",
       "    </tr>\n",
       "  </thead>\n",
       "  <tbody>\n",
       "    <tr>\n",
       "      <th>0</th>\n",
       "      <td>Aruba</td>\n",
       "      <td>ABW</td>\n",
       "      <td>10.244</td>\n",
       "      <td>78.9</td>\n",
       "      <td>Ingreso alto</td>\n",
       "    </tr>\n",
       "    <tr>\n",
       "      <th>1</th>\n",
       "      <td>Afghanistan</td>\n",
       "      <td>AFG</td>\n",
       "      <td>35.253</td>\n",
       "      <td>5.9</td>\n",
       "      <td>Ingreso bajo</td>\n",
       "    </tr>\n",
       "    <tr>\n",
       "      <th>2</th>\n",
       "      <td>Angola</td>\n",
       "      <td>AGO</td>\n",
       "      <td>45.985</td>\n",
       "      <td>19.1</td>\n",
       "      <td>Ingreso medio alto</td>\n",
       "    </tr>\n",
       "    <tr>\n",
       "      <th>3</th>\n",
       "      <td>Albania</td>\n",
       "      <td>ALB</td>\n",
       "      <td>12.877</td>\n",
       "      <td>57.2</td>\n",
       "      <td>Ingreso medio alto</td>\n",
       "    </tr>\n",
       "    <tr>\n",
       "      <th>4</th>\n",
       "      <td>United Arab Emirates</td>\n",
       "      <td>ARE</td>\n",
       "      <td>11.044</td>\n",
       "      <td>88.0</td>\n",
       "      <td>Ingreso alto</td>\n",
       "    </tr>\n",
       "    <tr>\n",
       "      <th>5</th>\n",
       "      <td>Argentina</td>\n",
       "      <td>ARG</td>\n",
       "      <td>17.716</td>\n",
       "      <td>59.9</td>\n",
       "      <td>Ingreso alto</td>\n",
       "    </tr>\n",
       "    <tr>\n",
       "      <th>6</th>\n",
       "      <td>Armenia</td>\n",
       "      <td>ARM</td>\n",
       "      <td>13.308</td>\n",
       "      <td>41.9</td>\n",
       "      <td>Ingreso medio bajo</td>\n",
       "    </tr>\n",
       "    <tr>\n",
       "      <th>7</th>\n",
       "      <td>Antigua and Barbuda</td>\n",
       "      <td>ATG</td>\n",
       "      <td>16.447</td>\n",
       "      <td>63.4</td>\n",
       "      <td>Ingreso alto</td>\n",
       "    </tr>\n",
       "    <tr>\n",
       "      <th>8</th>\n",
       "      <td>Australia</td>\n",
       "      <td>AUS</td>\n",
       "      <td>13.200</td>\n",
       "      <td>83.0</td>\n",
       "      <td>Ingreso alto</td>\n",
       "    </tr>\n",
       "  </tbody>\n",
       "</table>\n",
       "</div>"
      ],
      "text/plain": [
       "             NombrePais CodigoPais  TasaNatalidad  UsuariosInternet  \\\n",
       "0                 Aruba        ABW         10.244              78.9   \n",
       "1           Afghanistan        AFG         35.253               5.9   \n",
       "2                Angola        AGO         45.985              19.1   \n",
       "3               Albania        ALB         12.877              57.2   \n",
       "4  United Arab Emirates        ARE         11.044              88.0   \n",
       "5             Argentina        ARG         17.716              59.9   \n",
       "6               Armenia        ARM         13.308              41.9   \n",
       "7   Antigua and Barbuda        ATG         16.447              63.4   \n",
       "8             Australia        AUS         13.200              83.0   \n",
       "\n",
       "        GrupoIngresos  \n",
       "0        Ingreso alto  \n",
       "1        Ingreso bajo  \n",
       "2  Ingreso medio alto  \n",
       "3  Ingreso medio alto  \n",
       "4        Ingreso alto  \n",
       "5        Ingreso alto  \n",
       "6  Ingreso medio bajo  \n",
       "7        Ingreso alto  \n",
       "8        Ingreso alto  "
      ]
     },
     "execution_count": 36,
     "metadata": {},
     "output_type": "execute_result"
    }
   ],
   "source": [
    "datos[:9]  #indica que es de 0 hasta el 9 sin incluir el 9"
   ]
  },
  {
   "cell_type": "code",
   "execution_count": 44,
   "id": "ca156cb2-49b3-40a6-a994-9a86d95f32b5",
   "metadata": {},
   "outputs": [
    {
     "data": {
      "text/html": [
       "<div>\n",
       "<style scoped>\n",
       "    .dataframe tbody tr th:only-of-type {\n",
       "        vertical-align: middle;\n",
       "    }\n",
       "\n",
       "    .dataframe tbody tr th {\n",
       "        vertical-align: top;\n",
       "    }\n",
       "\n",
       "    .dataframe thead th {\n",
       "        text-align: right;\n",
       "    }\n",
       "</style>\n",
       "<table border=\"1\" class=\"dataframe\">\n",
       "  <thead>\n",
       "    <tr style=\"text-align: right;\">\n",
       "      <th></th>\n",
       "      <th>NombrePais</th>\n",
       "      <th>CodigoPais</th>\n",
       "      <th>TasaNatalidad</th>\n",
       "      <th>UsuariosInternet</th>\n",
       "      <th>GrupoIngresos</th>\n",
       "    </tr>\n",
       "  </thead>\n",
       "  <tbody>\n",
       "    <tr>\n",
       "      <th>194</th>\n",
       "      <td>Zimbabwe</td>\n",
       "      <td>ZWE</td>\n",
       "      <td>35.715</td>\n",
       "      <td>18.5</td>\n",
       "      <td>Ingreso bajo</td>\n",
       "    </tr>\n",
       "    <tr>\n",
       "      <th>193</th>\n",
       "      <td>Zambia</td>\n",
       "      <td>ZMB</td>\n",
       "      <td>40.471</td>\n",
       "      <td>15.4</td>\n",
       "      <td>Ingreso medio bajo</td>\n",
       "    </tr>\n",
       "    <tr>\n",
       "      <th>192</th>\n",
       "      <td>Congo, Dem. Rep.</td>\n",
       "      <td>COD</td>\n",
       "      <td>42.394</td>\n",
       "      <td>2.2</td>\n",
       "      <td>Ingreso bajo</td>\n",
       "    </tr>\n",
       "    <tr>\n",
       "      <th>191</th>\n",
       "      <td>South Africa</td>\n",
       "      <td>ZAF</td>\n",
       "      <td>20.850</td>\n",
       "      <td>46.5</td>\n",
       "      <td>Ingreso medio alto</td>\n",
       "    </tr>\n",
       "    <tr>\n",
       "      <th>190</th>\n",
       "      <td>Yemen, Rep.</td>\n",
       "      <td>YEM</td>\n",
       "      <td>32.947</td>\n",
       "      <td>20.0</td>\n",
       "      <td>Ingreso medio bajo</td>\n",
       "    </tr>\n",
       "    <tr>\n",
       "      <th>...</th>\n",
       "      <td>...</td>\n",
       "      <td>...</td>\n",
       "      <td>...</td>\n",
       "      <td>...</td>\n",
       "      <td>...</td>\n",
       "    </tr>\n",
       "    <tr>\n",
       "      <th>4</th>\n",
       "      <td>United Arab Emirates</td>\n",
       "      <td>ARE</td>\n",
       "      <td>11.044</td>\n",
       "      <td>88.0</td>\n",
       "      <td>Ingreso alto</td>\n",
       "    </tr>\n",
       "    <tr>\n",
       "      <th>3</th>\n",
       "      <td>Albania</td>\n",
       "      <td>ALB</td>\n",
       "      <td>12.877</td>\n",
       "      <td>57.2</td>\n",
       "      <td>Ingreso medio alto</td>\n",
       "    </tr>\n",
       "    <tr>\n",
       "      <th>2</th>\n",
       "      <td>Angola</td>\n",
       "      <td>AGO</td>\n",
       "      <td>45.985</td>\n",
       "      <td>19.1</td>\n",
       "      <td>Ingreso medio alto</td>\n",
       "    </tr>\n",
       "    <tr>\n",
       "      <th>1</th>\n",
       "      <td>Afghanistan</td>\n",
       "      <td>AFG</td>\n",
       "      <td>35.253</td>\n",
       "      <td>5.9</td>\n",
       "      <td>Ingreso bajo</td>\n",
       "    </tr>\n",
       "    <tr>\n",
       "      <th>0</th>\n",
       "      <td>Aruba</td>\n",
       "      <td>ABW</td>\n",
       "      <td>10.244</td>\n",
       "      <td>78.9</td>\n",
       "      <td>Ingreso alto</td>\n",
       "    </tr>\n",
       "  </tbody>\n",
       "</table>\n",
       "<p>195 rows × 5 columns</p>\n",
       "</div>"
      ],
      "text/plain": [
       "               NombrePais CodigoPais  TasaNatalidad  UsuariosInternet  \\\n",
       "194              Zimbabwe        ZWE         35.715              18.5   \n",
       "193                Zambia        ZMB         40.471              15.4   \n",
       "192      Congo, Dem. Rep.        COD         42.394               2.2   \n",
       "191          South Africa        ZAF         20.850              46.5   \n",
       "190           Yemen, Rep.        YEM         32.947              20.0   \n",
       "..                    ...        ...            ...               ...   \n",
       "4    United Arab Emirates        ARE         11.044              88.0   \n",
       "3                 Albania        ALB         12.877              57.2   \n",
       "2                  Angola        AGO         45.985              19.1   \n",
       "1             Afghanistan        AFG         35.253               5.9   \n",
       "0                   Aruba        ABW         10.244              78.9   \n",
       "\n",
       "          GrupoIngresos  \n",
       "194        Ingreso bajo  \n",
       "193  Ingreso medio bajo  \n",
       "192        Ingreso bajo  \n",
       "191  Ingreso medio alto  \n",
       "190  Ingreso medio bajo  \n",
       "..                  ...  \n",
       "4          Ingreso alto  \n",
       "3    Ingreso medio alto  \n",
       "2    Ingreso medio alto  \n",
       "1          Ingreso bajo  \n",
       "0          Ingreso alto  \n",
       "\n",
       "[195 rows x 5 columns]"
      ]
     },
     "execution_count": 44,
     "metadata": {},
     "output_type": "execute_result"
    }
   ],
   "source": [
    "#Ejercicio: invierte el dataframe\n",
    "datos[::-1]\n",
    "\n",
    "#coge todos los datos y el -1 es el salto que es de final a inicio\n",
    "#esto no modifica el dataframe solo lo muestra de otra manera.\n",
    "#para sobreescribir hay que hacer un datos = datos[::-1] para sobreescribir invertido"
   ]
  },
  {
   "cell_type": "code",
   "execution_count": 46,
   "id": "39e93cbf-20da-49e0-8241-d7b8370eaf85",
   "metadata": {},
   "outputs": [
    {
     "data": {
      "text/html": [
       "<div>\n",
       "<style scoped>\n",
       "    .dataframe tbody tr th:only-of-type {\n",
       "        vertical-align: middle;\n",
       "    }\n",
       "\n",
       "    .dataframe tbody tr th {\n",
       "        vertical-align: top;\n",
       "    }\n",
       "\n",
       "    .dataframe thead th {\n",
       "        text-align: right;\n",
       "    }\n",
       "</style>\n",
       "<table border=\"1\" class=\"dataframe\">\n",
       "  <thead>\n",
       "    <tr style=\"text-align: right;\">\n",
       "      <th></th>\n",
       "      <th>NombrePais</th>\n",
       "      <th>CodigoPais</th>\n",
       "      <th>TasaNatalidad</th>\n",
       "      <th>UsuariosInternet</th>\n",
       "      <th>GrupoIngresos</th>\n",
       "    </tr>\n",
       "  </thead>\n",
       "  <tbody>\n",
       "    <tr>\n",
       "      <th>0</th>\n",
       "      <td>Aruba</td>\n",
       "      <td>ABW</td>\n",
       "      <td>10.244</td>\n",
       "      <td>78.9000</td>\n",
       "      <td>Ingreso alto</td>\n",
       "    </tr>\n",
       "    <tr>\n",
       "      <th>20</th>\n",
       "      <td>Belarus</td>\n",
       "      <td>BLR</td>\n",
       "      <td>12.500</td>\n",
       "      <td>54.1700</td>\n",
       "      <td>Ingreso medio alto</td>\n",
       "    </tr>\n",
       "    <tr>\n",
       "      <th>40</th>\n",
       "      <td>Costa Rica</td>\n",
       "      <td>CRI</td>\n",
       "      <td>15.022</td>\n",
       "      <td>45.9600</td>\n",
       "      <td>Ingreso medio alto</td>\n",
       "    </tr>\n",
       "    <tr>\n",
       "      <th>60</th>\n",
       "      <td>Gabon</td>\n",
       "      <td>GAB</td>\n",
       "      <td>30.555</td>\n",
       "      <td>9.2000</td>\n",
       "      <td>Ingreso medio alto</td>\n",
       "    </tr>\n",
       "    <tr>\n",
       "      <th>80</th>\n",
       "      <td>India</td>\n",
       "      <td>IND</td>\n",
       "      <td>20.291</td>\n",
       "      <td>15.1000</td>\n",
       "      <td>Ingreso medio bajo</td>\n",
       "    </tr>\n",
       "    <tr>\n",
       "      <th>100</th>\n",
       "      <td>Libya</td>\n",
       "      <td>LBY</td>\n",
       "      <td>21.425</td>\n",
       "      <td>16.5000</td>\n",
       "      <td>Ingreso medio alto</td>\n",
       "    </tr>\n",
       "    <tr>\n",
       "      <th>120</th>\n",
       "      <td>Mozambique</td>\n",
       "      <td>MOZ</td>\n",
       "      <td>39.705</td>\n",
       "      <td>5.4000</td>\n",
       "      <td>Ingreso bajo</td>\n",
       "    </tr>\n",
       "    <tr>\n",
       "      <th>140</th>\n",
       "      <td>Poland</td>\n",
       "      <td>POL</td>\n",
       "      <td>9.600</td>\n",
       "      <td>62.8492</td>\n",
       "      <td>Ingreso alto</td>\n",
       "    </tr>\n",
       "    <tr>\n",
       "      <th>160</th>\n",
       "      <td>Suriname</td>\n",
       "      <td>SUR</td>\n",
       "      <td>18.455</td>\n",
       "      <td>37.4000</td>\n",
       "      <td>Ingreso medio alto</td>\n",
       "    </tr>\n",
       "    <tr>\n",
       "      <th>180</th>\n",
       "      <td>Uruguay</td>\n",
       "      <td>URY</td>\n",
       "      <td>14.374</td>\n",
       "      <td>57.6900</td>\n",
       "      <td>Ingreso alto</td>\n",
       "    </tr>\n",
       "  </tbody>\n",
       "</table>\n",
       "</div>"
      ],
      "text/plain": [
       "     NombrePais CodigoPais  TasaNatalidad  UsuariosInternet  \\\n",
       "0         Aruba        ABW         10.244           78.9000   \n",
       "20      Belarus        BLR         12.500           54.1700   \n",
       "40   Costa Rica        CRI         15.022           45.9600   \n",
       "60        Gabon        GAB         30.555            9.2000   \n",
       "80        India        IND         20.291           15.1000   \n",
       "100       Libya        LBY         21.425           16.5000   \n",
       "120  Mozambique        MOZ         39.705            5.4000   \n",
       "140      Poland        POL          9.600           62.8492   \n",
       "160    Suriname        SUR         18.455           37.4000   \n",
       "180     Uruguay        URY         14.374           57.6900   \n",
       "\n",
       "          GrupoIngresos  \n",
       "0          Ingreso alto  \n",
       "20   Ingreso medio alto  \n",
       "40   Ingreso medio alto  \n",
       "60   Ingreso medio alto  \n",
       "80   Ingreso medio bajo  \n",
       "100  Ingreso medio alto  \n",
       "120        Ingreso bajo  \n",
       "140        Ingreso alto  \n",
       "160  Ingreso medio alto  \n",
       "180        Ingreso alto  "
      ]
     },
     "execution_count": 46,
     "metadata": {},
     "output_type": "execute_result"
    }
   ],
   "source": [
    "#Ejercicio: obtener solamente cada 20 paises o filas\n",
    "\n",
    "datos[::20]\n"
   ]
  },
  {
   "cell_type": "code",
   "execution_count": 50,
   "id": "46b1066e-8f68-47a0-ab7a-04ec267e4f2d",
   "metadata": {},
   "outputs": [
    {
     "data": {
      "text/plain": [
       "Index(['NombrePais', 'CodigoPais', 'TasaNatalidad', 'UsuariosInternet',\n",
       "       'GrupoIngresos'],\n",
       "      dtype='object')"
      ]
     },
     "execution_count": 50,
     "metadata": {},
     "output_type": "execute_result"
    }
   ],
   "source": [
    "#PARTE 2 : COLUMNAS\n",
    "\n",
    "datos.columns"
   ]
  },
  {
   "cell_type": "code",
   "execution_count": 55,
   "id": "3525341c-7278-4a8a-bcf4-05fcf6462883",
   "metadata": {},
   "outputs": [
    {
     "data": {
      "text/html": [
       "<div>\n",
       "<style scoped>\n",
       "    .dataframe tbody tr th:only-of-type {\n",
       "        vertical-align: middle;\n",
       "    }\n",
       "\n",
       "    .dataframe tbody tr th {\n",
       "        vertical-align: top;\n",
       "    }\n",
       "\n",
       "    .dataframe thead th {\n",
       "        text-align: right;\n",
       "    }\n",
       "</style>\n",
       "<table border=\"1\" class=\"dataframe\">\n",
       "  <thead>\n",
       "    <tr style=\"text-align: right;\">\n",
       "      <th></th>\n",
       "      <th>NombrePais</th>\n",
       "      <th>CodigoPais</th>\n",
       "      <th>TasaNatalidad</th>\n",
       "      <th>UsuariosInternet</th>\n",
       "      <th>GrupoIngresos</th>\n",
       "    </tr>\n",
       "  </thead>\n",
       "  <tbody>\n",
       "    <tr>\n",
       "      <th>0</th>\n",
       "      <td>Aruba</td>\n",
       "      <td>ABW</td>\n",
       "      <td>10.244</td>\n",
       "      <td>78.9</td>\n",
       "      <td>Ingreso alto</td>\n",
       "    </tr>\n",
       "    <tr>\n",
       "      <th>1</th>\n",
       "      <td>Afghanistan</td>\n",
       "      <td>AFG</td>\n",
       "      <td>35.253</td>\n",
       "      <td>5.9</td>\n",
       "      <td>Ingreso bajo</td>\n",
       "    </tr>\n",
       "    <tr>\n",
       "      <th>2</th>\n",
       "      <td>Angola</td>\n",
       "      <td>AGO</td>\n",
       "      <td>45.985</td>\n",
       "      <td>19.1</td>\n",
       "      <td>Ingreso medio alto</td>\n",
       "    </tr>\n",
       "    <tr>\n",
       "      <th>3</th>\n",
       "      <td>Albania</td>\n",
       "      <td>ALB</td>\n",
       "      <td>12.877</td>\n",
       "      <td>57.2</td>\n",
       "      <td>Ingreso medio alto</td>\n",
       "    </tr>\n",
       "    <tr>\n",
       "      <th>4</th>\n",
       "      <td>United Arab Emirates</td>\n",
       "      <td>ARE</td>\n",
       "      <td>11.044</td>\n",
       "      <td>88.0</td>\n",
       "      <td>Ingreso alto</td>\n",
       "    </tr>\n",
       "  </tbody>\n",
       "</table>\n",
       "</div>"
      ],
      "text/plain": [
       "             NombrePais CodigoPais  TasaNatalidad  UsuariosInternet  \\\n",
       "0                 Aruba        ABW         10.244              78.9   \n",
       "1           Afghanistan        AFG         35.253               5.9   \n",
       "2                Angola        AGO         45.985              19.1   \n",
       "3               Albania        ALB         12.877              57.2   \n",
       "4  United Arab Emirates        ARE         11.044              88.0   \n",
       "\n",
       "        GrupoIngresos  \n",
       "0        Ingreso alto  \n",
       "1        Ingreso bajo  \n",
       "2  Ingreso medio alto  \n",
       "3  Ingreso medio alto  \n",
       "4        Ingreso alto  "
      ]
     },
     "execution_count": 55,
     "metadata": {},
     "output_type": "execute_result"
    }
   ],
   "source": [
    "datos.head()"
   ]
  },
  {
   "cell_type": "code",
   "execution_count": 59,
   "id": "d838f650-52d2-485d-ab6f-3840db309ebc",
   "metadata": {},
   "outputs": [
    {
     "data": {
      "text/plain": [
       "0                     Aruba\n",
       "1               Afghanistan\n",
       "2                    Angola\n",
       "3                   Albania\n",
       "4      United Arab Emirates\n",
       "               ...         \n",
       "190             Yemen, Rep.\n",
       "191            South Africa\n",
       "192        Congo, Dem. Rep.\n",
       "193                  Zambia\n",
       "194                Zimbabwe\n",
       "Name: NombrePais, Length: 195, dtype: object"
      ]
     },
     "execution_count": 59,
     "metadata": {},
     "output_type": "execute_result"
    }
   ],
   "source": [
    "datos['NombrePais']  #para llamar a las columnas se usa los nombres de cabezera"
   ]
  },
  {
   "cell_type": "code",
   "execution_count": 63,
   "id": "48906710-b2e1-4563-8014-016093a50ad7",
   "metadata": {},
   "outputs": [
    {
     "data": {
      "text/plain": [
       "0                   Aruba\n",
       "1             Afghanistan\n",
       "2                  Angola\n",
       "3                 Albania\n",
       "4    United Arab Emirates\n",
       "5               Argentina\n",
       "6                 Armenia\n",
       "7     Antigua and Barbuda\n",
       "8               Australia\n",
       "9                 Austria\n",
       "Name: NombrePais, dtype: object"
      ]
     },
     "execution_count": 63,
     "metadata": {},
     "output_type": "execute_result"
    }
   ],
   "source": [
    "datos['NombrePais'].head(10)"
   ]
  },
  {
   "cell_type": "code",
   "execution_count": null,
   "id": "c4969738-83a8-4698-ab8c-f36309e0d41d",
   "metadata": {},
   "outputs": [],
   "source": [
    "#para extraer 2 columnas, se pasan los nombres de las columnas como una lista\n",
    "# se ponen los nombres entre corchetes dobres. [['Column1','Column2']]"
   ]
  },
  {
   "cell_type": "code",
   "execution_count": 65,
   "id": "ff76a2b0-8cbb-486d-aad7-f903f07ca159",
   "metadata": {},
   "outputs": [
    {
     "data": {
      "text/html": [
       "<div>\n",
       "<style scoped>\n",
       "    .dataframe tbody tr th:only-of-type {\n",
       "        vertical-align: middle;\n",
       "    }\n",
       "\n",
       "    .dataframe tbody tr th {\n",
       "        vertical-align: top;\n",
       "    }\n",
       "\n",
       "    .dataframe thead th {\n",
       "        text-align: right;\n",
       "    }\n",
       "</style>\n",
       "<table border=\"1\" class=\"dataframe\">\n",
       "  <thead>\n",
       "    <tr style=\"text-align: right;\">\n",
       "      <th></th>\n",
       "      <th>NombrePais</th>\n",
       "      <th>TasaNatalidad</th>\n",
       "    </tr>\n",
       "  </thead>\n",
       "  <tbody>\n",
       "    <tr>\n",
       "      <th>0</th>\n",
       "      <td>Aruba</td>\n",
       "      <td>10.244</td>\n",
       "    </tr>\n",
       "    <tr>\n",
       "      <th>1</th>\n",
       "      <td>Afghanistan</td>\n",
       "      <td>35.253</td>\n",
       "    </tr>\n",
       "    <tr>\n",
       "      <th>2</th>\n",
       "      <td>Angola</td>\n",
       "      <td>45.985</td>\n",
       "    </tr>\n",
       "    <tr>\n",
       "      <th>3</th>\n",
       "      <td>Albania</td>\n",
       "      <td>12.877</td>\n",
       "    </tr>\n",
       "    <tr>\n",
       "      <th>4</th>\n",
       "      <td>United Arab Emirates</td>\n",
       "      <td>11.044</td>\n",
       "    </tr>\n",
       "  </tbody>\n",
       "</table>\n",
       "</div>"
      ],
      "text/plain": [
       "             NombrePais  TasaNatalidad\n",
       "0                 Aruba         10.244\n",
       "1           Afghanistan         35.253\n",
       "2                Angola         45.985\n",
       "3               Albania         12.877\n",
       "4  United Arab Emirates         11.044"
      ]
     },
     "execution_count": 65,
     "metadata": {},
     "output_type": "execute_result"
    }
   ],
   "source": [
    "datos[['NombrePais','TasaNatalidad']].head()"
   ]
  },
  {
   "cell_type": "code",
   "execution_count": 69,
   "id": "8db12abf-2310-4720-8cab-ce3bf2e2bc93",
   "metadata": {},
   "outputs": [
    {
     "data": {
      "text/html": [
       "<div>\n",
       "<style scoped>\n",
       "    .dataframe tbody tr th:only-of-type {\n",
       "        vertical-align: middle;\n",
       "    }\n",
       "\n",
       "    .dataframe tbody tr th {\n",
       "        vertical-align: top;\n",
       "    }\n",
       "\n",
       "    .dataframe thead th {\n",
       "        text-align: right;\n",
       "    }\n",
       "</style>\n",
       "<table border=\"1\" class=\"dataframe\">\n",
       "  <thead>\n",
       "    <tr style=\"text-align: right;\">\n",
       "      <th></th>\n",
       "      <th>UsuariosInternet</th>\n",
       "      <th>NombrePais</th>\n",
       "    </tr>\n",
       "  </thead>\n",
       "  <tbody>\n",
       "    <tr>\n",
       "      <th>0</th>\n",
       "      <td>78.9</td>\n",
       "      <td>Aruba</td>\n",
       "    </tr>\n",
       "    <tr>\n",
       "      <th>1</th>\n",
       "      <td>5.9</td>\n",
       "      <td>Afghanistan</td>\n",
       "    </tr>\n",
       "    <tr>\n",
       "      <th>2</th>\n",
       "      <td>19.1</td>\n",
       "      <td>Angola</td>\n",
       "    </tr>\n",
       "    <tr>\n",
       "      <th>3</th>\n",
       "      <td>57.2</td>\n",
       "      <td>Albania</td>\n",
       "    </tr>\n",
       "    <tr>\n",
       "      <th>4</th>\n",
       "      <td>88.0</td>\n",
       "      <td>United Arab Emirates</td>\n",
       "    </tr>\n",
       "  </tbody>\n",
       "</table>\n",
       "</div>"
      ],
      "text/plain": [
       "   UsuariosInternet            NombrePais\n",
       "0              78.9                 Aruba\n",
       "1               5.9           Afghanistan\n",
       "2              19.1                Angola\n",
       "3              57.2               Albania\n",
       "4              88.0  United Arab Emirates"
      ]
     },
     "execution_count": 69,
     "metadata": {},
     "output_type": "execute_result"
    }
   ],
   "source": [
    "#da igual el orden de las columnas\n",
    "datos[['UsuariosInternet','NombrePais']].head()"
   ]
  },
  {
   "cell_type": "code",
   "execution_count": 76,
   "id": "951ae496-7d99-4941-bfb4-5cf49924e13d",
   "metadata": {},
   "outputs": [
    {
     "data": {
      "text/plain": [
       "0      10.244\n",
       "1      35.253\n",
       "2      45.985\n",
       "3      12.877\n",
       "4      11.044\n",
       "        ...  \n",
       "190    32.947\n",
       "191    20.850\n",
       "192    42.394\n",
       "193    40.471\n",
       "194    35.715\n",
       "Name: TasaNatalidad, Length: 195, dtype: float64"
      ]
     },
     "execution_count": 76,
     "metadata": {},
     "output_type": "execute_result"
    }
   ],
   "source": [
    "#Acceso Rápido  (para que funcione tiene que estar el nombre de columna en una sola palabra)\n",
    "#se pone .nombrecolumna para que se muestre. \n",
    "#Esto solo sirve para 1 columna, para 2 o + no sirve.\n",
    "datos.TasaNatalidad"
   ]
  },
  {
   "cell_type": "code",
   "execution_count": null,
   "id": "05c7b43d-53a8-47ed-9750-658a5ce12f22",
   "metadata": {},
   "outputs": [],
   "source": [
    "#3 COMBINAR FILAS Y COLUMNAS\n"
   ]
  },
  {
   "cell_type": "code",
   "execution_count": 78,
   "id": "1300d64a-d13a-4085-8ebb-55ca1ef6a733",
   "metadata": {},
   "outputs": [
    {
     "data": {
      "text/html": [
       "<div>\n",
       "<style scoped>\n",
       "    .dataframe tbody tr th:only-of-type {\n",
       "        vertical-align: middle;\n",
       "    }\n",
       "\n",
       "    .dataframe tbody tr th {\n",
       "        vertical-align: top;\n",
       "    }\n",
       "\n",
       "    .dataframe thead th {\n",
       "        text-align: right;\n",
       "    }\n",
       "</style>\n",
       "<table border=\"1\" class=\"dataframe\">\n",
       "  <thead>\n",
       "    <tr style=\"text-align: right;\">\n",
       "      <th></th>\n",
       "      <th>NombrePais</th>\n",
       "      <th>UsuariosInternet</th>\n",
       "    </tr>\n",
       "  </thead>\n",
       "  <tbody>\n",
       "    <tr>\n",
       "      <th>4</th>\n",
       "      <td>United Arab Emirates</td>\n",
       "      <td>88.0</td>\n",
       "    </tr>\n",
       "    <tr>\n",
       "      <th>5</th>\n",
       "      <td>Argentina</td>\n",
       "      <td>59.9</td>\n",
       "    </tr>\n",
       "    <tr>\n",
       "      <th>6</th>\n",
       "      <td>Armenia</td>\n",
       "      <td>41.9</td>\n",
       "    </tr>\n",
       "    <tr>\n",
       "      <th>7</th>\n",
       "      <td>Antigua and Barbuda</td>\n",
       "      <td>63.4</td>\n",
       "    </tr>\n",
       "  </tbody>\n",
       "</table>\n",
       "</div>"
      ],
      "text/plain": [
       "             NombrePais  UsuariosInternet\n",
       "4  United Arab Emirates              88.0\n",
       "5             Argentina              59.9\n",
       "6               Armenia              41.9\n",
       "7   Antigua and Barbuda              63.4"
      ]
     },
     "execution_count": 78,
     "metadata": {},
     "output_type": "execute_result"
    }
   ],
   "source": [
    "datos[4:8][['NombrePais','UsuariosInternet']]"
   ]
  },
  {
   "cell_type": "code",
   "execution_count": 80,
   "id": "dc1c5b57-6121-4c67-8cae-450ebd349a7c",
   "metadata": {},
   "outputs": [
    {
     "data": {
      "text/html": [
       "<div>\n",
       "<style scoped>\n",
       "    .dataframe tbody tr th:only-of-type {\n",
       "        vertical-align: middle;\n",
       "    }\n",
       "\n",
       "    .dataframe tbody tr th {\n",
       "        vertical-align: top;\n",
       "    }\n",
       "\n",
       "    .dataframe thead th {\n",
       "        text-align: right;\n",
       "    }\n",
       "</style>\n",
       "<table border=\"1\" class=\"dataframe\">\n",
       "  <thead>\n",
       "    <tr style=\"text-align: right;\">\n",
       "      <th></th>\n",
       "      <th>NombrePais</th>\n",
       "      <th>UsuariosInternet</th>\n",
       "    </tr>\n",
       "  </thead>\n",
       "  <tbody>\n",
       "    <tr>\n",
       "      <th>4</th>\n",
       "      <td>United Arab Emirates</td>\n",
       "      <td>88.0</td>\n",
       "    </tr>\n",
       "    <tr>\n",
       "      <th>5</th>\n",
       "      <td>Argentina</td>\n",
       "      <td>59.9</td>\n",
       "    </tr>\n",
       "    <tr>\n",
       "      <th>6</th>\n",
       "      <td>Armenia</td>\n",
       "      <td>41.9</td>\n",
       "    </tr>\n",
       "    <tr>\n",
       "      <th>7</th>\n",
       "      <td>Antigua and Barbuda</td>\n",
       "      <td>63.4</td>\n",
       "    </tr>\n",
       "  </tbody>\n",
       "</table>\n",
       "</div>"
      ],
      "text/plain": [
       "             NombrePais  UsuariosInternet\n",
       "4  United Arab Emirates              88.0\n",
       "5             Argentina              59.9\n",
       "6               Armenia              41.9\n",
       "7   Antigua and Barbuda              63.4"
      ]
     },
     "execution_count": 80,
     "metadata": {},
     "output_type": "execute_result"
    }
   ],
   "source": [
    "#da igual el orden\n",
    "\n",
    "datos[['NombrePais','UsuariosInternet']][4:8]"
   ]
  },
  {
   "cell_type": "code",
   "execution_count": 86,
   "id": "5f09f7d9-1397-4845-b881-5de299ce2bbf",
   "metadata": {},
   "outputs": [
    {
     "data": {
      "text/plain": [
       "4    11.044\n",
       "5    17.716\n",
       "6    13.308\n",
       "7    16.447\n",
       "Name: TasaNatalidad, dtype: float64"
      ]
     },
     "execution_count": 86,
     "metadata": {},
     "output_type": "execute_result"
    }
   ],
   "source": [
    "datos[4:8].TasaNatalidad"
   ]
  }
 ],
 "metadata": {
  "kernelspec": {
   "display_name": "Python 3 (ipykernel)",
   "language": "python",
   "name": "python3"
  },
  "language_info": {
   "codemirror_mode": {
    "name": "ipython",
    "version": 3
   },
   "file_extension": ".py",
   "mimetype": "text/x-python",
   "name": "python",
   "nbconvert_exporter": "python",
   "pygments_lexer": "ipython3",
   "version": "3.11.7"
  }
 },
 "nbformat": 4,
 "nbformat_minor": 5
}
