{
 "cells": [
  {
   "cell_type": "markdown",
   "id": "2e940e55-7a1f-4909-9742-0387057196ef",
   "metadata": {},
   "source": [
    "# Tarea 2\n",
    "# Reto de los Grandos Números \n",
    "Poner a prueba la Ley de los Grandes Números para N números aleatorios de la distribución normal con media = 0, stdev =1\n",
    "1.- Crear un script en Python que cuente cuántas veces cae un número de estos entre -1 y 1 y divide por la cantidad total de observaciones\n",
    "\n",
    "*Sabes que E(X)=68.2%*\n",
    "\n",
    "2.-Revisa que la Media de (XN) ->E(X) conforme corras de nuevo el script mientras incrementas N"
   ]
  },
  {
   "cell_type": "code",
   "execution_count": 78,
   "id": "fe420b1d-f729-4f59-b372-4ed15aa3821b",
   "metadata": {},
   "outputs": [
    {
     "name": "stdin",
     "output_type": "stream",
     "text": [
      "Tamaño de la muestra? 5000\n"
     ]
    },
    {
     "name": "stdout",
     "output_type": "stream",
     "text": [
      "Para una muestra de  5000 números aletarios:\n",
      "El porcentaje de números entre -1 y 1 es de:  69.34 %\n"
     ]
    }
   ],
   "source": [
    "#solución al problema  Importamos lo necesario, que es numpy y randn\n",
    "import numpy as np\n",
    "from numpy.random import randn\n",
    "\n",
    "N =int(input(\"Tamaño de la muestra?\")) #especifica el tamaño de la muestra que pasaremos a randn\n",
    "\n",
    "\n",
    "muestra =randn(N) #genera la lista de numeros aletarios de muestra,\n",
    "contador = 0 #reinicio el contador\n",
    "for i in muestra:\n",
    "    if (i>=-1 and i<=1  ):\n",
    "        contador += 1  #si cae en el if cuenta 1\n",
    "print(\"Para una muestra de \",N, \"números aletarios:\")\n",
    "print(\"El porcentaje de números entre -1 y 1 es de: \",contador/N*100,\"%\")  #nos pide el porcentaje entonces ponemos el /N\n",
    "\n"
   ]
  },
  {
   "cell_type": "code",
   "execution_count": null,
   "id": "440aa786-6d21-4174-b7eb-e5abef57678d",
   "metadata": {},
   "outputs": [],
   "source": []
  }
 ],
 "metadata": {
  "kernelspec": {
   "display_name": "Python 3 (ipykernel)",
   "language": "python",
   "name": "python3"
  },
  "language_info": {
   "codemirror_mode": {
    "name": "ipython",
    "version": 3
   },
   "file_extension": ".py",
   "mimetype": "text/x-python",
   "name": "python",
   "nbconvert_exporter": "python",
   "pygments_lexer": "ipython3",
   "version": "3.11.7"
  }
 },
 "nbformat": 4,
 "nbformat_minor": 5
}
