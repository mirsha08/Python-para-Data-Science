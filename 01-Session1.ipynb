{
 "cells": [
  {
   "cell_type": "markdown",
   "id": "3db4ee5e-2204-4a8e-94a8-e5661e0cea02",
   "metadata": {},
   "source": [
    "# Programa de Inteligencia Artificial | IBM SkillUp 2024\n",
    "\n",
    "## Introducción a Python\n",
    "\n",
    "### A. Práctica con variables y tipos de datos\n",
    "- Práctica 1: Listas, tuplas y diccionarios\n",
    "    - Listas\n",
    "    - Tuplas\n",
    "    - Diccionarios\n",
    "- Práctica 2: Escribir comandos básicos en Python para realizar operaciones aritméticas, manipular series y asignar variables.\n",
    "    - Operaciones aritméticas\n",
    "    - Manipular series\n",
    "    - Asignar variables\n",
    "\n",
    "### B. Estructuras de control de flujos en programas con Python\n",
    "- Práctica: Implementar ciclos (for, while) y declaraciones condicionales (if-else) en Python.\n",
    "    - For, while\n",
    "    - If-else\n",
    "\n",
    "### C. Gestión de error en Python\n",
    "- Práctica: Identificar y gestionar excepciones en Python mediante el uso de los bloques try-except\n",
    "    - Try-except\n",
    "\n",
    "### D. Funciones de Python\n",
    "- Práctica: Definir y utilizar las funciones de Python para encapsular bloques reutilizables de código\n",
    "\n",
    "### E. Recursos bibliográficos\n",
    "- Libros\n",
    "- Enlaces\n",
    "\n"
   ]
  },
  {
   "cell_type": "markdown",
   "id": "03648a72-1c08-4a4f-8c19-4a410a1565c5",
   "metadata": {},
   "source": [
    "---"
   ]
  },
  {
   "cell_type": "markdown",
   "id": "77475efb-bd0e-4f56-a558-fae5a195f45d",
   "metadata": {},
   "source": [
    "<h1>FUNDAMENTOS DE PYTHON</h1>\n",
    "    <h2>Introducción a Python</h2>\n",
    "    <p>Python es un lenguaje de programación de código abierto e interpretado. Esto significa que cada línea de código que escribimos es leída y ejecutada por un intérprete en tiempo real. El intérprete traduce las instrucciones directamente al lenguaje de la máquina a medida que las ejecuta, lo cual elimina la necesidad de una compilación previa del código y aumenta su versatilidad.</p>\n",
    "    <p>Cabe mencionar que los lenguajes que se compilan para una plataforma específica son generalmente más rápidos en su ejecución y aprovechan mejor los recursos, pero no son tan versátiles si los queremos usar en diferentes plataformas.</p>\n",
    "    <p>Python además es un lenguaje multiplataforma, lo que permite poder ejecutarlo en diferentes sistemas operativos o plataformas.</p>\n",
    "    <p>La ventaja principal de Python es su sintaxis, la cual lo hace muy sencillo en comparación con otros lenguajes de programación, pero no por ello menos potente, sobre todo cuando se trata del ámbito científico. Esto quiere decir que la curva de aprendizaje de Python es menos pronunciada que en otros lenguajes populares de programación. Además, tiene infinidad de librerías, en especial para la ciencia de datos o IA, que están constantemente actualizándose.</p>\n",
    "</body>\n",
    "\n"
   ]
  },
  {
   "cell_type": "markdown",
   "id": "b21868bc-5416-4f85-b82b-2531e2108ebd",
   "metadata": {},
   "source": [
    "# Tipos de datos\n",
    "⇨ Los tipos de datos que se manejan en Python son básicamente: números (enteros, reales y complejos), strings (cadenas), booleanos, listas, tuplas, diccionarios, conjuntos(sets),.\n",
    "\n",
    "* Notar que **en Python no hace falta definir el tipo de dato** como si es necesario en otros lenguajes de programación, por ejemplo en Java, donde si hay que especificar si es un tipo entero (int), flotante (float), flotante extendido (double), boleano(boolean), etc."
   ]
  },
  {
   "cell_type": "markdown",
   "id": "aa5093ee-736d-4a44-9b55-0c7ff11e4724",
   "metadata": {},
   "source": [
    "### Enteros, reales y complejos\n",
    "En Python, los números enteros (int) son valores sin decimales que pueden ser positivos, negativos o cero y tienen un rango prácticamente ilimitado. Los números reales (float) son valores con decimales que también pueden ser positivos, negativos o cero y se utilizan para representar números fraccionarios. Los números complejos tienen una parte real y una parte imaginaria, representada por 'j', y se utilizan en cálculos matemáticos más avanzados.\n",
    "\n",
    "\n",
    "Estos serían algunos ejemplos de enteros, reales (float) e imaginarios:"
   ]
  },
  {
   "cell_type": "code",
   "execution_count": null,
   "id": "6a86962f-228c-4a09-a800-9da9613e5460",
   "metadata": {},
   "outputs": [],
   "source": [
    "# Ejemplos de enteros, reales (float) e imaginarios:\n",
    "entero = 10 # así asignamos un valor a una variable, Python detecta el tipo de dato que es\n",
    "real = 4.5\n",
    "complejo = 3 + 4j"
   ]
  },
  {
   "cell_type": "markdown",
   "id": "0a7ff755-89a3-4479-9a6c-fcde7f3e10ca",
   "metadata": {},
   "source": [
    "Además hay otro tipo de datos como los strings o cadenas, las listas, las tuplas, el diccionario o el tipo rango.\n",
    "\n",
    "### Cadenas\n",
    "Una cadena en Python es una secuencia inmutable de caracteres utilizada para almacenar y manipular texto. Las cadenas se delimitan mediante comillas simples (' ') o dobles (\" \") y permiten realizar diversas operaciones como concatenación, slicing, búsqueda y modificación del contenido, aunque el propio objeto de cadena no puede ser alterado una vez creado."
   ]
  },
  {
   "cell_type": "code",
   "execution_count": null,
   "id": "cf1c2528-e132-486c-8c15-6e9df1856b37",
   "metadata": {},
   "outputs": [],
   "source": [
    "# Esto es una cadena\n",
    "cadena = \"Hola, Mundo!\"\n",
    "print(cadena)\n"
   ]
  },
  {
   "cell_type": "code",
   "execution_count": null,
   "id": "bb716b3f-05e2-4ac2-9b23-837df973e2ec",
   "metadata": {},
   "outputs": [],
   "source": [
    "# Sumando una cadena  (en este caso usamos comillas simples ' ', en vez de dobles \" \", es lo mismo)\n",
    "# Esto es algo útil en cadenas donde hay  \"\", dentro para evitar usar caracteres de escape.\n",
    "cadena1 = 'Hello'\n",
    "cadena2 = 'World'\n",
    "resultado = cadena1 + \", \" + cadena2\n",
    "print(resultado)"
   ]
  },
  {
   "cell_type": "code",
   "execution_count": null,
   "id": "f86d5f19-a640-4d51-8625-f78c68b7f576",
   "metadata": {},
   "outputs": [],
   "source": [
    "# Longitud de una cadena en caracteres\n",
    "cadena = \"Hola, Mundo\"\n",
    "longitud = len(cadena)\n",
    "print(longitud)  # Salida: 11"
   ]
  },
  {
   "cell_type": "code",
   "execution_count": null,
   "id": "62a3f750-6f26-48f7-827a-94d09a45692f",
   "metadata": {},
   "outputs": [],
   "source": [
    "# Pasar a minúsculas o a mayúsculas\n",
    "cadena = \"Hola, Mundo\"\n",
    "cadena_mayusculas = cadena.upper()\n",
    "cadena_minusculas = cadena.lower()\n",
    "print(cadena_mayusculas)  # Salida: HOLA, MUNDO\n",
    "print(cadena_minusculas)  # Salida: hola, mundo"
   ]
  },
  {
   "cell_type": "code",
   "execution_count": null,
   "id": "975e1000-df23-4b20-97e7-da6f42649219",
   "metadata": {},
   "outputs": [],
   "source": [
    "# Dividir una cadena\n",
    "cadena = \"Hola, Mundo\"\n",
    "lista = cadena.split(\", \") #divide la cadena usando la \", \" como separador de cada elto.\n",
    "print(lista)  # Salida: ['Hola', 'Mundo']"
   ]
  },
  {
   "cell_type": "code",
   "execution_count": 1,
   "id": "7f2b88c9-e547-418e-b577-a66d59c68c35",
   "metadata": {},
   "outputs": [
    {
     "name": "stdout",
     "output_type": "stream",
     "text": [
      "Me llamo Juan y tengo 30 años.\n"
     ]
    }
   ],
   "source": [
    "# Uso de f-strings, otra forma de imprimir cadenas con variables\n",
    "nombre = \"Juan\"\n",
    "edad = 30\n",
    "cadena = f\"Me llamo {nombre} y tengo {edad} años.\"\n",
    "print(cadena)  # Salida: Me llamo Juan y tengo 30 años."
   ]
  },
  {
   "cell_type": "markdown",
   "id": "8e9cafaa-6dcf-4b2c-8f42-ba1ca3c40e74",
   "metadata": {},
   "source": [
    "#### Slicing en cadenas\n",
    "Slicing en Python es una técnica que permite extraer subsecciones de una secuencia, como una cadena o lista, usando la sintaxis [inicio:fin:paso], donde inicio es el índice inicial, fin es el índice final (no inclusivo) y paso es el intervalo entre índices."
   ]
  },
  {
   "cell_type": "code",
   "execution_count": null,
   "id": "0ebdfd87-7440-4e85-90c1-afa73c68e914",
   "metadata": {},
   "outputs": [],
   "source": [
    "# Obtener una subcadena desde el inicio hasta un índice específico.\n",
    "cadena = \"Hola, Mundo\"\n",
    "subcadena = cadena[0:4] #incluye la 0,1,2,3,y 4 ya no la incluye, es el que marca el final\n",
    "print(subcadena)  # Salida: Hola"
   ]
  },
  {
   "cell_type": "code",
   "execution_count": null,
   "id": "bbb54152-fdf5-4102-b5b7-db529a4f2639",
   "metadata": {},
   "outputs": [],
   "source": [
    "# Slicing desde un Índice hasta el Final\n",
    "#Obtener una subcadena desde un índice específico hasta el final de la cadena.\n",
    "cadena = \"Hola, Mundo\"\n",
    "subcadena = cadena[5:]\n",
    "print(subcadena)  # Salida: Mundo"
   ]
  },
  {
   "cell_type": "code",
   "execution_count": null,
   "id": "512e9635-dfda-476f-a09c-f3f7729aa219",
   "metadata": {},
   "outputs": [],
   "source": [
    "# Slicing con Índices Negativos\n",
    "#Utilizar índices negativos para obtener una subcadena desde el final de la cadena hacia atrás.\n",
    "cadena = \"Hola, Mundo\"\n",
    "subcadena = cadena[-5:]\n",
    "print(subcadena)  # Salida: Mundo"
   ]
  },
  {
   "cell_type": "code",
   "execution_count": null,
   "id": "86202e12-491e-4267-b577-3210e3eb5eaf",
   "metadata": {},
   "outputs": [],
   "source": [
    "# Slicing con Paso (Step)\n",
    "#Obtener una subcadena con un paso específico, saltando caracteres en el intervalo.\n",
    "cadena = \"Hola, Mundo\"\n",
    "subcadena = cadena[0:10:2]\n",
    "print(subcadena)  # Salida: Hl,Mn"
   ]
  },
  {
   "cell_type": "markdown",
   "id": "80cb9fc9-941f-47bf-886d-fc1e9e2348b1",
   "metadata": {},
   "source": [
    "### Booleanos\n",
    "Los booleanos en Python son un tipo de dato que puede tener uno de dos valores: `True` o `False`. Se utilizan para representar valores de verdad y son fundamentales en las operaciones lógicas y de control de flujo.\n",
    "\n",
    "**Ejemplos de uso:**\n",
    "- Se usan en declaraciones `if`, `while` y otras estructuras de control para decidir si se debe ejecutar un bloque de código.\n",
    "- Evaluar condiciones y expresiones lógicas."
   ]
  },
  {
   "cell_type": "code",
   "execution_count": null,
   "id": "2b08de84-6f62-4949-8009-ea31b3f47044",
   "metadata": {},
   "outputs": [],
   "source": [
    "# Declarar variables booleanas\n",
    "es_verdadero = True\n",
    "es_falso = False\n",
    "\n",
    "# Mostrar valores booleanos\n",
    "print(\"El valor de es_verdadero es:\", es_verdadero)\n",
    "print(\"El valor de es_falso es:\", es_falso)\n"
   ]
  },
  {
   "cell_type": "code",
   "execution_count": null,
   "id": "5d42d549-8f29-48b6-9d9e-290fc64cbba4",
   "metadata": {},
   "outputs": [],
   "source": [
    "# Evaluar expresiones booleanas\n",
    "a = 10\n",
    "b = 20\n",
    "\n",
    "# Comparaciones\n",
    "es_igual = a == b\n",
    "es_mayor = a > b\n",
    "es_menor = a < b\n",
    "es_diferente = a != b\n",
    "\n",
    "\n",
    "print(\"a es igual a b:\", es_igual)           # Salida: False\n",
    "print(\"a es mayor que b:\", es_mayor)         # Salida: False\n",
    "print(\"a es menor que b:\", es_menor)         # Salida: True\n",
    "print(\"a es diferente de b:\", es_diferente)  # Salida: True\n"
   ]
  },
  {
   "cell_type": "code",
   "execution_count": null,
   "id": "bfdd9a83-511e-44b7-be05-78456f33fd7b",
   "metadata": {},
   "outputs": [],
   "source": [
    "# Declarar variables booleanas\n",
    "es_mayor_de_edad = True\n",
    "tiene_licencia = False\n",
    "\n",
    "# Operadores lógicos\n",
    "puede_conducir = es_mayor_de_edad and tiene_licencia\n",
    "puede_votar = es_mayor_de_edad or tiene_licencia\n",
    "no_tiene_licencia = not tiene_licencia\n",
    "\n",
    "print(\"Puede conducir:\", puede_conducir)           # Salida: False\n",
    "print(\"Puede votar:\", puede_votar)                 # Salida: True\n",
    "print(\"No tiene licencia:\", no_tiene_licencia)     # Salida: True\n"
   ]
  },
  {
   "cell_type": "markdown",
   "id": "68733157-7fa8-453c-83fb-7c125c912a61",
   "metadata": {},
   "source": [
    "### Visualizar tipos de datos\n",
    "\n",
    "Para visualizar cualquier tipo de dato podemos usar el comando `type`, de la siguiente manera:"
   ]
  },
  {
   "cell_type": "code",
   "execution_count": null,
   "id": "97eb0422-88a9-4290-ac3a-a99a464edb46",
   "metadata": {},
   "outputs": [],
   "source": [
    "# Entero\n",
    "numero_entero = 42\n",
    "\n",
    "# Flotante\n",
    "numero_flotante = 3.14159\n",
    "\n",
    "# Cadena\n",
    "texto = \"Hola, Mundo\"\n",
    "\n",
    "# Booleano\n",
    "es_verdad = True\n",
    "\n",
    "# Lista\n",
    "mi_lista = [1, 2, 3, 4, 5]\n",
    "\n",
    "# Tupla\n",
    "mi_tupla = (1, 2, 3, 4, 5)\n",
    "\n",
    "# Diccionario\n",
    "mi_diccionario = {'nombre': 'Juan', 'edad': 30}\n",
    "\n",
    "# Conjunto\n",
    "mi_conjunto = {1, 2, 3, 4, 5}\n",
    "\n",
    "# Usar type() para ver el tipo de dato\n",
    "print(\"Tipo de dato de numero_entero:\", type(numero_entero))\n",
    "print(\"Tipo de dato de texto:\", type(texto))\n",
    "print(\"Tipo de dato de es_verdad:\", type(es_verdad))\n",
    "print(\"Tipo de dato de mi_lista:\", type(mi_lista))\n",
    "print(\"Tipo de dato de mi_tupla:\", type(mi_tupla))\n",
    "print(\"Tipo de dato de mi_diccionario:\", type(mi_diccionario))\n",
    "print(\"Tipo de dato de mi_conjunto:\", type(mi_conjunto))\n"
   ]
  },
  {
   "cell_type": "markdown",
   "id": "dcec78c4-753a-467f-9794-a422c26dc543",
   "metadata": {},
   "source": [
    "# PRÁCTICA 1"
   ]
  },
  {
   "cell_type": "markdown",
   "id": "125a8daa-6947-4776-ab87-b82651d7f9cb",
   "metadata": {},
   "source": [
    "### Listas\n",
    "Son secuencias mutables de elementos, que pueden ser de cualquier tipo y se pueden modificar después de su creación. Se usan normalmente para crear colecciones de datos.\n",
    "\n",
    "***Características Principales***\n",
    "- Ordenadas\n",
    "- Mutables\n",
    "- Permiten elementos duplicados\n",
    "- Heterogéneas\n",
    "- Indexadas\n",
    "\n",
    "**Ejemplos de uso:**\n",
    "- Almacenar y manipular una colección de datos dinámicos.\n",
    "- Iterar sobre elementos en bucles.\n",
    "- Agregar, eliminar o modificar elementos de la colección.\n",
    "\n",
    "  "
   ]
  },
  {
   "cell_type": "code",
   "execution_count": null,
   "id": "d1d8e4b9-5e83-4705-9013-f1b20fe22ff5",
   "metadata": {},
   "outputs": [],
   "source": [
    "#Esto es una lista, y el número de sus elementos puede variar o cambiarse el valor\n",
    "lista = [1, 2, 3, \"a\", \"b\", \"c\"]\n"
   ]
  },
  {
   "cell_type": "code",
   "execution_count": null,
   "id": "dc8c4044-d591-4437-a71b-5629e13beea1",
   "metadata": {},
   "outputs": [],
   "source": [
    "# Ejercicio 1: Crear una Lista\n",
    "mi_lista = [1, 2, 3, 4, 5]\n",
    "print(mi_lista)  # Salida: [1, 2, 3, 4, 5]\n"
   ]
  },
  {
   "cell_type": "code",
   "execution_count": null,
   "id": "f4bb4b67-2423-472e-8294-72cae0cca239",
   "metadata": {},
   "outputs": [],
   "source": [
    "# Ejercicio 2: Acceder a elementos\n",
    "tercer_elemento = mi_lista[2]\n",
    "print(tercer_elemento)  # Salida: 3\n"
   ]
  },
  {
   "cell_type": "code",
   "execution_count": null,
   "id": "2e53c070-b6ed-4b61-8eb6-87c7a6e365a0",
   "metadata": {},
   "outputs": [],
   "source": [
    "# Ejercicio 3: Modificar elementos\n",
    "mi_lista[1] = 10\n",
    "print(mi_lista)  # Salida: [1, 10, 3, 4, 5]"
   ]
  },
  {
   "cell_type": "code",
   "execution_count": null,
   "id": "b5647a15-3fc5-4b32-aec5-196d6a80ec25",
   "metadata": {},
   "outputs": [],
   "source": [
    "# Ejercicio 4: Agregar elementos\n",
    "mi_lista.append(6)\n",
    "print(mi_lista)  # Salida: [1, 10, 3, 4, 5, 6]\n"
   ]
  },
  {
   "cell_type": "code",
   "execution_count": null,
   "id": "4c222fef-9e59-458e-b46c-8e10e9c3cb9c",
   "metadata": {},
   "outputs": [],
   "source": [
    "# Ejercicio 5: Eliminar elementos\n",
    "del mi_lista[3]\n",
    "print(mi_lista)  # Salida: [1, 10, 3, 5, 6]"
   ]
  },
  {
   "cell_type": "code",
   "execution_count": null,
   "id": "9ebd6616-5722-48a3-a44c-51b05d9ba6a9",
   "metadata": {},
   "outputs": [],
   "source": [
    "# Ejercicio 6: Slicing\n",
    "sublista = mi_lista[:3]\n",
    "print(sublista)  # Salida: [1, 10, 3]"
   ]
  },
  {
   "cell_type": "code",
   "execution_count": null,
   "id": "1a0ed998-1365-43bf-b13e-3f376a1a07e5",
   "metadata": {},
   "outputs": [],
   "source": [
    "#Ejercicio 7: Concatenar listas\n",
    "otra_lista = [7,8,9]\n",
    "lista_concatenada = mi_lista + otra_lista\n",
    "print(lista_concatenada) # Salida: [1, 2, 3, 4, 5, 7, 8, 9]"
   ]
  },
  {
   "cell_type": "code",
   "execution_count": null,
   "id": "2858a4c6-8fa3-4b5e-9e83-8bc66f85e001",
   "metadata": {},
   "outputs": [],
   "source": [
    "# Ejercicio 8: Verificar presencia de un elemento\n",
    "presente = 10 in mi_lista\n",
    "print(presente)  # Salida: True\n"
   ]
  },
  {
   "cell_type": "code",
   "execution_count": null,
   "id": "398b568c-156d-42f4-8143-f7a01e023134",
   "metadata": {},
   "outputs": [],
   "source": [
    "# Ejercicio 9: Longitud de la lista\n",
    "longitud = len(mi_lista)\n",
    "print(longitud)  # Salida: 6"
   ]
  },
  {
   "cell_type": "code",
   "execution_count": null,
   "id": "7e553eb5-cca0-45c6-b4db-3b504c8a6c84",
   "metadata": {},
   "outputs": [],
   "source": [
    "# Ejercicio 10: Ordenar la lista\n",
    "mi_lista.sort()\n",
    "print(mi_lista)  # Salida: [1, 3, 5, 6, 10]\n"
   ]
  },
  {
   "cell_type": "code",
   "execution_count": null,
   "id": "45067c3e-05d0-4a07-ac13-575f5957f817",
   "metadata": {},
   "outputs": [],
   "source": [
    "# Ejercicio 11: Lista en orden inverso\n",
    "mi_lista.reverse()\n",
    "print(mi_lista)  # Salida: [10, 6, 5, 3, 1]"
   ]
  },
  {
   "cell_type": "code",
   "execution_count": null,
   "id": "0fce10c5-c4a9-451b-b94e-0d42e13e001d",
   "metadata": {},
   "outputs": [],
   "source": [
    "# Ejercicio 12: Clonar una Lista\n",
    "copia_lista = mi_lista[:]\n",
    "print(copia_lista)  # Salida: [10, 6, 5, 3, 1]"
   ]
  },
  {
   "cell_type": "code",
   "execution_count": null,
   "id": "c56ae5a2-e801-4829-9d38-05dd188fbce6",
   "metadata": {},
   "outputs": [],
   "source": [
    "# Ejercicio 13: Eliminar todos los elementos\n",
    "mi_lista.clear()\n",
    "print(mi_lista)  # Salida: []"
   ]
  },
  {
   "cell_type": "markdown",
   "id": "75181ff8-ed27-4191-b7d8-bd9932f4a3ce",
   "metadata": {},
   "source": [
    "### Tuplas\n",
    "Son secuencias inmutables de elementos, que también pueden ser de cualquier tipo, pero no se pueden modificar después de su creación.\n",
    "\n",
    "***Características Principales***\n",
    "- Ordenadas\n",
    "- Inmutables\n",
    "- Permiten elementos duplicados\n",
    "- Heterogéneas\n",
    "- Indexadas\n",
    "\n",
    "**Ejemplos de uso:**\n",
    "- Almacenar datos constantes (días de la semana).\n",
    "- Retornar múltiples valores desde una función.\n",
    "- Utilizarlas como claves en un diccionario (debido a su inmutabilidad)."
   ]
  },
  {
   "cell_type": "code",
   "execution_count": null,
   "id": "0f3453a2-83d2-4b4d-96be-46d19e46a7ec",
   "metadata": {},
   "outputs": [],
   "source": [
    "\n",
    "tupla = (1, 2, 3, \"a\", \"b\", \"c\")\n"
   ]
  },
  {
   "cell_type": "code",
   "execution_count": null,
   "id": "04cb43b2-269c-442f-92e3-f676dd6bb77e",
   "metadata": {},
   "outputs": [],
   "source": [
    "# Ejercicio 1: Crear una tupla\n",
    "mi_tupla = (1, 2, 3, 4, 5)\n",
    "print(mi_tupla)  # Salida: (1, 2, 3, 4, 5)\n"
   ]
  },
  {
   "cell_type": "code",
   "execution_count": null,
   "id": "d7b5f8d9-7417-4d4e-8218-9f5babcfc9c4",
   "metadata": {},
   "outputs": [],
   "source": [
    "# Ejercicio 2: Acceder a elementos\n",
    "tercer_elemento = mi_tupla[2]\n",
    "print(tercer_elemento)  # Salida: 3"
   ]
  },
  {
   "cell_type": "code",
   "execution_count": null,
   "id": "e4e33451-93fe-40af-aa35-d0bcba55cd03",
   "metadata": {},
   "outputs": [],
   "source": [
    "# Ejercicio 3: Intentar modificar elementos (esto generará un error porque las tuplas son inmutables)\n",
    "try:\n",
    "    mi_tupla[1] = 10\n",
    "except TypeError as e:\n",
    "    print(e)  # Salida: 'tuple' object does not support item assignment"
   ]
  },
  {
   "cell_type": "code",
   "execution_count": null,
   "id": "cca5ee14-6458-4dc7-8f11-6dd722e5ef19",
   "metadata": {},
   "outputs": [],
   "source": [
    "# Ejercicio 4: Agregar elementos (no es posible directamente, pero puedes crear una nueva tupla)\n",
    "nueva_tupla = mi_tupla + (6,)\n",
    "print(nueva_tupla)  # Salida: (1, 2, 3, 4, 5, 6)"
   ]
  },
  {
   "cell_type": "code",
   "execution_count": null,
   "id": "74b18fb6-8b9c-4c5a-afc8-1cb78ce3ae59",
   "metadata": {},
   "outputs": [],
   "source": [
    "# Ejercicio 5: Eliminar elementos (no es posible directamente, pero puedes crear una nueva tupla excluyendo el elemento)\n",
    "nueva_tupla = mi_tupla[:3] + mi_tupla[4:]\n",
    "print(nueva_tupla)  # Salida: (1, 2, 3, 5)\n"
   ]
  },
  {
   "cell_type": "code",
   "execution_count": null,
   "id": "72c3bad3-fdc1-4bdc-92d3-37d3cf6aed1f",
   "metadata": {},
   "outputs": [],
   "source": [
    "# Ejercicio 6: Slicing\n",
    "subtupla = mi_tupla[:3]\n",
    "print(subtupla)  # Salida: (1, 2, 3)"
   ]
  },
  {
   "cell_type": "code",
   "execution_count": null,
   "id": "946ff60b-d76f-4ac1-9994-af7cf7731178",
   "metadata": {},
   "outputs": [],
   "source": [
    "# Ejercicio 7: Concatenar tuplas\n",
    "otra_tupla = (7, 8, 9)\n",
    "tupla_concatenada = mi_tupla + otra_tupla\n",
    "print(tupla_concatenada)  # Salida: (1, 2, 3, 4, 5, 7, 8, 9)\n"
   ]
  },
  {
   "cell_type": "code",
   "execution_count": null,
   "id": "d206bde3-ee91-42bc-970c-c7098ac496b1",
   "metadata": {},
   "outputs": [],
   "source": [
    "# Ejercicio 8: Verificar presencia de un elemento\n",
    "presente = 10 in mi_tupla\n",
    "print(presente)  # Salida: False\n"
   ]
  },
  {
   "cell_type": "code",
   "execution_count": null,
   "id": "b1b6fb3a-41b9-4b1a-a697-95245cc9ea45",
   "metadata": {},
   "outputs": [],
   "source": [
    "# Ejercicio 9: Longitud de la tupla\n",
    "longitud = len(mi_tupla)\n",
    "print(longitud)  # Salida: 5\n"
   ]
  },
  {
   "cell_type": "code",
   "execution_count": null,
   "id": "a79261ad-9b7a-439f-a5f4-4c164a5170ff",
   "metadata": {},
   "outputs": [],
   "source": [
    "# Ejercicio 10: Ordenar la tupla (no es posible modificar la tupla, pero puedes crear una lista ordenada)\n",
    "lista_ordenada = sorted(mi_tupla)\n",
    "print(lista_ordenada)  # Salida: [1, 2, 3, 4, 5]\n"
   ]
  },
  {
   "cell_type": "code",
   "execution_count": null,
   "id": "f0efd75c-fe28-4c81-b24e-c9f77e2b13bc",
   "metadata": {},
   "outputs": [],
   "source": [
    "# Ejercicio 11: Tupla en orden inverso (no es posible modificar la tupla, pero puedes crear una lista invertida)\n",
    "lista_invertida = list(mi_tupla)[::-1]\n",
    "print(lista_invertida)  # Salida: [5, 4, 3, 2, 1]"
   ]
  },
  {
   "cell_type": "code",
   "execution_count": null,
   "id": "7fe54e31-8559-47e6-abdd-27461c477801",
   "metadata": {},
   "outputs": [],
   "source": [
    "# Ejercicio 12: Clonar una Tupla\n",
    "copia_tupla = mi_tupla[:]\n",
    "print(copia_tupla)  # Salida: (1, 2, 3, 4, 5)\n"
   ]
  },
  {
   "cell_type": "code",
   "execution_count": null,
   "id": "c62d25a2-8d36-4bac-afed-6ea018011d18",
   "metadata": {},
   "outputs": [],
   "source": [
    "# Ejercicio 13: Eliminar todos los elementos (no es posible modificar la tupla, pero puedes crear una tupla vacía)\n",
    "tupla_vacia = ()\n",
    "print(tupla_vacia)  # Salida: ()"
   ]
  },
  {
   "cell_type": "markdown",
   "id": "ebadf803-77d3-436f-95c5-e0b46cf40a5f",
   "metadata": {},
   "source": [
    "### Diccionarios\n",
    "Los diccionarios en Python son colecciones desordenadas de pares clave-valor, donde cada clave única está asociada a un valor. Los diccionarios permiten un acceso rápido a los valores a través de sus claves.\n",
    "\n",
    "**Características Principales**\n",
    "- Colección de pares clave-valor.\n",
    "- Mutable (se pueden modificar).\n",
    "- No ordenado (hasta Python 3.6) / Orden de inserción (a partir de Python 3.7).\n",
    "- Claves inmutables y únicas.\n",
    "- Acceso rápido a los valores mediante claves.\n",
    "\n",
    "**Ejemplos de uso:**\n",
    "- Almacenar y acceder a datos estructurados, como los atributos de un objeto.\n",
    "- Implementar tablas de búsqueda y mapas.\n",
    "- Organizar datos de una manera que permita el acceso rápido a través de claves."
   ]
  },
  {
   "cell_type": "code",
   "execution_count": null,
   "id": "21eb34d1-40ea-4243-93ed-0c0b4ac72c8c",
   "metadata": {},
   "outputs": [],
   "source": [
    "#Esto es un diccionario\n",
    "diccionario = {\"clave1\": \"valor1\", \"clave2\": \"valor2\"}\n"
   ]
  },
  {
   "cell_type": "code",
   "execution_count": null,
   "id": "237bf08d-5485-4c77-a955-0c5b25288920",
   "metadata": {},
   "outputs": [],
   "source": [
    "# Ejercicio 1: Crear un diccionario\n",
    "mi_diccionario = {\"nombre\": \"Juan\", \"edad\": 30, \"ciudad\": \"Madrid\"}\n",
    "print(mi_diccionario)  # Salida: {'nombre': 'Juan', 'edad': 30, 'ciudad': 'Madrid'}"
   ]
  },
  {
   "cell_type": "code",
   "execution_count": null,
   "id": "a1ae822a-9554-4b6d-bc07-4f687b20d331",
   "metadata": {},
   "outputs": [],
   "source": [
    "# Ejercicio 2: Acceder a un valor\n",
    "edad = mi_diccionario[\"edad\"]\n",
    "print(edad)  # Salida: 30"
   ]
  },
  {
   "cell_type": "code",
   "execution_count": null,
   "id": "5e5e0ee9-54a5-4149-9450-e797c9d14d20",
   "metadata": {},
   "outputs": [],
   "source": [
    "# Ejercicio 3: Modificar un valor\n",
    "mi_diccionario[\"edad\"] = 31\n",
    "print(mi_diccionario)  # Salida: {'nombre': 'Juan', 'edad': 31, 'ciudad': 'Madrid'}\n"
   ]
  },
  {
   "cell_type": "code",
   "execution_count": null,
   "id": "31344533-a1f5-4e34-bf6e-b006e7aadf7f",
   "metadata": {},
   "outputs": [],
   "source": [
    "# Ejercicio 4: Agregar un nuevo par clave-valor\n",
    "mi_diccionario[\"profesion\"] = \"Ingeniero\"\n",
    "print(mi_diccionario)  # Salida: {'nombre': 'Juan', 'edad': 31, 'ciudad': 'Madrid', 'profesion': 'Ingeniero'}"
   ]
  },
  {
   "cell_type": "code",
   "execution_count": null,
   "id": "830de4b5-2335-425f-bf56-94a174f47287",
   "metadata": {},
   "outputs": [],
   "source": [
    "# Ejercicio 5: Eliminar un Par Clave-Valor\n",
    "del mi_diccionario[\"ciudad\"]\n",
    "print(mi_diccionario)  # Salida: {'nombre': 'Juan', 'edad': 31, 'profesion': 'Ingeniero'}"
   ]
  },
  {
   "cell_type": "code",
   "execution_count": null,
   "id": "cbcd2a6f-ff21-462a-ad47-b812f9107bdc",
   "metadata": {},
   "outputs": [],
   "source": [
    "# Ejercicio 6: Verificar presencia de una clave\n",
    "presente = \"nombre\" in mi_diccionario\n",
    "print(presente)  # Salida: True"
   ]
  },
  {
   "cell_type": "code",
   "execution_count": null,
   "id": "f7b789f3-78e7-4d92-b2c7-4a82b12f2a91",
   "metadata": {},
   "outputs": [],
   "source": [
    "# Ejercicio 7: Obtener todas las claves\n",
    "claves = mi_diccionario.keys()\n",
    "print(claves)  # Salida: dict_keys(['nombre', 'edad', 'profesion'])\n"
   ]
  },
  {
   "cell_type": "code",
   "execution_count": null,
   "id": "55753631-e754-4da2-84e1-5fa1532104e9",
   "metadata": {},
   "outputs": [],
   "source": [
    "# Ejercicio 8: Obtener todos los valores\n",
    "valores = mi_diccionario.values()\n",
    "print(valores)  # Salida: dict_values(['Juan', 31, 'Ingeniero'])\n"
   ]
  },
  {
   "cell_type": "code",
   "execution_count": null,
   "id": "144edcb3-a036-4c6f-9ee1-5d76f258dc78",
   "metadata": {},
   "outputs": [],
   "source": [
    "# Ejercicio 9: Longitud del diccionario\n",
    "longitud = len(mi_diccionario)\n",
    "print(longitud)  # Salida: 3"
   ]
  },
  {
   "cell_type": "code",
   "execution_count": null,
   "id": "30a3fbd4-5acf-4545-89ba-a3514c502dba",
   "metadata": {},
   "outputs": [],
   "source": [
    "# Ejercicio 10: Obtener todos los pares clave-valor\n",
    "items = mi_diccionario.items()\n",
    "print(items)  # Salida: dict_items([('nombre', 'Juan'), ('edad', 31), ('profesion', 'Ingeniero')])\n"
   ]
  },
  {
   "cell_type": "code",
   "execution_count": null,
   "id": "550fd70d-f652-4d84-bb4e-80b69ac904af",
   "metadata": {},
   "outputs": [],
   "source": [
    "# Ejercicio 11: Limpiar el diccionario\n",
    "mi_diccionario.clear()\n",
    "print(mi_diccionario)  # Salida: {}"
   ]
  },
  {
   "cell_type": "markdown",
   "id": "42fdfbe0-a9bd-48ae-aa12-c91d4fae638b",
   "metadata": {},
   "source": [
    "### Sets  (NO ES PARTE DE LA PRÁCTICA)\n",
    "Un set en Python es una colección desordenada de elementos únicos. Los sets se utilizan para almacenar múltiples elementos en una sola variable y son útiles para operaciones que involucran conjuntos matemáticos como unión, intersección, diferencia y diferencia simétrica. A diferencia de las listas, los elementos en un set no están indexados, lo que significa que no se puede acceder a ellos mediante índices.\n",
    "\n",
    "**Características Principales**\n",
    "- Unicidad: No permite elementos duplicados.\n",
    "- Desordenado: No conserva el orden de los elementos.\n",
    "- Mutable: Los elementos pueden ser añadidos o eliminados después de la creación.\n",
    "\n",
    "**Ejemplos de uso:**\n",
    "- Eliminar duplicados de una lista.\n",
    "- Verificar la pertenencia de un elemento en una colección.\n",
    "- Realizar operaciones de conjuntos como unión e intersección."
   ]
  },
  {
   "cell_type": "code",
   "execution_count": null,
   "id": "b6c37378-4694-4c8b-a806-f73e11e248d6",
   "metadata": {},
   "outputs": [],
   "source": [
    "# Crear un conjunto con algunos elementos\n",
    "mi_conjunto = {1, 2, 3, 4, 5}\n",
    "\n",
    "# Mostrar el conjunto\n",
    "print(\"Conjunto:\", mi_conjunto)\n",
    "\n",
    "# Añadir un elemento al conjunto\n",
    "mi_conjunto.add(6)\n",
    "print(\"Después de añadir 6:\", mi_conjunto)\n",
    "\n",
    "# Eliminar un elemento del conjunto\n",
    "mi_conjunto.remove(3)\n",
    "print(\"Después de eliminar 3:\", mi_conjunto)\n",
    "\n",
    "# Comprobar si un elemento está en el conjunto\n",
    "print(\"¿4 está en el conjunto?\", 4 in mi_conjunto)\n",
    "\n",
    "# Iterar sobre los elementos del conjunto\n",
    "print(\"Elementos del conjunto:\")\n",
    "for elemento in mi_conjunto:\n",
    "    print(elemento)\n"
   ]
  },
  {
   "cell_type": "markdown",
   "id": "10fe27a8-ba2a-4515-b79b-fb331a94592b",
   "metadata": {},
   "source": [
    "### Rangos (NO ES PARTE DE LA PRÁCTICA)\n",
    "Son secuencias inmutables de números, generados sobre la marcha, comúnmente usados para iterar en bucles.\n",
    "\n",
    "**Características Principales**\n",
    "- Generador de secuencias\n",
    "- Inmutables\n",
    "- Soportan iteraciones\n",
    "\n",
    "**Ejemplos de uso:**\n",
    "- Iterar un número específico de veces en un bucle for.\n",
    "- Generar una secuencia de números con un inicio y un fin específicos.\n",
    "- Generar una secuencia de números con un paso específico."
   ]
  },
  {
   "cell_type": "code",
   "execution_count": null,
   "id": "7abab690-aff8-49bb-b09e-6c548d946c9d",
   "metadata": {},
   "outputs": [],
   "source": [
    "rango = range(5)  # Genera los números 0, 1, 2, 3, 4\n",
    "for i in rango:\n",
    "    print(i)\n"
   ]
  },
  {
   "cell_type": "markdown",
   "id": "42ab92ad-d87b-4ba7-91a0-c4077fe6d5e8",
   "metadata": {},
   "source": [
    "# PRÁCTICA 2"
   ]
  },
  {
   "cell_type": "markdown",
   "id": "5ca10878-152e-4fca-b9ed-77984a412134",
   "metadata": {},
   "source": [
    "### Operaciones Aritméticas\n",
    "Las operaciones aritméticas son cálculos matemáticos que involucran números. \n",
    "En Python, estas operaciones se realizan utilizando operadores aritméticos para llevar a cabo tareas como suma, resta, multiplicación, división, y otras operaciones matemáticas básicas.\n",
    "\n",
    "<table align=\"center\" border=\"1\" cellpadding=\"10\" cellspacing=\"0\">\n",
    "  <tr>\n",
    "    <th>Operador</th>\n",
    "    <th>Descripción</th>\n",
    "  </tr>\n",
    "  <tr>\n",
    "    <td align=\"center\">+</td>\n",
    "    <td align=\"center\">Suma</td>\n",
    "  </tr>\n",
    "  <tr>\n",
    "    <td align=\"center\">-</td>\n",
    "    <td align=\"center\">Resta</td>\n",
    "  </tr>\n",
    "  <tr>\n",
    "    <td align=\"center\">*</td>\n",
    "    <td align=\"center\">Multiplicación</td>\n",
    "  </tr>\n",
    "  <tr>\n",
    "    <td align=\"center\">/</td>\n",
    "    <td align=\"center\">División</td>\n",
    "  </tr>\n",
    "  <tr>\n",
    "    <td align=\"center\">//</td>\n",
    "    <td align=\"center\">División Entera</td>\n",
    "  </tr>\n",
    "  <tr>\n",
    "    <td align=\"center\">%</td>\n",
    "    <td align=\"center\">Módulo (Resto)</td>\n",
    "  </tr>\n",
    "  <tr>\n",
    "    <td align=\"center\">**</td>\n",
    "    <td align=\"center\">Exponenciación</td>\n",
    "  </tr>\n",
    "</table>\n"
   ]
  },
  {
   "cell_type": "code",
   "execution_count": null,
   "id": "e226705e-e390-4231-abe2-c4b13ad61838",
   "metadata": {},
   "outputs": [],
   "source": [
    "# Ejercicio 1: Asignar variables\n",
    "a = 10\n",
    "b = 5\n",
    "print(a, b)  # Salida: 10 5"
   ]
  },
  {
   "cell_type": "code",
   "execution_count": null,
   "id": "1f8fd621-8d9d-4be7-924a-7e0224fa926b",
   "metadata": {},
   "outputs": [],
   "source": [
    "# Ejercicio 2: Suma\n",
    "suma = a + b\n",
    "print(suma)  # Salida: 15"
   ]
  },
  {
   "cell_type": "code",
   "execution_count": null,
   "id": "a9badf52-f08f-4927-abd4-80f2fb3301be",
   "metadata": {},
   "outputs": [],
   "source": [
    "# Ejercicio 3: Resta\n",
    "resta = a - b\n",
    "print(resta)  # Salida: 5"
   ]
  },
  {
   "cell_type": "code",
   "execution_count": null,
   "id": "3cd4d690-821e-4ca0-a44f-5482eaa2b3ba",
   "metadata": {},
   "outputs": [],
   "source": [
    "# Ejercicio 4: Multiplicación\n",
    "multiplicacion = a * b\n",
    "print(multiplicacion)  # Salida: 50\n"
   ]
  },
  {
   "cell_type": "code",
   "execution_count": null,
   "id": "bf2307ac-7bb1-4aa5-9168-08b0b69c80b2",
   "metadata": {},
   "outputs": [],
   "source": [
    "# Ejercicio 5: División\n",
    "division = a / b\n",
    "print(division)  # Salida: 2.0"
   ]
  },
  {
   "cell_type": "code",
   "execution_count": null,
   "id": "2debf379-4e6c-4a68-8921-66bec59659ac",
   "metadata": {},
   "outputs": [],
   "source": [
    "# Ejercicio 6: División entera\n",
    "division_entera = a // b\n",
    "print(division_entera)  # Salida: 2"
   ]
  },
  {
   "cell_type": "code",
   "execution_count": null,
   "id": "2a987295-e143-4bda-90e8-e241b4399a4f",
   "metadata": {},
   "outputs": [],
   "source": [
    "# Ejercicio 7: Módulo (Residuo)\n",
    "a = 5\n",
    "b = 3\n",
    "modulo = a % b\n",
    "print(modulo)  # Salida: 0\n",
    "#Explicación 5 dividido por 3 es 1 con un residuo de 2 (5 - (3 * 1) = 2)"
   ]
  },
  {
   "cell_type": "code",
   "execution_count": null,
   "id": "99f4b71c-93de-46a6-aa75-9df3cd159b68",
   "metadata": {},
   "outputs": [],
   "source": [
    "# Ejercicio 8: Exponenciación\n",
    "exponente = a ** b\n",
    "print(exponente)  # Salida: 100000"
   ]
  },
  {
   "cell_type": "markdown",
   "id": "ecbed78a-ca57-4826-ab67-c53bbccecd6f",
   "metadata": {},
   "source": [
    "### Manipular series y asignar variables\n",
    "Una series en pandas es una estructura de datos unidimensional similar a una columna en una tabla o una lista en Python, pero con funcionalidades adicionales. Las series son parte fundamental de la biblioteca pandas y están diseñadas para manejar y manipular datos etiquetados de manera eficiente.\n",
    "\n",
    "**Características Principales**\n",
    "- Operaciones estadísticas\n",
    "- Métodos y funciones integradas\n",
    "- Eficientes\n",
    "\n",
    "**Ejemplos de uso:**\n",
    "- Análisis de precios de acciones\n",
    "- Filtrado de temperaturas\n",
    "- Análisis de series temporales\n",
    "\n"
   ]
  },
  {
   "cell_type": "code",
   "execution_count": null,
   "id": "01126016-8b66-41c5-a231-f3d43500f45e",
   "metadata": {},
   "outputs": [],
   "source": [
    "#Ejercicio 1: Crear una serie y mostrarla\n",
    "#Debemos importar la librería pandas que nos permite trabajar con esta herramienta\n",
    "import pandas as pd\n",
    "\n",
    "# Crear una series con los números del 1 al 10\n",
    "serie = pd.Series([1, 2, 3, 4, 5, 6, 7, 8, 9, 10])\n",
    "\n",
    "# Mostrar la Series entera\n",
    "print(\"Serie completa:\")\n",
    "print(serie)\n"
   ]
  },
  {
   "cell_type": "code",
   "execution_count": null,
   "id": "f4bbc61f-3e9b-4379-be91-78d992242739",
   "metadata": {},
   "outputs": [],
   "source": [
    "#Ejercicio 2: Acceder a elementos de una serie\n",
    "import pandas as pd\n",
    "\n",
    "# Crear una series con los números del 1 al 5\n",
    "serie = pd.Series([1, 2, 3, 4, 5])\n",
    "\n",
    "# Acceder al primer y último valor de la Series\n",
    "primer_valor = serie.iloc[0]\n",
    "ultimo_valor = serie.iloc[-1]\n",
    "\n",
    "print(\"Primer valor:\", primer_valor)\n",
    "print(\"Último valor:\", ultimo_valor)\n",
    "\n",
    "\n"
   ]
  },
  {
   "cell_type": "code",
   "execution_count": null,
   "id": "fd397c15-7a9a-4c62-ae55-e66d4199747b",
   "metadata": {},
   "outputs": [],
   "source": [
    "#Ejercicio 3: Modificar elementos de una serie\n",
    "import pandas as pd\n",
    "\n",
    "# Crear una serie con los números del 1 al 5\n",
    "serie = pd.Series([1, 2, 3, 4, 5])\n",
    "\n",
    "# Modificar el tercer valor de la Series para que sea 100\n",
    "serie.iloc[2] = 100\n",
    "\n",
    "print(\"Serie modificada:\")\n",
    "print(serie)\n",
    "\n"
   ]
  },
  {
   "cell_type": "code",
   "execution_count": null,
   "id": "8485ac91-ed17-4d1e-9b42-35789af8f466",
   "metadata": {},
   "outputs": [],
   "source": [
    "#Ejercicio 4: Filtrar valores de una serie\n",
    "import pandas as pd\n",
    "\n",
    "# Crear una serie con los números del 1 al 10\n",
    "serie = pd.Series([1, 2, 3, 4, 5, 6, 7, 8, 9, 10])\n",
    "\n",
    "# Filtrar y mostrar los valores mayores a 5\n",
    "valores_mayores_a_cinco = serie[serie > 5]\n",
    "\n",
    "print(\"Valores mayores a 5:\")\n",
    "print(valores_mayores_a_cinco)\n",
    "\n"
   ]
  },
  {
   "cell_type": "code",
   "execution_count": null,
   "id": "50d09870-5dd6-4818-9c1b-9b16f6a171fd",
   "metadata": {},
   "outputs": [],
   "source": [
    "#Ejercicio 5: Operaciones aritméticas con serie\n",
    "import pandas as pd\n",
    "\n",
    "# Crear dos serie\n",
    "serie1 = pd.Series([1, 2, 3, 4, 5])\n",
    "serie2 = pd.Series([10, 20, 30, 40, 50])\n",
    "\n",
    "# Realizar operaciones aritméticas\n",
    "suma = serie1 + serie2\n",
    "resta = serie1 - serie2\n",
    "multiplicacion = serie1 * serie2\n",
    "division = serie1 / serie2\n",
    "\n",
    "print(\"Suma de las series:\")\n",
    "print(suma)\n",
    "print(\"Resta de las series:\")\n",
    "print(resta)\n",
    "print(\"Multiplicación de las series:\")\n",
    "print(multiplicacion)\n",
    "print(\"División de las series:\")\n",
    "print(division)\n"
   ]
  },
  {
   "cell_type": "code",
   "execution_count": null,
   "id": "8d96b761-e5b8-4b3e-865d-5c22136a03f9",
   "metadata": {},
   "outputs": [],
   "source": [
    "#Ejercicio 6: Estadística básica con series\n",
    "import pandas as pd\n",
    "\n",
    "# Crear una serie con los números del 1 al 10\n",
    "serie = pd.Series([1, 2, 3, 4, 5, 6, 7, 8, 9, 10])\n",
    "\n",
    "# Calcular estadísticas básicas\n",
    "suma = serie.sum()\n",
    "promedio = serie.mean()\n",
    "minimo = serie.min()\n",
    "maximo = serie.max()\n",
    "\n",
    "print(\"Suma:\", suma)\n",
    "print(\"Promedio:\", promedio)\n",
    "print(\"Mínimo:\", minimo)\n",
    "print(\"Máximo:\", maximo)\n",
    "\n"
   ]
  },
  {
   "cell_type": "code",
   "execution_count": null,
   "id": "0f20a680-436a-4383-909e-b1afcfabad47",
   "metadata": {},
   "outputs": [],
   "source": [
    "#Ejercicio 7: Convertir una Lista a una serie\n",
    "import pandas as pd\n",
    "\n",
    "# Crear una lista de Python\n",
    "lista = [1, 2, 3, 4, 5]\n",
    "\n",
    "# Convertir la lista a una serie\n",
    "serie = pd.Series(lista)\n",
    "\n",
    "print(\"Serie creada a partir de una lista:\")\n",
    "print(serie)\n",
    "\n"
   ]
  },
  {
   "cell_type": "code",
   "execution_count": null,
   "id": "304bed0a-7828-4cc7-ad7a-d94035e03cd1",
   "metadata": {},
   "outputs": [],
   "source": [
    "#Ejercicio 8: Crear una serie a partir de un Diccionario\n",
    "import pandas as pd\n",
    "\n",
    "# Crear un diccionario\n",
    "data = {'a': 10, 'b': 20, 'c': 30, 'd': 40, 'e': 50}\n",
    "\n",
    "# Crear una serie a partir del diccionario\n",
    "serie = pd.Series(data)\n",
    "\n",
    "print(\"Serie creada a partir de un diccionario:\")\n",
    "print(serie)\n"
   ]
  },
  {
   "cell_type": "code",
   "execution_count": null,
   "id": "3f8701b1-56e3-4519-9606-a9ee9f828e1a",
   "metadata": {},
   "outputs": [],
   "source": [
    "#Ejercicio 9: Reemplazar valores en una serie\n",
    "import pandas as pd\n",
    "\n",
    "# Crear una series\n",
    "serie = pd.Series([10, 20, 30, 40, 50])\n",
    "\n",
    "# Reemplazar el valor 30 con 300\n",
    "serie.replace(30, 300, inplace=True)\n",
    "\n",
    "print(\"Serie después de reemplazar 30 con 300:\")\n",
    "print(serie)\n",
    "\n"
   ]
  },
  {
   "cell_type": "code",
   "execution_count": null,
   "id": "42d257b9-3fdd-4e54-84c6-e96c6035bbaa",
   "metadata": {},
   "outputs": [],
   "source": [
    "#Ejercicio 10: Concatenar series\n",
    "import pandas as pd\n",
    "\n",
    "# Crear dos series\n",
    "serie1 = pd.Series([1, 2, 3])\n",
    "serie2 = pd.Series([4, 5, 6])\n",
    "\n",
    "# Concatenar las series\n",
    "serie_concatenada = pd.concat([serie1, serie2])\n",
    "\n",
    "print(\"Serie concatenada:\")\n",
    "print(serie_concatenada)\n"
   ]
  },
  {
   "cell_type": "markdown",
   "id": "8c41df79-d90f-4c79-8c77-0063e15a43f5",
   "metadata": {},
   "source": [
    "# PRÁCTICA 3"
   ]
  },
  {
   "cell_type": "markdown",
   "id": "16d56e29-ce2e-4b64-b5de-519d906b7ce9",
   "metadata": {},
   "source": [
    "### Bucle o ciclo For"
   ]
  },
  {
   "cell_type": "markdown",
   "id": "60c7030f-ee89-4f2c-af19-65efe9cbbe5a",
   "metadata": {},
   "source": [
    "El bucle for se utiliza para iterar sobre una secuencia (como una lista, una tupla, un diccionario, un conjunto o una cadena) y ejecutar un bloque de código para cada elemento de la secuencia.\n",
    "\n",
    "***Características***\n",
    "\n",
    "- Permite recorrer todos los elementos de una secuencia en el orden en que aparecen.\n",
    "- Sintaxis Sencilla:\n",
    "- La sintaxis es clara y fácil de entender.\n",
    "\n",
    "Casos de Uso\n",
    "\n",
    "- Iterar sobre listas, tuplas, diccionarios, conjuntos y cadenas.\n",
    "- Realizar operaciones repetitivas sobre elementos de una secuencia.\n",
    "- Generar secuencias de números con range()."
   ]
  },
  {
   "cell_type": "code",
   "execution_count": null,
   "id": "b315d3d0-0962-4286-b7dd-7524f1c1d98c",
   "metadata": {},
   "outputs": [],
   "source": [
    "frutas = ['manzana', 'banana', 'cereza']\n",
    "for fruta in frutas:\n",
    "    print(fruta)"
   ]
  },
  {
   "cell_type": "markdown",
   "id": "dcb3c2be-1714-46ea-b9e7-80bb80252877",
   "metadata": {},
   "source": [
    "### Bucle o ciclo While\n",
    "El bucle while se utiliza para ejecutar un bloque de código repetidamente siempre que una condición booleana especificada sea True.\n",
    "\n",
    "**Características**\n",
    "\n",
    "- Continúa ejecutándose mientras la condición especificada sea True.\n",
    "- Útil para situaciones donde el número de iteraciones no está definido de antemano.\n",
    "- Si la condición nunca se vuelve False, el bucle puede continuar indefinidamente.\n",
    "\n",
    "**Casos de Uso**\n",
    "\n",
    "- Ejecutar un bloque de código mientras se cumpla una condición específica.\n",
    "- Realizar operaciones hasta que se cumpla una condición de parada.\n",
    "- Crear bucles que dependen de condiciones externas que pueden cambiar dentro del bucle."
   ]
  },
  {
   "cell_type": "code",
   "execution_count": null,
   "id": "62e4692e-b374-4f27-8c16-dffa41c54d71",
   "metadata": {},
   "outputs": [],
   "source": [
    "contador = 0\n",
    "while contador < 5:\n",
    "    print(contador)\n",
    "    contador += 1\n"
   ]
  },
  {
   "cell_type": "code",
   "execution_count": null,
   "id": "0e7068e1-d4a0-4f9b-b684-40802f2aeca9",
   "metadata": {},
   "outputs": [],
   "source": [
    "#Ejercicio 1: Iterar sobre una lista\n",
    "#Importante el indentado, para que algo esté dentro del bucle debe estar tabulado hacia la derecha\n",
    "numeros = [1, 2, 3, 4, 5]\n",
    "for num in numeros:\n",
    "    print(num)  # Imprime cada número"
   ]
  },
  {
   "cell_type": "code",
   "execution_count": null,
   "id": "29a66884-0dfd-474d-89d7-ea5264309ffb",
   "metadata": {},
   "outputs": [],
   "source": [
    "#Ejercicio 2: Iterar sobre un rango de números\n",
    "for i in range(4):\n",
    "    print(i)  # Imprime números del 0 al 3"
   ]
  },
  {
   "cell_type": "code",
   "execution_count": null,
   "id": "ab65c7c2-a4ec-4d8a-8e90-eedcecc4798e",
   "metadata": {},
   "outputs": [],
   "source": [
    "#Ejercicio 3: Iterar un diccionario\n",
    "datos = {\"nombre\": \"Juan\", \"edad\": 30, \"ciudad\": \"Madrid\"} #Diccionario\n",
    "# Bucle for para iterar sobre las claves y valores del diccionario\n",
    "for clave, valor in datos.items():\n",
    "    print(clave, valor)  # Imprime la clave y el valor"
   ]
  },
  {
   "cell_type": "code",
   "execution_count": null,
   "id": "201f1481-7199-420c-8254-f09912c26a89",
   "metadata": {},
   "outputs": [],
   "source": [
    "#Ejercicio 4: Iterar una tupla (recordar que son valores y longitud fija e inmutables)\n",
    "numeros = (10, 20, 30, 40, 50) # Tupla de números\n",
    "# Bucle for para iterar sobre la tupla\n",
    "for num in numeros:\n",
    "    print(num)  # Imprime cada número de la tupla"
   ]
  },
  {
   "cell_type": "code",
   "execution_count": null,
   "id": "69479f70-8da6-44d5-a33c-57ae63db492c",
   "metadata": {},
   "outputs": [],
   "source": [
    "#Ejercicio 5: Contar hasta 5 con while (importante crear e inicializar una variable contador, para evitar bucle infinito)\n",
    "#Importante el indentado, para que algo esté dentro del bucle debe estar tabulado hacia la derecha\n",
    "contador = 1\n",
    "while contador <= 5:\n",
    "    print(contador)  # Imprime contador\n",
    "    contador += 1  # Incrementa contador"
   ]
  },
  {
   "cell_type": "code",
   "execution_count": null,
   "id": "48b48e6d-37ae-4c2a-b7e2-9512331d7cb9",
   "metadata": {},
   "outputs": [],
   "source": [
    "#Ejercicio 6: Sumar números hasta un límite\n",
    "suma = 0\n",
    "numero = 1\n",
    "while suma <= 100: #notar el <=, iría hasta el 100\n",
    "    suma += numero  # Suma número a suma\n",
    "    numero += 1  # Incrementa número\n",
    "print(suma)  # Imprime la suma final"
   ]
  },
  {
   "cell_type": "code",
   "execution_count": null,
   "id": "1f6a27f3-f5d0-4d3c-b7f1-68828b57e38b",
   "metadata": {},
   "outputs": [],
   "source": [
    "# Ejercicio 7 : Tabla de multiplicar con for \"anidado\"\n",
    "#\"i\" va a representar la tabla de multiplicar, (1-4), el 4 (la posición) representa el número \"3\" ya que empezamos en 0 (Multiplicando)\n",
    "#\"j\" va a representar los números por los que se multiplica esa tabla (1-11), el 11 es el 10. (Multiplicador)\n",
    "for i in range(1, 3):\n",
    "    for j in range(1, 3):\n",
    "        print (f\"{i} * {j} = {i * j}\")  # Imprime la multiplicación"
   ]
  },
  {
   "cell_type": "code",
   "execution_count": null,
   "id": "d13a63c1-661c-47c7-83d9-d17c492aa987",
   "metadata": {},
   "outputs": [],
   "source": [
    "# Ejercicio 8: Tabla de multiplicar con while \"anidado)\n",
    "i = 1 #inicializamos nuestra variable contado a 1\n",
    "while i < 3: # al ser menor que 5 va de la 1 a la 4, si fuera <= iría hasta el 4\n",
    "    j = 1 #inicializamos la otra variable\n",
    "    while j < 3:\n",
    "        print(f\"{i} * {j} = {i * j}\")  # Imprime la multiplicación\n",
    "        j += 1  # Incrementa j\n",
    "    i += 1  # Incrementa i\n"
   ]
  },
  {
   "cell_type": "code",
   "execution_count": null,
   "id": "4d95553a-0228-4499-946e-76f84f4a994b",
   "metadata": {},
   "outputs": [],
   "source": [
    "# Ejercicio 9: Bucle for y while juntos\n",
    "# Bucle for para iterar sobre un rango de números\n",
    "for i in range(5):\n",
    "    j = 0\n",
    "    print(f\"Contando hasta {i}:\")\n",
    "    # Bucle while para contar hasta el valor actual de i\n",
    "    while j <= i:\n",
    "        print(j)  # Imprime el valor de j\n",
    "        j += 1  # Incrementa j"
   ]
  },
  {
   "cell_type": "markdown",
   "id": "32c72f0d-c62a-4e47-87c1-8dea624e8f3f",
   "metadata": {},
   "source": [
    "### IF - ELSE\n",
    "La estructura de control if-else en Python se utiliza para tomar decisiones basadas en condiciones. Permite ejecutar un bloque de código si una condición es verdadera (True) y otro bloque de código si la condición es falsa (False).\n",
    "\n",
    "**Características**\n",
    "\n",
    "- Ejecuta diferentes bloques de código basados en la evaluación de una condición booleana (True o False).\n",
    "- Las declaraciones if-else pueden ser anidadas para evaluar múltiples condiciones.\n",
    "- Puede incluir múltiples condiciones utilizando elif.\n",
    "\n",
    "**Casos de Uso**\n",
    "- Tomar decisiones en función de la entrada del usuario o de valores variables.\n",
    "- Comprobar si los datos cumplen con ciertos criterios antes de proceder con el procesamiento.\n",
    "- Ejecutar diferentes bloques de código según diferentes escenarios posibles.\n"
   ]
  },
  {
   "cell_type": "code",
   "execution_count": null,
   "id": "187a9471-4f58-47e5-87a5-9f9058b94b32",
   "metadata": {},
   "outputs": [],
   "source": [
    "#Ejercicio 1: Hacer una comprobación\n",
    "a = 15\n",
    "if a == 15: # el == establece una comparación\n",
    "    print(\"a es igual a 15\")"
   ]
  },
  {
   "cell_type": "code",
   "execution_count": null,
   "id": "d226dc42-81f4-4002-956c-e084298c55a1",
   "metadata": {},
   "outputs": [],
   "source": [
    "# Ejercicio 2: Comparar Números\n",
    "a = 10\n",
    "b = 20\n",
    "if a > b:\n",
    "    print(\"a es mayor que b\")\n",
    "else:\n",
    "    print(\"b es mayor que a\")\n"
   ]
  },
  {
   "cell_type": "code",
   "execution_count": null,
   "id": "e504bdf4-09e4-4893-a826-4d8dd630a11b",
   "metadata": {},
   "outputs": [],
   "source": [
    "# Ejercicio 3: Verificar Paridad\n",
    "numero = 4\n",
    "if numero % 2 == 0:\n",
    "    print(\"El número es par\")\n",
    "else:\n",
    "    print(\"El número es impar\")"
   ]
  },
  {
   "cell_type": "code",
   "execution_count": null,
   "id": "8f003e31-a2a9-4a31-af16-1e05e2942864",
   "metadata": {},
   "outputs": [],
   "source": [
    "# Ejercicio 4: Determinar Edad\n",
    "edad = 17\n",
    "if edad < 13:\n",
    "    print(\"Niño\")\n",
    "elif edad < 18:\n",
    "    print(\"Adolescente\")\n",
    "else:\n",
    "    print(\"Adulto\")"
   ]
  },
  {
   "cell_type": "code",
   "execution_count": null,
   "id": "1538fe5f-43b9-46f4-aa36-9458c8daef14",
   "metadata": {},
   "outputs": [],
   "source": [
    "# Ejercicio 5: Verificar Signo de un Número\n",
    "numero = -5\n",
    "if numero > 0:\n",
    "    print(\"El número es positivo\")\n",
    "elif numero < 0:\n",
    "    print(\"El número es negativo\")\n",
    "else:\n",
    "    print(\"El número es cero\")\n"
   ]
  },
  {
   "cell_type": "code",
   "execution_count": null,
   "id": "72fe3cf4-0cbc-450a-ae49-a7c882eba152",
   "metadata": {},
   "outputs": [],
   "source": [
    "# Ejercicio 6: Calificación Escolar\n",
    "puntaje = 85\n",
    "if puntaje >= 90:\n",
    "    print(\"Calificación: A\")\n",
    "elif puntaje >= 80:\n",
    "    print(\"Calificación: B\")\n",
    "elif puntaje >= 70:\n",
    "    print(\"Calificación: C\")\n",
    "elif puntaje >= 60:\n",
    "    print(\"Calificación: D\")\n",
    "else:\n",
    "    print(\"Calificación: F\")"
   ]
  },
  {
   "cell_type": "code",
   "execution_count": null,
   "id": "8c3fabbe-f3cc-4119-b608-887c6b9cc878",
   "metadata": {},
   "outputs": [],
   "source": [
    "# Ejercicio 7: Verificar Existencia en una Lista\n",
    "frutas = [\"manzana\", \"banana\", \"cereza\"]\n",
    "fruta_a_buscar = \"banana\"\n",
    "if fruta_a_buscar in frutas:\n",
    "    print(f\"{fruta_a_buscar} está en la lista de frutas\")\n",
    "else:\n",
    "    print(f\"{fruta_a_buscar} no está en la lista de frutas\")"
   ]
  },
  {
   "cell_type": "code",
   "execution_count": null,
   "id": "751a22db-1092-44df-a64c-0c65062222da",
   "metadata": {},
   "outputs": [],
   "source": [
    "# Ejercicio 8 : if dentro de un for\n",
    "numeros = [1, 2, 3, 4, 5, 6, 7, 8, 9, 10]\n",
    "suma_pares = 0\n",
    "\n",
    "for num in numeros:\n",
    "    if num % 2 == 0:\n",
    "        suma_pares += num  # Sumar solo los números pares\n",
    "\n",
    "print(f\"La suma de los números pares es {suma_pares}\")"
   ]
  },
  {
   "cell_type": "markdown",
   "id": "2af72a4a-2092-4a18-ab8d-8f44b371d6eb",
   "metadata": {},
   "source": [
    "# PRÁCTICA 4\n"
   ]
  },
  {
   "cell_type": "markdown",
   "id": "b924ba0f-2c2c-4b66-b47e-3a9fcd029ab6",
   "metadata": {},
   "source": [
    "### Try-Except\n",
    "La estructura de control try-except en Python se utiliza para manejar excepciones, es decir, errores que ocurren durante la ejecución de un programa. Permite que un programa continúe su ejecución incluso si se encuentra con un error, proporcionando una forma de gestionar las excepciones de manera controlada.\n",
    "\n",
    "**Características**\n",
    "- Captura y maneja errores que ocurren durante la ejecución del código dentro del bloque try.\n",
    "- Opcionalmente, se pueden incluir bloques else y finally para ejecutar código adicional si no ocurre una excepción o si se desea ejecutar código independientemente de si ocurrió una excepción.\n",
    "- Se pueden capturar excepciones específicas o manejar todas las excepciones de manera genérica.\n",
    "\n",
    "***Casos de Uso**\n",
    "\n",
    "- Gestionar errores al leer o escribir archivos.\n",
    "- Capturar y manejar entradas no válidas del usuario.\n",
    "- Gestionar errores en conexiones de red o en operaciones de base de datos.\n"
   ]
  },
  {
   "cell_type": "code",
   "execution_count": null,
   "id": "a4751f47-f57a-45a1-b288-3fc141045ddf",
   "metadata": {},
   "outputs": [],
   "source": [
    "# Ejercicio 1: Manejo de cualquier excepción\n",
    "try:\n",
    "    resultado = 10 / 0\n",
    "except Exception as e:\n",
    "    print(f\"Ha ocurrido un error: {e}\")"
   ]
  },
  {
   "cell_type": "code",
   "execution_count": null,
   "id": "5786fd9a-3fb3-43bc-996f-eaf2e3889da2",
   "metadata": {},
   "outputs": [],
   "source": [
    "# Ejercicio 2: Manejo de división por cero\n",
    "try:\n",
    "    resultado = 10 / 0\n",
    "except ZeroDivisionError:\n",
    "    print(\"Error: No se puede dividir entre cero.\")"
   ]
  },
  {
   "cell_type": "code",
   "execution_count": null,
   "id": "887b6af1-60bd-408d-b6cf-ab4005c6d059",
   "metadata": {},
   "outputs": [],
   "source": [
    "# Ejercicio 3: Manejo de conversión de tipo\n",
    "try:\n",
    "    numero = int(\"texto\")\n",
    "except ValueError:\n",
    "    print(\"Error: No se puede convertir una cadena no numérica a un entero.\")"
   ]
  },
  {
   "cell_type": "code",
   "execution_count": null,
   "id": "26db57b6-cb0c-4800-8686-f561208d1860",
   "metadata": {},
   "outputs": [],
   "source": [
    "# Ejercicio 4: Manejo de acceso a un elemento de una lista fuera de rango\n",
    "lista = [1, 2, 3]\n",
    "\n",
    "try:\n",
    "    elemento = lista[5]\n",
    "except IndexError:\n",
    "    print(\"Error: Índice fuera de rango.\")\n"
   ]
  },
  {
   "cell_type": "code",
   "execution_count": null,
   "id": "0de1a9b3-da32-4545-b1f3-706f6e792215",
   "metadata": {},
   "outputs": [],
   "source": [
    "# Ejercicio 5: Manejo de Entrada de usuario incorrecta\n",
    "try:\n",
    "    entrada = input(\"Por favor, ingresa un número: \") #Para pedir datos por teclado se usa input\n",
    "    numero = int(entrada)  # Intentar convertir la entrada a un entero\n",
    "    print(f\"Has ingresado el número: {numero}\")\n",
    "except ValueError:\n",
    "    print(\"Error: La entrada no es un número válido.\")"
   ]
  },
  {
   "cell_type": "code",
   "execution_count": null,
   "id": "8cbe918b-906f-4134-bb5d-5a68abda8d01",
   "metadata": {},
   "outputs": [],
   "source": [
    "# Ejercicio 6: Manejo de múltiples excepciones\n",
    "try:\n",
    "    resultado = 10 / 0\n",
    "except ZeroDivisionError:\n",
    "    print(\"Error: No se puede dividir entre cero.\")\n",
    "except ValueError:\n",
    "    print(\"Error: Valor incorrecto.\")\n",
    "except Exception as e:\n",
    "    print(f\"Error inesperado: {e}\")\n"
   ]
  },
  {
   "cell_type": "markdown",
   "id": "8afaf60e-ceef-4078-9c2e-7035b1ecccc0",
   "metadata": {},
   "source": [
    "# PRACTICA 5"
   ]
  },
  {
   "cell_type": "markdown",
   "id": "fee216fe-6b7b-45f0-90e7-9f91e490fac2",
   "metadata": {},
   "source": [
    "### Funciones en Python\n",
    "Una función en Python es un bloque de código reutilizable que realiza una tarea específica. Permite organizar el código en módulos más pequeños y manejables, facilitando la reutilización y la legibilidad.\n",
    "\n",
    "**Características**\n",
    "\n",
    "- Agrupa varias instrucciones bajo un nombre, encapsulando la lógica para que se pueda reutilizar fácilmente.\n",
    "\n",
    "- El código dentro de una función puede ser llamado múltiples veces en diferentes partes del programa, evitando duplicación.\n",
    "\n",
    "- Permite dividir programas grandes en módulos más pequeños y manejables.\n",
    "\n",
    "- Puede aceptar entradas (parámetros) para personalizar su comportamiento.\n",
    "\n",
    "- Puede devolver resultados utilizando la palabra clave return.\n",
    "\n",
    "- Las variables definidas dentro de una función tienen un alcance local y no interfieren con las variables fuera de la función.\n",
    "    \n",
    "\n",
    "\n",
    "\n"
   ]
  },
  {
   "cell_type": "code",
   "execution_count": null,
   "id": "8f375e88-ba0a-447b-90db-78e40490dd4a",
   "metadata": {},
   "outputs": [],
   "source": [
    "# Ejercicio 1: Definir y llamar a una función básica\n",
    "# Imprime un mensaje\n",
    "def saludar():\n",
    "    print(\"¡Hola, Mundo!\")\n",
    "\n",
    "# Llamar a la función\n",
    "saludar()\n",
    "\n"
   ]
  },
  {
   "cell_type": "code",
   "execution_count": null,
   "id": "5db46e8c-24ac-4fa4-8f59-31a84a8136d4",
   "metadata": {},
   "outputs": [],
   "source": [
    "# Ejercicio 2: Función pasando un parámetro\n",
    "# Saludar a una persona\n",
    "def saludar_persona(nombre):\n",
    "    return f\"¡Hola, {nombre}!\"\n",
    "\n",
    "# Llamar a la función y mostrar el resultado\n",
    "mensaje = saludar_persona(\"Juan\")\n",
    "print(mensaje)"
   ]
  },
  {
   "cell_type": "code",
   "execution_count": null,
   "id": "776ffc64-0fc6-456d-9a69-2d80c937a9df",
   "metadata": {},
   "outputs": [],
   "source": [
    "# Ejercicio 3: Función con varios parámetros\n",
    "# Suma dos números\n",
    "def sumar(a, b):\n",
    "    return a + b\n",
    "\n",
    "# Llamar a la función y mostrar el resultado\n",
    "resultado = sumar(3, 5)\n",
    "print(\"La suma es:\", resultado)\n"
   ]
  },
  {
   "cell_type": "code",
   "execution_count": null,
   "id": "ad005809-4cea-4b75-831d-1e5c73447ab2",
   "metadata": {},
   "outputs": [],
   "source": [
    "# Ejercicio 4: Función que devuelve el doble de un número\n",
    "def doble(numero):\n",
    "    return numero * 2\n",
    "\n",
    "# Llamar a la función y mostrar el resultado\n",
    "resultado = doble(4)\n",
    "print(\"El doble es:\", resultado)\n",
    "\n",
    "\n"
   ]
  },
  {
   "cell_type": "code",
   "execution_count": null,
   "id": "a25f87db-3639-4696-8d95-336c9addc0b8",
   "metadata": {},
   "outputs": [],
   "source": [
    "#Ejercicio 5: Función que calcula el área de un rectángulo\n",
    "def area_rectangulo(ancho, alto):\n",
    "    return ancho * alto\n",
    "\n",
    "# Llamar a la función y mostrar el resultado\n",
    "resultado = area_rectangulo(5, 10)\n",
    "print(\"El área del rectángulo es:\", resultado)\n",
    "\n",
    "\n"
   ]
  },
  {
   "cell_type": "code",
   "execution_count": null,
   "id": "b2c79f78-ba19-485e-bba5-af67af16fed9",
   "metadata": {},
   "outputs": [],
   "source": [
    "#Ejercicio 6: Función que calcula el área de un círculo\n",
    "def area_circulo(radio):\n",
    "    import math\n",
    "    return 3.1416 * radio ** 2 # ** Eleva a un exponente\n",
    "\n",
    "# Llamar a la función y mostrar el resultado\n",
    "print(\"Área de un círculo con radio 5 es:\", area_circulo(5))\n"
   ]
  },
  {
   "cell_type": "code",
   "execution_count": null,
   "id": "66a7746b-95db-49e0-9846-31f7694620cc",
   "metadata": {},
   "outputs": [],
   "source": [
    "#Ejercicio 7: Función que verifica si un número es par\n",
    "def es_par(numero):\n",
    "    return numero % 2 == 0 #Si el resto de dividir por 2 es 0, entonces es par\n",
    "\n",
    "# Llamar a la función y mostrar el resultado\n",
    "resultado = es_par(4)\n",
    "print(\"¿El número es par?\", resultado)\n"
   ]
  },
  {
   "cell_type": "code",
   "execution_count": null,
   "id": "5f234ca9-9d88-46ca-968a-7e7738a17599",
   "metadata": {},
   "outputs": [],
   "source": [
    "#Ejercicio 8: Función que devuelve múltiples Valores\n",
    "def operaciones_basicas(a, b):\n",
    "    suma = a + b\n",
    "    resta = a - b\n",
    "    multiplicacion = a * b\n",
    "    division = a / b\n",
    "    return suma, resta, multiplicacion, division\n",
    "\n",
    "# Llamar a la función y mostrar los resultados\n",
    "suma, resta, multiplicacion, division = operaciones_basicas(10, 5)\n",
    "print(\"Suma:\", suma)\n",
    "print(\"Resta:\", resta)\n",
    "print(\"Multiplicación:\", multiplicacion)\n",
    "print(\"División:\", division)\n"
   ]
  },
  {
   "cell_type": "code",
   "execution_count": null,
   "id": "f571175e-5aad-4b82-b883-e9a345dba7d4",
   "metadata": {},
   "outputs": [],
   "source": [
    "#Ejercicio 9: Función que encuentra el máximo de dos números\n",
    "def maximo(a, b):\n",
    "    if a > b:\n",
    "        return a\n",
    "    else:\n",
    "        return b\n",
    "\n",
    "# Llamar a la función y mostrar el resultado\n",
    "resultado = maximo(7, 10)\n",
    "print(\"El máximo es:\", resultado)\n"
   ]
  },
  {
   "cell_type": "code",
   "execution_count": null,
   "id": "9b10fd23-0b35-4e7a-8a5c-685274b80b88",
   "metadata": {},
   "outputs": [],
   "source": [
    "#Ejercicio 10: Función con manejo de errores\n",
    "# Dividir dos números con manejo de errores\n",
    "def dividir(a, b):\n",
    "    try:\n",
    "        resultado = a / b\n",
    "    except ZeroDivisionError:\n",
    "        return \"Error: División por cero\"\n",
    "    return resultado\n",
    "\n",
    "# Llamar a la función y mostrar los resultados\n",
    "print(\"División de 10 por 2:\", dividir(10, 2))\n",
    "print(\"División de 10 por 0:\", dividir(10, 0))\n"
   ]
  },
  {
   "cell_type": "code",
   "execution_count": null,
   "id": "4355e6dd-ce00-4e29-a241-7b7abbb1c1b6",
   "metadata": {},
   "outputs": [],
   "source": [
    "#Ejercicio 11: Función que permite la entrada de múltiples parámetros\n",
    "# Definir una función que suma una cantidad variable de números\n",
    "def sumar_todos(*args):\n",
    "    return sum(args)\n",
    "\n",
    "# Llamar a la función con diferentes números de argumentos\n",
    "print(\"Suma de 1 + 2 + 3 = \", sumar_todos(1, 2, 3))\n",
    "print(\"Suma de 4 + 5 = \", sumar_todos(4, 5))\n",
    "print(\"Suma de 6 + 7 + 8 + 9 = \", sumar_todos(6, 7, 8, 9))"
   ]
  },
  {
   "cell_type": "code",
   "execution_count": null,
   "id": "0a2ca10d-b889-428a-bf82-6c99bd82b136",
   "metadata": {},
   "outputs": [],
   "source": [
    "#Ejercicio 12: Función que calcula el factorial de un número\n",
    "def factorial(n):\n",
    "    resultado = 1\n",
    "    for i in range(1, n + 1):\n",
    "        resultado *= i\n",
    "    return resultado\n",
    "\n",
    "# Llamar a la función y mostrar el resultado\n",
    "resultado = factorial(5)\n",
    "print(\"El factorial de 5 es:\", resultado)\n",
    "\n"
   ]
  }
 ],
 "metadata": {
  "kernelspec": {
   "display_name": "Python 3 (ipykernel)",
   "language": "python",
   "name": "python3"
  },
  "language_info": {
   "codemirror_mode": {
    "name": "ipython",
    "version": 3
   },
   "file_extension": ".py",
   "mimetype": "text/x-python",
   "name": "python",
   "nbconvert_exporter": "python",
   "pygments_lexer": "ipython3",
   "version": "3.11.7"
  }
 },
 "nbformat": 4,
 "nbformat_minor": 5
}
