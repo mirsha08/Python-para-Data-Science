{
 "cells": [
  {
   "cell_type": "markdown",
   "id": "e5ce35a4-7b02-4eec-80ee-e130f688e827",
   "metadata": {},
   "source": [
    "# MATRICES\n",
    "\n",
    "Una matriz es una lista de 2 dimensiones, tabla: fila x columnas \n",
    "Indexación: A[2,3] matriz A [fila2, columna3]\n",
    "\n",
    "**La indexación comienza en 0**\n",
    "indexación fila completas: [0,:] <--todos los eltos de la fila 0\n",
    "o columnas completas [:,3] <-- todos los eltos de la columna 3\n",
    "\n",
    "    |     || [:,0]| [:,1] | [:,2] |\n",
    "    |-----||------| ----- |-------|\n",
    "    |[0,:]||  0,0 |  0,1  |  0,2  |\n",
    "    |[1,:]||  1,0 |  1,1  |  1,2  |\n",
    "    |[2,:]||  2,0 |  2,1  |  2,2  |"
   ]
  },
  {
   "cell_type": "code",
   "execution_count": null,
   "id": "f16e9101-e600-4e76-a573-5d57f6b4086c",
   "metadata": {},
   "outputs": [],
   "source": [
    "#usamos los datos del 04-setDatos notebook"
   ]
  },
  {
   "cell_type": "code",
   "execution_count": 32,
   "id": "27832b32-0fdd-4fe3-bbe5-abbfd5fe5508",
   "metadata": {},
   "outputs": [],
   "source": [
    "import numpy as np"
   ]
  },
  {
   "cell_type": "code",
   "execution_count": 34,
   "id": "9a4e29a8-a69b-4b0b-b7f7-aa7948e35ea6",
   "metadata": {},
   "outputs": [],
   "source": [
    "# de varias listas las pasamos a un array y así se crea una matriz\n",
    "# ejemplo: ver en 04-setDatos \n",
    "#sueldo = np.array([jugador1_sueldo, jugador2_sueldo, juegador3_sueldo,... ])\n",
    "#cada jugadorx_sueldo es una lista con datos, y al pasarlo a np.array creamos un array que es sueldo\n"
   ]
  },
  {
   "cell_type": "markdown",
   "id": "169b34f6-4606-4c80-84b3-787da2dc4698",
   "metadata": {},
   "source": [
    "Creamos una matriz con **np.reshape(a, newshape, order='C')** tambien se puede poner sin order = , poniendo solo la 'C' (que pertenece a numpy)\n",
    "reshape reorganiza los eltos de un array\n",
    "\n",
    "*Parámetros*:\n",
    "\n",
    "    *a: el vector de numpy que se desea redimensionar.\n",
    "    *newshape: una tupla, es la dimensión, se da el detalle de (filas, columnas)\n",
    "    *order: indica como se llenan los vectores, puede ser 'C'(estilo lenguaje C por filas), 'F'(estilo Fortran por columnas), 'A'(según como se tenga en memoria)      \n",
    "\n",
    "|\n",
    "\n",
    "Sino se da parámetro C o F se rellena por filas  de manera por defecto, al contrario que en R-->\n",
    "\n",
    "Otro método **es np.arra**y() donde se rellena por filas"
   ]
  },
  {
   "cell_type": "code",
   "execution_count": 45,
   "id": "26a6ba5f-055b-42fe-bff9-a06d802d6cd6",
   "metadata": {},
   "outputs": [
    {
     "name": "stdout",
     "output_type": "stream",
     "text": [
      "[ 0  1  2  3  4  5  6  7  8  9 10 11 12 13 14 15 16 17 18 19]\n"
     ]
    }
   ],
   "source": [
    "import numpy as np\n",
    "mis_datos = np.arange(0,20)\n",
    "print(mis_datos)"
   ]
  },
  {
   "cell_type": "code",
   "execution_count": 49,
   "id": "a6fd7046-846b-4ed4-bcfd-e47110feaf81",
   "metadata": {},
   "outputs": [
    {
     "data": {
      "text/plain": [
       "array([[ 0,  1,  2,  3],\n",
       "       [ 4,  5,  6,  7],\n",
       "       [ 8,  9, 10, 11],\n",
       "       [12, 13, 14, 15],\n",
       "       [16, 17, 18, 19]])"
      ]
     },
     "execution_count": 49,
     "metadata": {},
     "output_type": "execute_result"
    }
   ],
   "source": [
    "#vamos a dar forma a esos datos creados en lista\n",
    "np.reshape(mis_datos,(5,4))  #las dimensiones se pasan como una tupla, (5,4) indica 5 filas y 4 columnas\n",
    "#CUIDADO -el default es opuesto a R"
   ]
  },
  {
   "cell_type": "code",
   "execution_count": 107,
   "id": "112b709a-8c1d-43dd-85c1-61e0e8abeee4",
   "metadata": {},
   "outputs": [
    {
     "name": "stdout",
     "output_type": "stream",
     "text": [
      "\u001b[44m Matriz C\u001b[0m\n",
      "\u001b[1;34m\n",
      "[[ 0  1  2  3]\n",
      " [ 4  5  6  7]\n",
      " [ 8  9 10 11]\n",
      " [12 13 14 15]\n",
      " [16 17 18 19]] \u001b[0m\n"
     ]
    }
   ],
   "source": [
    "matriz_C = np.reshape(mis_datos, (5,4), 'C')\n",
    "print(\"\\033[44m Matriz C\\033[0m\")\n",
    "print(\"\\033[1;34m\")\n",
    "print(matriz_C,\"\\033[0m\")"
   ]
  },
  {
   "cell_type": "code",
   "execution_count": 105,
   "id": "a3b3f0a1-9eb0-4a91-b303-2c1b8df67497",
   "metadata": {},
   "outputs": [
    {
     "name": "stdout",
     "output_type": "stream",
     "text": [
      "\u001b[42m Matriz F\u001b[0m\n",
      "\u001b[1;32m\n",
      "[[ 0  5 10 15]\n",
      " [ 1  6 11 16]\n",
      " [ 2  7 12 17]\n",
      " [ 3  8 13 18]\n",
      " [ 4  9 14 19]] \u001b[0m\n"
     ]
    }
   ],
   "source": [
    "matriz_F = np.reshape(mis_datos, (5,4), 'F')\n",
    "print(\"\\033[42m Matriz F\\033[0m\")\n",
    "print(\"\\033[1;32m\")\n",
    "print(matriz_F,\"\\033[0m\")"
   ]
  },
  {
   "cell_type": "code",
   "execution_count": 75,
   "id": "b682540a-b03a-4319-987a-979ce51abe40",
   "metadata": {},
   "outputs": [
    {
     "data": {
      "text/plain": [
       "9"
      ]
     },
     "execution_count": 75,
     "metadata": {},
     "output_type": "execute_result"
    }
   ],
   "source": [
    "#ejercicio llegar al nº9 en cada matriz\n",
    "matriz_C[2,1]"
   ]
  },
  {
   "cell_type": "code",
   "execution_count": 73,
   "id": "4a6585e4-f4b0-486e-bb05-33a90c45248e",
   "metadata": {},
   "outputs": [
    {
     "data": {
      "text/plain": [
       "9"
      ]
     },
     "execution_count": 73,
     "metadata": {},
     "output_type": "execute_result"
    }
   ],
   "source": [
    "matriz_F[4,1]"
   ]
  },
  {
   "cell_type": "code",
   "execution_count": 127,
   "id": "1f52ecdf-4623-4992-8d33-7bc6493dd6ad",
   "metadata": {},
   "outputs": [
    {
     "data": {
      "text/plain": [
       "numpy.ndarray"
      ]
     },
     "execution_count": 127,
     "metadata": {},
     "output_type": "execute_result"
    }
   ],
   "source": [
    "#CONCEPTO POO (programación orientado a objetos)\n",
    "#np.reshape(mis_datos,(5,4)) en vez de esto podemo usar:\n",
    "type(mis_datos)  #vemos que es array"
   ]
  },
  {
   "cell_type": "code",
   "execution_count": 133,
   "id": "28e06128-ea6b-4c09-ac99-df4bc37e159b",
   "metadata": {},
   "outputs": [
    {
     "data": {
      "text/plain": [
       "array([[ 0,  1,  2,  3],\n",
       "       [ 4,  5,  6,  7],\n",
       "       [ 8,  9, 10, 11],\n",
       "       [12, 13, 14, 15],\n",
       "       [16, 17, 18, 19]])"
      ]
     },
     "execution_count": 133,
     "metadata": {},
     "output_type": "execute_result"
    }
   ],
   "source": [
    "mis_datos.reshape(5,4)  #POO\n",
    "\n",
    "#en vez de dar los datos dentro del reshape se usa POO usando mis_datos.metodo(reshape)\n",
    "#(esto se ve si escribimos mis_datos. y damos a tab para ver los métodos disponibles)"
   ]
  },
  {
   "cell_type": "markdown",
   "id": "540e4634-c2cb-4ab8-9b21-cd861ea3e0ad",
   "metadata": {},
   "source": [
    "---"
   ]
  },
  {
   "cell_type": "code",
   "execution_count": 136,
   "id": "3bd87735-b8ed-41a5-80d0-7f4ec584b894",
   "metadata": {},
   "outputs": [],
   "source": [
    "#agregamos unas listas\n",
    "r1 = [\"Soy\",\"muy\",\"feliz\"]\n",
    "r2 = [\"Que\",\"gran\",\"día\"]\n",
    "r3 = [1,2,3]"
   ]
  },
  {
   "cell_type": "code",
   "execution_count": 138,
   "id": "0199a2ca-3292-4938-baae-66b10aed39e3",
   "metadata": {},
   "outputs": [
    {
     "data": {
      "text/plain": [
       "[['Soy', 'muy', 'feliz'], ['Que', 'gran', 'día'], [1, 2, 3]]"
      ]
     },
     "execution_count": 138,
     "metadata": {},
     "output_type": "execute_result"
    }
   ],
   "source": [
    "#lista dentro de listas\n",
    "[r1,r2,r3]"
   ]
  },
  {
   "cell_type": "code",
   "execution_count": 142,
   "id": "5af95465-0258-455d-9f08-2fa6b74bfe94",
   "metadata": {},
   "outputs": [
    {
     "data": {
      "text/plain": [
       "array([['Soy', 'muy', 'feliz'],\n",
       "       ['Que', 'gran', 'día'],\n",
       "       ['1', '2', '3']], dtype='<U11')"
      ]
     },
     "execution_count": 142,
     "metadata": {},
     "output_type": "execute_result"
    }
   ],
   "source": [
    "#aplicamos np.array para combinarlas y hacer una matriz\n",
    "np.array([r1,r2,r3])"
   ]
  },
  {
   "cell_type": "code",
   "execution_count": 144,
   "id": "a53a9b42-3681-4d72-acf2-215cc39748cb",
   "metadata": {},
   "outputs": [
    {
     "name": "stdout",
     "output_type": "stream",
     "text": [
      "[['Soy' 'muy' 'feliz']\n",
      " ['Que' 'gran' 'día']\n",
      " ['1' '2' '3']]\n"
     ]
    }
   ],
   "source": [
    "print(np.array([r1,r2,r3]))  #si ponemos print ya no sale el dato dtype='<U11' al final de la matriz"
   ]
  },
  {
   "cell_type": "code",
   "execution_count": null,
   "id": "a84b1935-0b35-4c4b-9166-2ca674cc10b5",
   "metadata": {},
   "outputs": [],
   "source": [
    "#En los array solo podemos tener un tipo de datos por fila"
   ]
  },
  {
   "cell_type": "code",
   "execution_count": null,
   "id": "fd2e4c95-6438-48dc-b7b4-950ccf57f4bf",
   "metadata": {},
   "outputs": [],
   "source": []
  },
  {
   "cell_type": "code",
   "execution_count": null,
   "id": "7e8838f2-4b8b-4e20-aa64-7479ffc95eed",
   "metadata": {},
   "outputs": [],
   "source": []
  },
  {
   "cell_type": "code",
   "execution_count": null,
   "id": "91622462-72f1-4528-83fb-f4be4a59f891",
   "metadata": {},
   "outputs": [],
   "source": []
  },
  {
   "cell_type": "code",
   "execution_count": null,
   "id": "ec5ba988-6d94-4623-8446-97699698fe47",
   "metadata": {},
   "outputs": [],
   "source": []
  }
 ],
 "metadata": {
  "kernelspec": {
   "display_name": "Python 3 (ipykernel)",
   "language": "python",
   "name": "python3"
  },
  "language_info": {
   "codemirror_mode": {
    "name": "ipython",
    "version": 3
   },
   "file_extension": ".py",
   "mimetype": "text/x-python",
   "name": "python",
   "nbconvert_exporter": "python",
   "pygments_lexer": "ipython3",
   "version": "3.11.7"
  }
 },
 "nbformat": 4,
 "nbformat_minor": 5
}
