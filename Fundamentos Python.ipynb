{
 "cells": [
  {
   "cell_type": "markdown",
   "id": "7d9744ba-77db-4c50-84c7-095ea7551bc8",
   "metadata": {},
   "source": [
    "# Fundamentos en Python\n",
    "## Listas, Slicing, Tuplas, Funciones, Paquetes, Numpy y Arreglos"
   ]
  },
  {
   "cell_type": "markdown",
   "id": "e37c494b-97c8-4929-bab4-1f273b1f819e",
   "metadata": {},
   "source": [
    "Una lista es como un arreglo, (en R una lista es como un vector)\n",
    "Lista es una secuencia ordenada de elemntos, ordenados. La numeracion comienza en 0 [*R En R la numeración empieza en 1*]\n",
    "\n",
    "Listas: **tipos de Datos Mixtos** podemos tener listas con diferentes tipos de datos en la misma lista\n",
    "Listas: se usan [] para los eltos de la lista.\n",
    "rango --> range()"
   ]
  },
  {
   "cell_type": "code",
   "execution_count": 8,
   "id": "254c1342-0f91-4472-bc2c-9c29985b4662",
   "metadata": {},
   "outputs": [
    {
     "name": "stdout",
     "output_type": "stream",
     "text": [
      "[1, 2, 3, 4, 5, 6]\n"
     ]
    }
   ],
   "source": [
    "miLista = [1,2,3,4,5,6]\n",
    "print(miLista)"
   ]
  },
  {
   "cell_type": "code",
   "execution_count": 10,
   "id": "fe90bb6f-7e0a-49c4-ae44-4b36a39a2f24",
   "metadata": {},
   "outputs": [
    {
     "name": "stdout",
     "output_type": "stream",
     "text": [
      "['Hola', True, 55.3, 24]\n"
     ]
    }
   ],
   "source": [
    "listaMixta = [\"Hola\", True, 55.3,24]\n",
    "print(listaMixta)"
   ]
  },
  {
   "cell_type": "markdown",
   "id": "d6e490f2-a97a-4023-a32c-181b866f4f05",
   "metadata": {},
   "source": [
    "---\n"
   ]
  },
  {
   "cell_type": "code",
   "execution_count": 15,
   "id": "91ea9b28-d9ad-47b3-8b6c-1243c25757f9",
   "metadata": {},
   "outputs": [
    {
     "data": {
      "text/plain": [
       "[0, 1, 2, 3, 4, 5, 6, 7, 8, 9, 10, 11, 12, 13, 14]"
      ]
     },
     "execution_count": 15,
     "metadata": {},
     "output_type": "execute_result"
    }
   ],
   "source": [
    "#FUNCIONES\n",
    "#generador de listas con range, desde 0 hasta 15(sin incluiye el 15)\n",
    "list(range(0,15)) \n"
   ]
  },
  {
   "cell_type": "code",
   "execution_count": 37,
   "id": "907d9b44-7f78-4239-83c0-00893a0bfe76",
   "metadata": {},
   "outputs": [
    {
     "data": {
      "text/plain": [
       "[0, 2, 4, 6, 8, 10, 12, 14]"
      ]
     },
     "execution_count": 37,
     "metadata": {},
     "output_type": "execute_result"
    }
   ],
   "source": [
    "list(range(0,15,2))  #genera desde 0 a 15 con salto de 2 en 2\n"
   ]
  },
  {
   "cell_type": "code",
   "execution_count": 61,
   "id": "1d8aac70-42a4-4f57-96af-1b35112127f6",
   "metadata": {},
   "outputs": [],
   "source": [
    "L3 = list(range(100,210,10))"
   ]
  },
  {
   "cell_type": "code",
   "execution_count": 63,
   "id": "b4b25c63-c0d5-479f-8fe1-ceecef45d3bd",
   "metadata": {},
   "outputs": [
    {
     "data": {
      "text/plain": [
       "[100, 110, 120, 130, 140, 150, 160, 170, 180, 190, 200]"
      ]
     },
     "execution_count": 63,
     "metadata": {},
     "output_type": "execute_result"
    }
   ],
   "source": [
    "L3"
   ]
  },
  {
   "cell_type": "markdown",
   "id": "0aa63725-20d3-44c3-8cac-f90733cb5269",
   "metadata": {},
   "source": [
    "---"
   ]
  },
  {
   "cell_type": "markdown",
   "id": "086c8dd7-67d9-4e2b-9f91-098fdb7485e1",
   "metadata": {},
   "source": [
    "### Acceder a los datos de una lista"
   ]
  },
  {
   "cell_type": "code",
   "execution_count": 74,
   "id": "b30c067b-4309-47ff-8f52-bf31592b5221",
   "metadata": {},
   "outputs": [
    {
     "data": {
      "text/plain": [
       "'i'"
      ]
     },
     "execution_count": 74,
     "metadata": {},
     "output_type": "execute_result"
    }
   ],
   "source": [
    "vocales = [\"a\", \"e\",\"i\",\"o\",\"u\"]\n",
    "#           0    1   2   3   4 \n",
    "#negativa  -5   -4  -3   -2  -1\n",
    "vocales[2]\n"
   ]
  },
  {
   "cell_type": "code",
   "execution_count": 76,
   "id": "edbb41b5-458a-4450-98c9-6f13ba473874",
   "metadata": {},
   "outputs": [
    {
     "data": {
      "text/plain": [
       "'e'"
      ]
     },
     "execution_count": 76,
     "metadata": {},
     "output_type": "execute_result"
    }
   ],
   "source": [
    "vocales[-4]"
   ]
  },
  {
   "cell_type": "code",
   "execution_count": 78,
   "id": "4eda4a97-0836-4fba-bbf0-f941f82edfa1",
   "metadata": {},
   "outputs": [
    {
     "data": {
      "text/plain": [
       "5"
      ]
     },
     "execution_count": 78,
     "metadata": {},
     "output_type": "execute_result"
    }
   ],
   "source": [
    "len(vocales) #contar los eltos de una lista"
   ]
  },
  {
   "cell_type": "code",
   "execution_count": 82,
   "id": "6f873107-06ed-4e1d-8be4-41d9f8819286",
   "metadata": {},
   "outputs": [
    {
     "data": {
      "text/plain": [
       "['a', 'e', 'b', 'o', 'u']"
      ]
     },
     "execution_count": 82,
     "metadata": {},
     "output_type": "execute_result"
    }
   ],
   "source": [
    "#cambiar eltos de una lsita\n",
    "vocales[2] = \"b\"\n",
    "vocales"
   ]
  },
  {
   "cell_type": "code",
   "execution_count": null,
   "id": "beed733c-0cbf-4309-9e1b-6cbfe74a2dd4",
   "metadata": {},
   "outputs": [],
   "source": [
    "#SLICING - TOMAR UN SUBSET DE ELTOS DE UNA LISTA, PORCIONES\n",
    "#USA LOS : PARA indicar (donde empieza):(donde acaba):(salto)"
   ]
  },
  {
   "cell_type": "code",
   "execution_count": 86,
   "id": "cbb47a28-5851-4831-a5d5-c24dfe20a4f7",
   "metadata": {},
   "outputs": [],
   "source": [
    "letras = ['a','b','c','d','e','f','g','h','i','j']\n",
    "#posiciones0   1   2   3   4   5   6   7   8   9 \n"
   ]
  },
  {
   "cell_type": "code",
   "execution_count": 88,
   "id": "81b3f784-8dc4-4344-97c7-e9d8b51499c1",
   "metadata": {},
   "outputs": [
    {
     "data": {
      "text/plain": [
       "['c', 'd', 'e', 'f', 'g', 'h', 'i', 'j']"
      ]
     },
     "execution_count": 88,
     "metadata": {},
     "output_type": "execute_result"
    }
   ],
   "source": [
    "letras[2:]"
   ]
  },
  {
   "cell_type": "code",
   "execution_count": 90,
   "id": "b47f9885-b8b9-459d-aa53-39bbb66ac68e",
   "metadata": {},
   "outputs": [
    {
     "data": {
      "text/plain": [
       "['c', 'd', 'e']"
      ]
     },
     "execution_count": 90,
     "metadata": {},
     "output_type": "execute_result"
    }
   ],
   "source": [
    "letras[2:5]"
   ]
  },
  {
   "cell_type": "code",
   "execution_count": 92,
   "id": "329d9fc1-6e91-4770-871e-6990a3fbbd86",
   "metadata": {},
   "outputs": [
    {
     "data": {
      "text/plain": [
       "['c', 'e', 'g', 'i']"
      ]
     },
     "execution_count": 92,
     "metadata": {},
     "output_type": "execute_result"
    }
   ],
   "source": [
    "letras[2::2] #empieza en 2 hasta el final(no pongo dato) y salto de 2 en 2"
   ]
  },
  {
   "cell_type": "code",
   "execution_count": 100,
   "id": "12ec5a82-df6c-41da-a5e5-222bd3fe5e70",
   "metadata": {},
   "outputs": [
    {
     "data": {
      "text/plain": [
       "['j', 'i', 'h', 'g', 'f', 'e', 'd', 'c', 'b', 'a']"
      ]
     },
     "execution_count": 100,
     "metadata": {},
     "output_type": "execute_result"
    }
   ],
   "source": [
    "letras[::-1] #le da la vuelta a la lista, invierte toda la lista"
   ]
  },
  {
   "cell_type": "markdown",
   "id": "ebb634d0-c162-4989-b700-061f584ee307",
   "metadata": {},
   "source": [
    "---"
   ]
  },
  {
   "cell_type": "markdown",
   "id": "2ecdb8ff-afee-4a9c-acdb-88d6f3c707a6",
   "metadata": {},
   "source": [
    "# TUPLAS\n",
    "Es una lista **inmutable** de elementos\n",
    "se crea con ( ) en vez de []"
   ]
  },
  {
   "cell_type": "code",
   "execution_count": 108,
   "id": "c427db3e-3258-40f9-9444-da5e914374dc",
   "metadata": {},
   "outputs": [
    {
     "data": {
      "text/plain": [
       "3"
      ]
     },
     "execution_count": 108,
     "metadata": {},
     "output_type": "execute_result"
    }
   ],
   "source": [
    "tupla = (1,2,3,4,5,6,7)\n",
    "tupla[2]\n"
   ]
  },
  {
   "cell_type": "code",
   "execution_count": 110,
   "id": "97131dbc-ffd8-4816-ad99-311f6c797c67",
   "metadata": {},
   "outputs": [
    {
     "ename": "TypeError",
     "evalue": "'tuple' object does not support item assignment",
     "output_type": "error",
     "traceback": [
      "\u001b[1;31m---------------------------------------------------------------------------\u001b[0m",
      "\u001b[1;31mTypeError\u001b[0m                                 Traceback (most recent call last)",
      "Cell \u001b[1;32mIn[110], line 1\u001b[0m\n\u001b[1;32m----> 1\u001b[0m tupla[\u001b[38;5;241m2\u001b[39m] \u001b[38;5;241m=\u001b[39m \u001b[38;5;241m5\u001b[39m\n",
      "\u001b[1;31mTypeError\u001b[0m: 'tuple' object does not support item assignment"
     ]
    }
   ],
   "source": [
    "tupla[2] = 5"
   ]
  },
  {
   "cell_type": "code",
   "execution_count": null,
   "id": "fccba24b-2b91-4be8-8b4e-ba5b0671fb78",
   "metadata": {},
   "outputs": [],
   "source": [
    "#error porque no deja cambiar  tuple' object does not support item assignment"
   ]
  },
  {
   "cell_type": "markdown",
   "id": "b924359c-671e-4dcc-bfe0-bbb0db56b67f",
   "metadata": {},
   "source": [
    "---"
   ]
  },
  {
   "cell_type": "markdown",
   "id": "c9e2ab1c-2544-4bb6-99f4-cb9c506d44f2",
   "metadata": {},
   "source": [
    "<h2>FUNCIONES </h2>\n",
    "funciones en Python//Paquetes en Python: tienen varias funciones\n",
    "\n",
    "<span style=\"color:blue\">Modulo:</span> un archivo que contiene def, func, y declaraciones de Python <br><span style=\"color:blue\">Paquete:</span> relaciona diferentes modulos en una misma estructura, hay pquetes muy completos con cientos de modulos"
   ]
  },
  {
   "cell_type": "code",
   "execution_count": 123,
   "id": "af4ecd65-cee4-42e2-8c2e-645364ae0f92",
   "metadata": {},
   "outputs": [],
   "source": [
    "#Paso 1: ENCONTRAR PAQUETE:--> **GITHUB**\n",
    "#Paso 2: INSTALAR EL PAQUETE: win: desde el comand prompt (anaconda) -->conda install nombrepaquete  \n",
    "# O sino (vscode): pip instal nombrepaquete\n",
    "#Paso 3: IMPORTAR PAQUETE :  import paquete // from paquete.modulo import modulo"
   ]
  },
  {
   "cell_type": "code",
   "execution_count": 1,
   "id": "d0a79f59-2149-458b-9a9e-ed973ac3644d",
   "metadata": {},
   "outputs": [],
   "source": [
    "import scrapy"
   ]
  },
  {
   "cell_type": "code",
   "execution_count": 7,
   "id": "77556b66-0a0f-4685-88ca-f09aec813d2c",
   "metadata": {},
   "outputs": [],
   "source": [
    "from scrapy.crawler import CrawlerProcess"
   ]
  },
  {
   "cell_type": "markdown",
   "id": "04ffc08a-6d25-45f9-aa48-c17e9d9b33e2",
   "metadata": {},
   "source": [
    "---"
   ]
  },
  {
   "cell_type": "markdown",
   "id": "ae117d0e-d7dd-4068-b7cd-a69e1652862c",
   "metadata": {},
   "source": [
    "<h2>ARRAYS O ARREGLOS </h2>\n",
    "\n",
    "SE usa mucho el paquete **numpy** para arrays\n",
    "\n",
    "Un array no puede tener diferentes tipos de datos, no es mixto, convierte los datos a texto si hay un string dentro "
   ]
  },
  {
   "cell_type": "code",
   "execution_count": 11,
   "id": "9599a399-6178-4917-b1c0-3d1873e5f003",
   "metadata": {},
   "outputs": [],
   "source": [
    "import numpy as np #para llamarmo np en vez de numpy y ahorrar texto\n"
   ]
  },
  {
   "cell_type": "code",
   "execution_count": 13,
   "id": "8018978e-1218-4edf-9359-8fd1a72699f4",
   "metadata": {},
   "outputs": [],
   "source": [
    "#creamos una lista que luego pasaramos a numpy para crear el array"
   ]
  },
  {
   "cell_type": "code",
   "execution_count": 19,
   "id": "c6617854-e142-4169-9f93-371fb100f9e8",
   "metadata": {},
   "outputs": [
    {
     "name": "stdout",
     "output_type": "stream",
     "text": [
      "[2345   54 1028   32   64    8   16]\n"
     ]
    }
   ],
   "source": [
    "L = [2345,54,1028,32,64,8,16]\n",
    "a = np.array(L)\n",
    "print(a)"
   ]
  },
  {
   "cell_type": "code",
   "execution_count": 22,
   "id": "21d0b79a-f480-4d13-8843-2cdb1103d701",
   "metadata": {},
   "outputs": [
    {
     "name": "stdout",
     "output_type": "stream",
     "text": [
      "['12' '5' 'b' 'True']\n"
     ]
    }
   ],
   "source": [
    "M = [12, 5, \"b\", True ]\n",
    "b = np.array(M)\n",
    "print(b)"
   ]
  },
  {
   "cell_type": "markdown",
   "id": "3972873c-3160-4c62-90ff-a2174280b0d0",
   "metadata": {},
   "source": [
    "Ha convertido todos los eltos de la lista a string, los números y el True es un string. "
   ]
  },
  {
   "cell_type": "code",
   "execution_count": 25,
   "id": "3ca111b7-42e9-46eb-bb13-cd6dcbf2cee5",
   "metadata": {},
   "outputs": [
    {
     "data": {
      "text/plain": [
       "16"
      ]
     },
     "execution_count": 25,
     "metadata": {},
     "output_type": "execute_result"
    }
   ],
   "source": [
    "L.pop() #escribimos L. y pulsamos tab para ver los metodos disponibles."
   ]
  },
  {
   "cell_type": "code",
   "execution_count": 35,
   "id": "69ad4cdc-5dbc-4b24-8a90-cc2ee4bd96ef",
   "metadata": {},
   "outputs": [
    {
     "data": {
      "text/plain": [
       "2345"
      ]
     },
     "execution_count": 35,
     "metadata": {},
     "output_type": "execute_result"
    }
   ],
   "source": [
    "a.mean()\n"
   ]
  },
  {
   "cell_type": "code",
   "execution_count": 37,
   "id": "0f21bf8f-92b7-4746-a42a-dbf22b5ea9e7",
   "metadata": {},
   "outputs": [
    {
     "data": {
      "text/plain": [
       "5"
      ]
     },
     "execution_count": 37,
     "metadata": {},
     "output_type": "execute_result"
    }
   ],
   "source": [
    "a.argmin()"
   ]
  },
  {
   "cell_type": "code",
   "execution_count": 41,
   "id": "b7e0afb9-e7e2-4bae-9aa6-c9b75fac1303",
   "metadata": {},
   "outputs": [
    {
     "data": {
      "text/plain": [
       "2345"
      ]
     },
     "execution_count": 41,
     "metadata": {},
     "output_type": "execute_result"
    }
   ],
   "source": [
    "a.max()"
   ]
  },
  {
   "cell_type": "markdown",
   "id": "789a2910-4047-495f-b42e-8b62af9e1086",
   "metadata": {},
   "source": [
    "<h3>Slicing en Array</h3>"
   ]
  },
  {
   "cell_type": "code",
   "execution_count": 48,
   "id": "69ef00c6-942a-4db0-9ac5-b2fd52f34990",
   "metadata": {},
   "outputs": [
    {
     "data": {
      "text/plain": [
       "array([1028,   32])"
      ]
     },
     "execution_count": 48,
     "metadata": {},
     "output_type": "execute_result"
    }
   ],
   "source": [
    "#similiar al slicing en listas, no estamos creando copias del array, solo crea una vista\n",
    "a[2:4]"
   ]
  },
  {
   "cell_type": "code",
   "execution_count": 50,
   "id": "5a580721-cf6a-4ac6-b6d4-508c6cc94e5b",
   "metadata": {},
   "outputs": [
    {
     "name": "stdout",
     "output_type": "stream",
     "text": [
      "[1028   32]\n"
     ]
    }
   ],
   "source": [
    "b = a[2:4]\n",
    "print(b)"
   ]
  },
  {
   "cell_type": "code",
   "execution_count": 52,
   "id": "ea24078f-6c64-4038-8121-d78532674696",
   "metadata": {},
   "outputs": [
    {
     "name": "stdout",
     "output_type": "stream",
     "text": [
      "[45 45]\n"
     ]
    }
   ],
   "source": [
    "#modificaciones sobre esos trozos slicing de array se modifica el array original\n",
    "b[:] = 45 #cambiamos todos los elementos del array b por el numero 45\n",
    "print(b)"
   ]
  },
  {
   "cell_type": "code",
   "execution_count": 54,
   "id": "d06a7d7d-99e7-4508-a7e2-bd6eb92e53e7",
   "metadata": {},
   "outputs": [
    {
     "name": "stdout",
     "output_type": "stream",
     "text": [
      "[2345   54   45   45   64    8   16]\n"
     ]
    }
   ],
   "source": [
    "print(a)"
   ]
  },
  {
   "cell_type": "code",
   "execution_count": 56,
   "id": "237af103-5efa-48c0-b98a-a353e9e6a6d7",
   "metadata": {},
   "outputs": [
    {
     "name": "stdout",
     "output_type": "stream",
     "text": [
      "[2345   54   45   45   64    8   16]\n"
     ]
    }
   ],
   "source": [
    "#tambien ha camabiado el array a \n",
    "#Para crear una copia hay que usar el mtd copy \n",
    "c= a.copy()\n",
    "print(c)\n"
   ]
  },
  {
   "cell_type": "code",
   "execution_count": 58,
   "id": "fd371943-2284-44df-a4d2-58cfe07fe9bd",
   "metadata": {},
   "outputs": [],
   "source": [
    "c[0:4] = 666"
   ]
  },
  {
   "cell_type": "code",
   "execution_count": 62,
   "id": "fc4de3c5-bc9f-4ca9-92c7-dc1228365b4c",
   "metadata": {},
   "outputs": [
    {
     "name": "stdout",
     "output_type": "stream",
     "text": [
      "El array original es a [2345   54   45   45   64    8   16]\n",
      "El array que es copia de a y ha sido cambiado es c:  [666 666 666 666  64   8  16]\n"
     ]
    }
   ],
   "source": [
    "print(\"El array original es a:\",a)\n",
    "print(\"El array que es copia de a y ha sido cambiado es c: \", c)"
   ]
  },
  {
   "cell_type": "code",
   "execution_count": null,
   "id": "8a4543d0-bf34-42b6-86ad-22bc9fede2e8",
   "metadata": {},
   "outputs": [],
   "source": []
  },
  {
   "cell_type": "code",
   "execution_count": null,
   "id": "d7d88785-898c-4064-b8fb-7b6686c5195d",
   "metadata": {},
   "outputs": [],
   "source": []
  }
 ],
 "metadata": {
  "kernelspec": {
   "display_name": "Python 3 (ipykernel)",
   "language": "python",
   "name": "python3"
  },
  "language_info": {
   "codemirror_mode": {
    "name": "ipython",
    "version": 3
   },
   "file_extension": ".py",
   "mimetype": "text/x-python",
   "name": "python",
   "nbconvert_exporter": "python",
   "pygments_lexer": "ipython3",
   "version": "3.11.7"
  }
 },
 "nbformat": 4,
 "nbformat_minor": 5
}
