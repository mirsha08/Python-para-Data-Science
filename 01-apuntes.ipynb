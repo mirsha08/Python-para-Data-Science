{
 "cells": [
  {
   "cell_type": "code",
   "execution_count": 11,
   "id": "96aa2264-2549-42f8-a91e-85fdfd10f071",
   "metadata": {},
   "outputs": [],
   "source": [
    "A = 10\n",
    "B = 5\n"
   ]
  },
  {
   "cell_type": "code",
   "execution_count": null,
   "id": "154b928e-ba7b-4e6b-9a41-05d0384e9f4a",
   "metadata": {},
   "outputs": [],
   "source": [
    "#Aritmetica simple"
   ]
  },
  {
   "cell_type": "code",
   "execution_count": 13,
   "id": "d4ef0562-2306-4e53-bbee-9e0276ad0c9a",
   "metadata": {},
   "outputs": [],
   "source": [
    "c = A + B"
   ]
  },
  {
   "cell_type": "code",
   "execution_count": 17,
   "id": "b102ccc4-f973-4c4c-94fa-13cb9554c304",
   "metadata": {},
   "outputs": [
    {
     "name": "stdout",
     "output_type": "stream",
     "text": [
      "15\n"
     ]
    }
   ],
   "source": [
    "print(c)  #esto es diferente a python 2\n"
   ]
  },
  {
   "cell_type": "code",
   "execution_count": 19,
   "id": "f058fbfd-11ae-4b73-88ef-d216205ef1c0",
   "metadata": {},
   "outputs": [],
   "source": [
    "import math"
   ]
  },
  {
   "cell_type": "code",
   "execution_count": 25,
   "id": "152f391c-0cfd-47ac-aa14-041b7096ab21",
   "metadata": {},
   "outputs": [
    {
     "data": {
      "text/plain": [
       "3.1622776601683795"
      ]
     },
     "execution_count": 25,
     "metadata": {},
     "output_type": "execute_result"
    }
   ],
   "source": [
    "math.sqrt(A)\n"
   ]
  },
  {
   "cell_type": "code",
   "execution_count": 27,
   "id": "cb0b34a2-547e-4d74-98ec-f9c02ddf97fa",
   "metadata": {},
   "outputs": [
    {
     "data": {
      "text/plain": [
       "3"
      ]
     },
     "execution_count": 27,
     "metadata": {},
     "output_type": "execute_result"
    }
   ],
   "source": [
    "round(math.sqrt(A))"
   ]
  },
  {
   "cell_type": "code",
   "execution_count": 10,
   "id": "e2ed1c91-7efb-4773-9a07-4d6d59b8a43c",
   "metadata": {},
   "outputs": [
    {
     "name": "stdout",
     "output_type": "stream",
     "text": [
      "0\n",
      "1\n",
      "2\n",
      "3\n",
      "4\n",
      "5\n",
      "6\n",
      "7\n",
      "8\n",
      "9\n",
      "fuera de bucle, FIN\n"
     ]
    }
   ],
   "source": [
    "i = 0\n",
    "while i<10:\n",
    "    print(i)\n",
    "    i +=1\n",
    "print(\"fuera de bucle, FIN\")"
   ]
  },
  {
   "cell_type": "markdown",
   "id": "7db097c7-dd27-4017-a8d1-4cb7bb70f73f",
   "metadata": {},
   "source": [
    "BUCLE FOR "
   ]
  },
  {
   "cell_type": "code",
   "execution_count": 12,
   "id": "17f90290-71ef-4c48-a528-41ab21d30b07",
   "metadata": {},
   "outputs": [
    {
     "name": "stdout",
     "output_type": "stream",
     "text": [
      "Hola Py\n",
      "Hola Py\n",
      "Hola Py\n",
      "Hola Py\n",
      "Hola Py\n"
     ]
    }
   ],
   "source": [
    "#vamos a escribir un for loop\n",
    "for i in range(5):\n",
    "    print(\"Hola Py\")\n",
    "    "
   ]
  },
  {
   "cell_type": "code",
   "execution_count": 14,
   "id": "21e77351-3d89-4fc5-b9f8-00ca291b6e9f",
   "metadata": {},
   "outputs": [
    {
     "data": {
      "text/plain": [
       "[0, 1, 2, 3, 4]"
      ]
     },
     "execution_count": 14,
     "metadata": {},
     "output_type": "execute_result"
    }
   ],
   "source": [
    "#range(5) #diferente a python 2.7\n",
    "list(range(5))  #empieza en 0 y cuenta 5, es una lista no inclusiva"
   ]
  },
  {
   "cell_type": "code",
   "execution_count": 16,
   "id": "272ee187-d59f-4388-9d2b-6bdc4fc1299f",
   "metadata": {},
   "outputs": [
    {
     "name": "stdout",
     "output_type": "stream",
     "text": [
      "Hola, contando 0\n",
      "Hola, contando 1\n",
      "Hola, contando 2\n",
      "Hola, contando 3\n",
      "Hola, contando 4\n"
     ]
    }
   ],
   "source": [
    "for i in range(5):\n",
    "    print(\"Hola, contando \", i)"
   ]
  },
  {
   "cell_type": "markdown",
   "id": "d55671f6-a457-4ac0-a6b7-e4757adbb813",
   "metadata": {},
   "source": [
    "---"
   ]
  },
  {
   "cell_type": "code",
   "execution_count": null,
   "id": "c119075e-6628-4941-8082-7e146eb1f705",
   "metadata": {},
   "outputs": [],
   "source": []
  },
  {
   "cell_type": "code",
   "execution_count": 19,
   "id": "9ccd5cce-b5ce-493d-ab3e-a2eb54a84483",
   "metadata": {},
   "outputs": [
    {
     "name": "stdout",
     "output_type": "stream",
     "text": [
      "[10, 100, 10000]\n"
     ]
    }
   ],
   "source": [
    "myList=[10,100,10000]\n",
    "print(myList)"
   ]
  },
  {
   "cell_type": "code",
   "execution_count": 21,
   "id": "6b89fe57-0a11-44a3-b8fb-7f8be53e5ae0",
   "metadata": {},
   "outputs": [
    {
     "name": "stdout",
     "output_type": "stream",
     "text": [
      "jj, es igual a: 10\n",
      "jj, es igual a: 100\n",
      "jj, es igual a: 10000\n"
     ]
    }
   ],
   "source": [
    "for jj in myList:\n",
    "    print(\"jj, es igual a:\", jj )"
   ]
  },
  {
   "cell_type": "code",
   "execution_count": null,
   "id": "11d75fa5-357d-4ab6-94c6-64f49d6ac891",
   "metadata": {},
   "outputs": [],
   "source": []
  },
  {
   "cell_type": "markdown",
   "id": "ac678d39-1adb-4f57-88ba-3a6cdf5a5236",
   "metadata": {},
   "source": [
    "---"
   ]
  },
  {
   "cell_type": "markdown",
   "id": "3c75e776-ae37-4308-a091-4f9deaa75692",
   "metadata": {},
   "source": [
    "# Para crear una linea para dividir el código en jupyter. en Markcode datos --- y alt+enter y crea una línea\n",
    "---"
   ]
  },
  {
   "cell_type": "markdown",
   "id": "35c71705-11cd-4c27-b6de-19a7b4cde418",
   "metadata": {},
   "source": [
    "---"
   ]
  },
  {
   "cell_type": "markdown",
   "id": "3cb94e67-df65-4b40-b4b6-7371f7b04bce",
   "metadata": {},
   "source": [
    "If, else, y numply"
   ]
  },
  {
   "cell_type": "code",
   "execution_count": 40,
   "id": "d470f1af-cf62-48d9-b143-3cebde131c88",
   "metadata": {},
   "outputs": [
    {
     "data": {
      "text/plain": [
       "-0.4657334501457818"
      ]
     },
     "execution_count": 40,
     "metadata": {},
     "output_type": "execute_result"
    }
   ],
   "source": [
    "#importamos el paquete numpy\n",
    "import numpy as np #le asignamos un alias 'np'\n",
    "\n",
    "from numpy.random import randn #importamos la función random del pquete numpy\n",
    "\n",
    "randn()"
   ]
  },
  {
   "cell_type": "code",
   "execution_count": 63,
   "id": "ebcac24a-6f84-4c72-80be-20f22451f799",
   "metadata": {},
   "outputs": [
    {
     "name": "stdout",
     "output_type": "stream",
     "text": [
      "-0.1363672580384036\n",
      "No es mayor de 2\n"
     ]
    }
   ],
   "source": [
    "x = randn()\n",
    "\n",
    "if x > 2:     respuesta =\"Mayor a 2\"\n",
    "else: respuesta =\"No es mayor de 2\"\n",
    "print(x)\n",
    "print(respuesta)"
   ]
  },
  {
   "cell_type": "code",
   "execution_count": 73,
   "id": "5b149425-3a0f-4f00-82bc-8e8a0e332ac2",
   "metadata": {},
   "outputs": [
    {
     "name": "stdout",
     "output_type": "stream",
     "text": [
      "1.6981438202611863\n",
      "Mayor de 1\n"
     ]
    }
   ],
   "source": [
    "#CONDICIONES ANIDADOS \n",
    "x = randn()\n",
    "\n",
    "if x > 1:\n",
    "    respuesta =\"Mayor de 1\"\n",
    "else:\n",
    "    if x >-1:\n",
    "        respuesta =\"Entre -1 y 1\"\n",
    "    else:\n",
    "        respuesta =\"Menor a -1\"\n",
    "        \n",
    "print(x)\n",
    "print(respuesta)"
   ]
  },
  {
   "cell_type": "code",
   "execution_count": 75,
   "id": "aa5c35ca-fb02-471e-a0f4-c049ee9a7759",
   "metadata": {},
   "outputs": [
    {
     "name": "stdout",
     "output_type": "stream",
     "text": [
      "-1.4388268989208093\n",
      "Menor a -1\n"
     ]
    }
   ],
   "source": [
    "# condiciones encadenados (más limpio)\n",
    "x = randn()\n",
    "\n",
    "if x > 1:\n",
    "    respuesta =\"Mayor de 1\"\n",
    "elif x >-1:\n",
    "   respuesta =\"Entre -1 y 1\"\n",
    "else:\n",
    "   respuesta =\"Menor a -1\"\n",
    "        \n",
    "print(x)\n",
    "print(respuesta)"
   ]
  },
  {
   "cell_type": "markdown",
   "id": "da5062f4-fa94-464f-b721-1ff9f4da2fec",
   "metadata": {},
   "source": [
    "---"
   ]
  },
  {
   "cell_type": "code",
   "execution_count": null,
   "id": "f3b7245f-f27a-4fb7-9964-7be576628a5e",
   "metadata": {},
   "outputs": [],
   "source": []
  },
  {
   "cell_type": "code",
   "execution_count": null,
   "id": "e8ad9ac8-1768-4be3-b17c-2be5fb32b745",
   "metadata": {},
   "outputs": [],
   "source": [
    "#solución al problema 1\n",
    "import numpy as np\n",
    "from numpy.random import randn\n",
    "N = 50  #especifica el tamaño de la muestra\n",
    "contador = 0 #reinicio el contador\n",
    "\n",
    "for contador in randn(N):\n",
    "    if( and ):\n",
    "        contador += 1\n",
    "\n",
    "repuesta = contador /N\n",
    "print (respuesta)\n",
    "    \n"
   ]
  }
 ],
 "metadata": {
  "kernelspec": {
   "display_name": "Python 3 (ipykernel)",
   "language": "python",
   "name": "python3"
  },
  "language_info": {
   "codemirror_mode": {
    "name": "ipython",
    "version": 3
   },
   "file_extension": ".py",
   "mimetype": "text/x-python",
   "name": "python",
   "nbconvert_exporter": "python",
   "pygments_lexer": "ipython3",
   "version": "3.11.7"
  }
 },
 "nbformat": 4,
 "nbformat_minor": 5
}
