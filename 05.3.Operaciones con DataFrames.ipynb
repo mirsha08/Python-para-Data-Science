{
 "cells": [
  {
   "cell_type": "markdown",
   "id": "b81265ad-9708-4e00-a372-45823be1d2a1",
   "metadata": {},
   "source": [
    "### Operaciones básicas con Dataframes\n"
   ]
  },
  {
   "cell_type": "code",
   "execution_count": 3,
   "id": "6de9ce0b-824e-4fb5-b7e8-c236a39e2216",
   "metadata": {},
   "outputs": [
    {
     "name": "stdout",
     "output_type": "stream",
     "text": [
      "C:\\Users\\CPU\n"
     ]
    }
   ],
   "source": [
    "#cargamos todo para inciar\n",
    "import pandas as pd\n",
    "import os\n",
    "print(os.getcwd())"
   ]
  },
  {
   "cell_type": "code",
   "execution_count": 9,
   "id": "5bf537e6-69e0-49c3-b302-154dec60252d",
   "metadata": {},
   "outputs": [],
   "source": [
    "os.chdir('C:\\\\Users\\\\CPU\\\\Jupiter-docus\\\\Seccion5-Datos')\n",
    "datos = pd.read_csv('DatosDemograficos.csv')"
   ]
  },
  {
   "cell_type": "code",
   "execution_count": 25,
   "id": "9538a0e3-e5c2-4f3f-b28c-332ddc050a64",
   "metadata": {},
   "outputs": [],
   "source": [
    "datos.columns = ['NombrePais','CodigoPais','TasaNatalidad','UsuariosInternet','GrupoIngresos']\n"
   ]
  },
  {
   "cell_type": "code",
   "execution_count": 29,
   "id": "1ef3ba5f-cff6-4801-a52f-ff3dacd66898",
   "metadata": {},
   "outputs": [
    {
     "data": {
      "text/plain": [
       "Index(['NombrePais', 'CodigoPais', 'TasaNatalidad', 'UsuariosInternet',\n",
       "       'GrupoIngresos'],\n",
       "      dtype='object')"
      ]
     },
     "execution_count": 29,
     "metadata": {},
     "output_type": "execute_result"
    }
   ],
   "source": [
    "datos.columns"
   ]
  },
  {
   "cell_type": "markdown",
   "id": "8fc869c1-de46-4861-865f-f28ddd6d0a32",
   "metadata": {},
   "source": [
    "---"
   ]
  },
  {
   "cell_type": "code",
   "execution_count": null,
   "id": "41d64187-1940-4368-90db-639237c35514",
   "metadata": {},
   "outputs": [],
   "source": [
    "#Operaciones Básicas con DataFrames"
   ]
  },
  {
   "cell_type": "code",
   "execution_count": 41,
   "id": "beced6ea-509a-47b5-a2e6-4e392bcdd681",
   "metadata": {},
   "outputs": [
    {
     "data": {
      "text/html": [
       "<div>\n",
       "<style scoped>\n",
       "    .dataframe tbody tr th:only-of-type {\n",
       "        vertical-align: middle;\n",
       "    }\n",
       "\n",
       "    .dataframe tbody tr th {\n",
       "        vertical-align: top;\n",
       "    }\n",
       "\n",
       "    .dataframe thead th {\n",
       "        text-align: right;\n",
       "    }\n",
       "</style>\n",
       "<table border=\"1\" class=\"dataframe\">\n",
       "  <thead>\n",
       "    <tr style=\"text-align: right;\">\n",
       "      <th></th>\n",
       "      <th>NombrePais</th>\n",
       "      <th>TasaNatalidad</th>\n",
       "      <th>UsuariosInternet</th>\n",
       "    </tr>\n",
       "  </thead>\n",
       "  <tbody>\n",
       "    <tr>\n",
       "      <th>4</th>\n",
       "      <td>United Arab Emirates</td>\n",
       "      <td>11.044</td>\n",
       "      <td>88.0</td>\n",
       "    </tr>\n",
       "    <tr>\n",
       "      <th>5</th>\n",
       "      <td>Argentina</td>\n",
       "      <td>17.716</td>\n",
       "      <td>59.9</td>\n",
       "    </tr>\n",
       "    <tr>\n",
       "      <th>6</th>\n",
       "      <td>Armenia</td>\n",
       "      <td>13.308</td>\n",
       "      <td>41.9</td>\n",
       "    </tr>\n",
       "    <tr>\n",
       "      <th>7</th>\n",
       "      <td>Antigua and Barbuda</td>\n",
       "      <td>16.447</td>\n",
       "      <td>63.4</td>\n",
       "    </tr>\n",
       "  </tbody>\n",
       "</table>\n",
       "</div>"
      ],
      "text/plain": [
       "             NombrePais  TasaNatalidad  UsuariosInternet\n",
       "4  United Arab Emirates         11.044              88.0\n",
       "5             Argentina         17.716              59.9\n",
       "6               Armenia         13.308              41.9\n",
       "7   Antigua and Barbuda         16.447              63.4"
      ]
     },
     "execution_count": 41,
     "metadata": {},
     "output_type": "execute_result"
    }
   ],
   "source": [
    "datos[['NombrePais','TasaNatalidad','UsuariosInternet']][4:8]"
   ]
  },
  {
   "cell_type": "code",
   "execution_count": null,
   "id": "c20e2bd5-eb55-4e8a-8c69-1122d5444715",
   "metadata": {},
   "outputs": [],
   "source": [
    "#operaciones matemáticas\n"
   ]
  },
  {
   "cell_type": "code",
   "execution_count": 45,
   "id": "eed39c16-39bd-4724-9a85-6f605e160677",
   "metadata": {},
   "outputs": [],
   "source": [
    "#multiplicar columna x columna, ej:\n",
    "resultado = datos.TasaNatalidad * datos.UsuariosInternet"
   ]
  },
  {
   "cell_type": "code",
   "execution_count": 47,
   "id": "0d7eee22-cb34-40a9-bc56-3875101c6e49",
   "metadata": {},
   "outputs": [
    {
     "data": {
      "text/plain": [
       "0    808.2516\n",
       "1    207.9927\n",
       "2    878.3135\n",
       "3    736.5644\n",
       "4    971.8720\n",
       "dtype: float64"
      ]
     },
     "execution_count": 47,
     "metadata": {},
     "output_type": "execute_result"
    }
   ],
   "source": [
    "resultado.head()"
   ]
  },
  {
   "cell_type": "code",
   "execution_count": 55,
   "id": "2b9a8e50-b731-4f5d-8a91-32c2901a04f7",
   "metadata": {},
   "outputs": [],
   "source": [
    "#ahora agregamos la columna a nuestro DataFrama\n",
    "#le indicamos la cabecera de la columna y le damos la operacion que tiene que realizar\n",
    "datos['MiCalculo'] = datos.TasaNatalidad * datos.UsuariosInternet"
   ]
  },
  {
   "cell_type": "code",
   "execution_count": 57,
   "id": "dc19f837-4700-46b8-90cf-e571ea5171f9",
   "metadata": {},
   "outputs": [
    {
     "data": {
      "text/html": [
       "<div>\n",
       "<style scoped>\n",
       "    .dataframe tbody tr th:only-of-type {\n",
       "        vertical-align: middle;\n",
       "    }\n",
       "\n",
       "    .dataframe tbody tr th {\n",
       "        vertical-align: top;\n",
       "    }\n",
       "\n",
       "    .dataframe thead th {\n",
       "        text-align: right;\n",
       "    }\n",
       "</style>\n",
       "<table border=\"1\" class=\"dataframe\">\n",
       "  <thead>\n",
       "    <tr style=\"text-align: right;\">\n",
       "      <th></th>\n",
       "      <th>NombrePais</th>\n",
       "      <th>CodigoPais</th>\n",
       "      <th>TasaNatalidad</th>\n",
       "      <th>UsuariosInternet</th>\n",
       "      <th>GrupoIngresos</th>\n",
       "      <th>MiCalculo</th>\n",
       "    </tr>\n",
       "  </thead>\n",
       "  <tbody>\n",
       "    <tr>\n",
       "      <th>0</th>\n",
       "      <td>Aruba</td>\n",
       "      <td>ABW</td>\n",
       "      <td>10.244</td>\n",
       "      <td>78.9</td>\n",
       "      <td>Ingreso alto</td>\n",
       "      <td>808.2516</td>\n",
       "    </tr>\n",
       "    <tr>\n",
       "      <th>1</th>\n",
       "      <td>Afghanistan</td>\n",
       "      <td>AFG</td>\n",
       "      <td>35.253</td>\n",
       "      <td>5.9</td>\n",
       "      <td>Ingreso bajo</td>\n",
       "      <td>207.9927</td>\n",
       "    </tr>\n",
       "    <tr>\n",
       "      <th>2</th>\n",
       "      <td>Angola</td>\n",
       "      <td>AGO</td>\n",
       "      <td>45.985</td>\n",
       "      <td>19.1</td>\n",
       "      <td>Ingreso medio alto</td>\n",
       "      <td>878.3135</td>\n",
       "    </tr>\n",
       "    <tr>\n",
       "      <th>3</th>\n",
       "      <td>Albania</td>\n",
       "      <td>ALB</td>\n",
       "      <td>12.877</td>\n",
       "      <td>57.2</td>\n",
       "      <td>Ingreso medio alto</td>\n",
       "      <td>736.5644</td>\n",
       "    </tr>\n",
       "    <tr>\n",
       "      <th>4</th>\n",
       "      <td>United Arab Emirates</td>\n",
       "      <td>ARE</td>\n",
       "      <td>11.044</td>\n",
       "      <td>88.0</td>\n",
       "      <td>Ingreso alto</td>\n",
       "      <td>971.8720</td>\n",
       "    </tr>\n",
       "  </tbody>\n",
       "</table>\n",
       "</div>"
      ],
      "text/plain": [
       "             NombrePais CodigoPais  TasaNatalidad  UsuariosInternet  \\\n",
       "0                 Aruba        ABW         10.244              78.9   \n",
       "1           Afghanistan        AFG         35.253               5.9   \n",
       "2                Angola        AGO         45.985              19.1   \n",
       "3               Albania        ALB         12.877              57.2   \n",
       "4  United Arab Emirates        ARE         11.044              88.0   \n",
       "\n",
       "        GrupoIngresos  MiCalculo  \n",
       "0        Ingreso alto   808.2516  \n",
       "1        Ingreso bajo   207.9927  \n",
       "2  Ingreso medio alto   878.3135  \n",
       "3  Ingreso medio alto   736.5644  \n",
       "4        Ingreso alto   971.8720  "
      ]
     },
     "execution_count": 57,
     "metadata": {},
     "output_type": "execute_result"
    }
   ],
   "source": [
    "datos.head()"
   ]
  },
  {
   "cell_type": "code",
   "execution_count": 59,
   "id": "2ca947c1-eee5-43c6-84f0-24eafe20341a",
   "metadata": {},
   "outputs": [],
   "source": [
    "#COMPARACION CON LENGUAJE R: \n",
    " datos['nombrecolumnanueva'] =[1,2,3,4,5] #esto lo mete R en bucle hasta rellenar todas las filas\n",
    "#en Python esto da error ya que es muchos menos datos que filas para rellenar"
   ]
  },
  {
   "cell_type": "code",
   "execution_count": null,
   "id": "30b9db69-0df8-4d2b-96d2-3bd5b08cdd00",
   "metadata": {},
   "outputs": [],
   "source": [
    "#REMOVER UNA COLUMNA"
   ]
  },
  {
   "cell_type": "code",
   "execution_count": 71,
   "id": "a742e5bd-825e-4b7e-bdab-f65ac3bc58b6",
   "metadata": {},
   "outputs": [
    {
     "data": {
      "text/html": [
       "<div>\n",
       "<style scoped>\n",
       "    .dataframe tbody tr th:only-of-type {\n",
       "        vertical-align: middle;\n",
       "    }\n",
       "\n",
       "    .dataframe tbody tr th {\n",
       "        vertical-align: top;\n",
       "    }\n",
       "\n",
       "    .dataframe thead th {\n",
       "        text-align: right;\n",
       "    }\n",
       "</style>\n",
       "<table border=\"1\" class=\"dataframe\">\n",
       "  <thead>\n",
       "    <tr style=\"text-align: right;\">\n",
       "      <th></th>\n",
       "      <th>NombrePais</th>\n",
       "      <th>CodigoPais</th>\n",
       "      <th>TasaNatalidad</th>\n",
       "      <th>UsuariosInternet</th>\n",
       "      <th>GrupoIngresos</th>\n",
       "    </tr>\n",
       "  </thead>\n",
       "  <tbody>\n",
       "    <tr>\n",
       "      <th>0</th>\n",
       "      <td>Aruba</td>\n",
       "      <td>ABW</td>\n",
       "      <td>10.244</td>\n",
       "      <td>78.9</td>\n",
       "      <td>Ingreso alto</td>\n",
       "    </tr>\n",
       "    <tr>\n",
       "      <th>1</th>\n",
       "      <td>Afghanistan</td>\n",
       "      <td>AFG</td>\n",
       "      <td>35.253</td>\n",
       "      <td>5.9</td>\n",
       "      <td>Ingreso bajo</td>\n",
       "    </tr>\n",
       "    <tr>\n",
       "      <th>2</th>\n",
       "      <td>Angola</td>\n",
       "      <td>AGO</td>\n",
       "      <td>45.985</td>\n",
       "      <td>19.1</td>\n",
       "      <td>Ingreso medio alto</td>\n",
       "    </tr>\n",
       "    <tr>\n",
       "      <th>3</th>\n",
       "      <td>Albania</td>\n",
       "      <td>ALB</td>\n",
       "      <td>12.877</td>\n",
       "      <td>57.2</td>\n",
       "      <td>Ingreso medio alto</td>\n",
       "    </tr>\n",
       "    <tr>\n",
       "      <th>4</th>\n",
       "      <td>United Arab Emirates</td>\n",
       "      <td>ARE</td>\n",
       "      <td>11.044</td>\n",
       "      <td>88.0</td>\n",
       "      <td>Ingreso alto</td>\n",
       "    </tr>\n",
       "    <tr>\n",
       "      <th>...</th>\n",
       "      <td>...</td>\n",
       "      <td>...</td>\n",
       "      <td>...</td>\n",
       "      <td>...</td>\n",
       "      <td>...</td>\n",
       "    </tr>\n",
       "    <tr>\n",
       "      <th>190</th>\n",
       "      <td>Yemen, Rep.</td>\n",
       "      <td>YEM</td>\n",
       "      <td>32.947</td>\n",
       "      <td>20.0</td>\n",
       "      <td>Ingreso medio bajo</td>\n",
       "    </tr>\n",
       "    <tr>\n",
       "      <th>191</th>\n",
       "      <td>South Africa</td>\n",
       "      <td>ZAF</td>\n",
       "      <td>20.850</td>\n",
       "      <td>46.5</td>\n",
       "      <td>Ingreso medio alto</td>\n",
       "    </tr>\n",
       "    <tr>\n",
       "      <th>192</th>\n",
       "      <td>Congo, Dem. Rep.</td>\n",
       "      <td>COD</td>\n",
       "      <td>42.394</td>\n",
       "      <td>2.2</td>\n",
       "      <td>Ingreso bajo</td>\n",
       "    </tr>\n",
       "    <tr>\n",
       "      <th>193</th>\n",
       "      <td>Zambia</td>\n",
       "      <td>ZMB</td>\n",
       "      <td>40.471</td>\n",
       "      <td>15.4</td>\n",
       "      <td>Ingreso medio bajo</td>\n",
       "    </tr>\n",
       "    <tr>\n",
       "      <th>194</th>\n",
       "      <td>Zimbabwe</td>\n",
       "      <td>ZWE</td>\n",
       "      <td>35.715</td>\n",
       "      <td>18.5</td>\n",
       "      <td>Ingreso bajo</td>\n",
       "    </tr>\n",
       "  </tbody>\n",
       "</table>\n",
       "<p>195 rows × 5 columns</p>\n",
       "</div>"
      ],
      "text/plain": [
       "               NombrePais CodigoPais  TasaNatalidad  UsuariosInternet  \\\n",
       "0                   Aruba        ABW         10.244              78.9   \n",
       "1             Afghanistan        AFG         35.253               5.9   \n",
       "2                  Angola        AGO         45.985              19.1   \n",
       "3                 Albania        ALB         12.877              57.2   \n",
       "4    United Arab Emirates        ARE         11.044              88.0   \n",
       "..                    ...        ...            ...               ...   \n",
       "190           Yemen, Rep.        YEM         32.947              20.0   \n",
       "191          South Africa        ZAF         20.850              46.5   \n",
       "192      Congo, Dem. Rep.        COD         42.394               2.2   \n",
       "193                Zambia        ZMB         40.471              15.4   \n",
       "194              Zimbabwe        ZWE         35.715              18.5   \n",
       "\n",
       "          GrupoIngresos  \n",
       "0          Ingreso alto  \n",
       "1          Ingreso bajo  \n",
       "2    Ingreso medio alto  \n",
       "3    Ingreso medio alto  \n",
       "4          Ingreso alto  \n",
       "..                  ...  \n",
       "190  Ingreso medio bajo  \n",
       "191  Ingreso medio alto  \n",
       "192        Ingreso bajo  \n",
       "193  Ingreso medio bajo  \n",
       "194        Ingreso bajo  \n",
       "\n",
       "[195 rows x 5 columns]"
      ]
     },
     "execution_count": 71,
     "metadata": {},
     "output_type": "execute_result"
    }
   ],
   "source": [
    "#datos.drop('MiCalculo')  #así da error ya que x defecto se usa en filas, y no hay una fila llamada MiCalculo\n",
    "#Si pulsamos shit+tab nos da notificaciones de la función.\n",
    "\n",
    "datos.drop('MiCalculo',axis=1) "
   ]
  },
  {
   "cell_type": "code",
   "execution_count": 67,
   "id": "2ddfaa4d-d293-4458-af91-75a9705916f2",
   "metadata": {},
   "outputs": [
    {
     "data": {
      "text/html": [
       "<div>\n",
       "<style scoped>\n",
       "    .dataframe tbody tr th:only-of-type {\n",
       "        vertical-align: middle;\n",
       "    }\n",
       "\n",
       "    .dataframe tbody tr th {\n",
       "        vertical-align: top;\n",
       "    }\n",
       "\n",
       "    .dataframe thead th {\n",
       "        text-align: right;\n",
       "    }\n",
       "</style>\n",
       "<table border=\"1\" class=\"dataframe\">\n",
       "  <thead>\n",
       "    <tr style=\"text-align: right;\">\n",
       "      <th></th>\n",
       "      <th>NombrePais</th>\n",
       "      <th>CodigoPais</th>\n",
       "      <th>TasaNatalidad</th>\n",
       "      <th>UsuariosInternet</th>\n",
       "      <th>GrupoIngresos</th>\n",
       "      <th>MiCalculo</th>\n",
       "    </tr>\n",
       "  </thead>\n",
       "  <tbody>\n",
       "    <tr>\n",
       "      <th>0</th>\n",
       "      <td>Aruba</td>\n",
       "      <td>ABW</td>\n",
       "      <td>10.244</td>\n",
       "      <td>78.9</td>\n",
       "      <td>Ingreso alto</td>\n",
       "      <td>808.2516</td>\n",
       "    </tr>\n",
       "    <tr>\n",
       "      <th>1</th>\n",
       "      <td>Afghanistan</td>\n",
       "      <td>AFG</td>\n",
       "      <td>35.253</td>\n",
       "      <td>5.9</td>\n",
       "      <td>Ingreso bajo</td>\n",
       "      <td>207.9927</td>\n",
       "    </tr>\n",
       "    <tr>\n",
       "      <th>2</th>\n",
       "      <td>Angola</td>\n",
       "      <td>AGO</td>\n",
       "      <td>45.985</td>\n",
       "      <td>19.1</td>\n",
       "      <td>Ingreso medio alto</td>\n",
       "      <td>878.3135</td>\n",
       "    </tr>\n",
       "    <tr>\n",
       "      <th>3</th>\n",
       "      <td>Albania</td>\n",
       "      <td>ALB</td>\n",
       "      <td>12.877</td>\n",
       "      <td>57.2</td>\n",
       "      <td>Ingreso medio alto</td>\n",
       "      <td>736.5644</td>\n",
       "    </tr>\n",
       "    <tr>\n",
       "      <th>4</th>\n",
       "      <td>United Arab Emirates</td>\n",
       "      <td>ARE</td>\n",
       "      <td>11.044</td>\n",
       "      <td>88.0</td>\n",
       "      <td>Ingreso alto</td>\n",
       "      <td>971.8720</td>\n",
       "    </tr>\n",
       "  </tbody>\n",
       "</table>\n",
       "</div>"
      ],
      "text/plain": [
       "             NombrePais CodigoPais  TasaNatalidad  UsuariosInternet  \\\n",
       "0                 Aruba        ABW         10.244              78.9   \n",
       "1           Afghanistan        AFG         35.253               5.9   \n",
       "2                Angola        AGO         45.985              19.1   \n",
       "3               Albania        ALB         12.877              57.2   \n",
       "4  United Arab Emirates        ARE         11.044              88.0   \n",
       "\n",
       "        GrupoIngresos  MiCalculo  \n",
       "0        Ingreso alto   808.2516  \n",
       "1        Ingreso bajo   207.9927  \n",
       "2  Ingreso medio alto   878.3135  \n",
       "3  Ingreso medio alto   736.5644  \n",
       "4        Ingreso alto   971.8720  "
      ]
     },
     "execution_count": 67,
     "metadata": {},
     "output_type": "execute_result"
    }
   ],
   "source": [
    "datos.head()  #sigue saliendo la columna "
   ]
  },
  {
   "cell_type": "code",
   "execution_count": 73,
   "id": "6d946591-69a9-4e2e-91e5-54fb78e55039",
   "metadata": {},
   "outputs": [
    {
     "data": {
      "text/html": [
       "<div>\n",
       "<style scoped>\n",
       "    .dataframe tbody tr th:only-of-type {\n",
       "        vertical-align: middle;\n",
       "    }\n",
       "\n",
       "    .dataframe tbody tr th {\n",
       "        vertical-align: top;\n",
       "    }\n",
       "\n",
       "    .dataframe thead th {\n",
       "        text-align: right;\n",
       "    }\n",
       "</style>\n",
       "<table border=\"1\" class=\"dataframe\">\n",
       "  <thead>\n",
       "    <tr style=\"text-align: right;\">\n",
       "      <th></th>\n",
       "      <th>NombrePais</th>\n",
       "      <th>CodigoPais</th>\n",
       "      <th>TasaNatalidad</th>\n",
       "      <th>UsuariosInternet</th>\n",
       "      <th>GrupoIngresos</th>\n",
       "    </tr>\n",
       "  </thead>\n",
       "  <tbody>\n",
       "    <tr>\n",
       "      <th>0</th>\n",
       "      <td>Aruba</td>\n",
       "      <td>ABW</td>\n",
       "      <td>10.244</td>\n",
       "      <td>78.9</td>\n",
       "      <td>Ingreso alto</td>\n",
       "    </tr>\n",
       "    <tr>\n",
       "      <th>1</th>\n",
       "      <td>Afghanistan</td>\n",
       "      <td>AFG</td>\n",
       "      <td>35.253</td>\n",
       "      <td>5.9</td>\n",
       "      <td>Ingreso bajo</td>\n",
       "    </tr>\n",
       "    <tr>\n",
       "      <th>2</th>\n",
       "      <td>Angola</td>\n",
       "      <td>AGO</td>\n",
       "      <td>45.985</td>\n",
       "      <td>19.1</td>\n",
       "      <td>Ingreso medio alto</td>\n",
       "    </tr>\n",
       "    <tr>\n",
       "      <th>3</th>\n",
       "      <td>Albania</td>\n",
       "      <td>ALB</td>\n",
       "      <td>12.877</td>\n",
       "      <td>57.2</td>\n",
       "      <td>Ingreso medio alto</td>\n",
       "    </tr>\n",
       "    <tr>\n",
       "      <th>4</th>\n",
       "      <td>United Arab Emirates</td>\n",
       "      <td>ARE</td>\n",
       "      <td>11.044</td>\n",
       "      <td>88.0</td>\n",
       "      <td>Ingreso alto</td>\n",
       "    </tr>\n",
       "  </tbody>\n",
       "</table>\n",
       "</div>"
      ],
      "text/plain": [
       "             NombrePais CodigoPais  TasaNatalidad  UsuariosInternet  \\\n",
       "0                 Aruba        ABW         10.244              78.9   \n",
       "1           Afghanistan        AFG         35.253               5.9   \n",
       "2                Angola        AGO         45.985              19.1   \n",
       "3               Albania        ALB         12.877              57.2   \n",
       "4  United Arab Emirates        ARE         11.044              88.0   \n",
       "\n",
       "        GrupoIngresos  \n",
       "0        Ingreso alto  \n",
       "1        Ingreso bajo  \n",
       "2  Ingreso medio alto  \n",
       "3  Ingreso medio alto  \n",
       "4        Ingreso alto  "
      ]
     },
     "execution_count": 73,
     "metadata": {},
     "output_type": "execute_result"
    }
   ],
   "source": [
    "#redefinimos el dataframe datos con el drop.\n",
    "\n",
    "datos = datos.drop('MiCalculo',axis=1) \n",
    "#axis=1 indica que busca en el indice de las columnas, así busca 'MiCalculo' en la cabecera\n",
    "datos.head()  #así ya que se ha elimina la columna"
   ]
  },
  {
   "cell_type": "code",
   "execution_count": null,
   "id": "97a626c4-696b-4905-86e4-3e4cc613271f",
   "metadata": {},
   "outputs": [],
   "source": []
  },
  {
   "cell_type": "code",
   "execution_count": null,
   "id": "c3593017-0410-46be-aae3-b4b8fbf231c7",
   "metadata": {},
   "outputs": [],
   "source": []
  }
 ],
 "metadata": {
  "kernelspec": {
   "display_name": "Python 3 (ipykernel)",
   "language": "python",
   "name": "python3"
  },
  "language_info": {
   "codemirror_mode": {
    "name": "ipython",
    "version": 3
   },
   "file_extension": ".py",
   "mimetype": "text/x-python",
   "name": "python",
   "nbconvert_exporter": "python",
   "pygments_lexer": "ipython3",
   "version": "3.11.7"
  }
 },
 "nbformat": 4,
 "nbformat_minor": 5
}
